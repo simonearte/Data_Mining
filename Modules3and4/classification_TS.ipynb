{
  "cells": [
    {
      "cell_type": "markdown",
      "metadata": {
        "id": "yCugbzXOMRnq"
      },
      "source": [
        "# Imports"
      ]
    },
    {
      "cell_type": "code",
      "execution_count": 3,
      "metadata": {
        "colab": {
          "base_uri": "https://localhost:8080/"
        },
        "id": "9ukPuc0wK85y",
        "outputId": "b6c3366f-b532-4039-9981-2747449a9646"
      },
      "outputs": [
        {
          "output_type": "stream",
          "name": "stdout",
          "text": [
            "Looking in indexes: https://pypi.org/simple, https://us-python.pkg.dev/colab-wheels/public/simple/\n",
            "Requirement already satisfied: tslearn in /usr/local/lib/python3.10/dist-packages (0.5.3.2)\n",
            "Requirement already satisfied: numpy in /usr/local/lib/python3.10/dist-packages (from tslearn) (1.22.4)\n",
            "Requirement already satisfied: scipy in /usr/local/lib/python3.10/dist-packages (from tslearn) (1.10.1)\n",
            "Requirement already satisfied: scikit-learn in /usr/local/lib/python3.10/dist-packages (from tslearn) (1.2.2)\n",
            "Requirement already satisfied: numba in /usr/local/lib/python3.10/dist-packages (from tslearn) (0.56.4)\n",
            "Requirement already satisfied: joblib in /usr/local/lib/python3.10/dist-packages (from tslearn) (1.2.0)\n",
            "Requirement already satisfied: llvmlite<0.40,>=0.39.0dev0 in /usr/local/lib/python3.10/dist-packages (from numba->tslearn) (0.39.1)\n",
            "Requirement already satisfied: setuptools in /usr/local/lib/python3.10/dist-packages (from numba->tslearn) (67.7.2)\n",
            "Requirement already satisfied: threadpoolctl>=2.0.0 in /usr/local/lib/python3.10/dist-packages (from scikit-learn->tslearn) (3.1.0)\n"
          ]
        }
      ],
      "source": [
        "!pip install tslearn"
      ]
    },
    {
      "cell_type": "code",
      "execution_count": 4,
      "metadata": {
        "colab": {
          "base_uri": "https://localhost:8080/"
        },
        "id": "Bm4schHMMNlJ",
        "outputId": "fdba04c4-4e24-4a4a-a1b4-0e44220f8184"
      },
      "outputs": [
        {
          "output_type": "stream",
          "name": "stdout",
          "text": [
            "Looking in indexes: https://pypi.org/simple, https://us-python.pkg.dev/colab-wheels/public/simple/\n",
            "Requirement already satisfied: pyts in /usr/local/lib/python3.10/dist-packages (0.12.0)\n",
            "Requirement already satisfied: numpy>=1.17.5 in /usr/local/lib/python3.10/dist-packages (from pyts) (1.22.4)\n",
            "Requirement already satisfied: scipy>=1.3.0 in /usr/local/lib/python3.10/dist-packages (from pyts) (1.10.1)\n",
            "Requirement already satisfied: scikit-learn>=0.22.1 in /usr/local/lib/python3.10/dist-packages (from pyts) (1.2.2)\n",
            "Requirement already satisfied: joblib>=0.12 in /usr/local/lib/python3.10/dist-packages (from pyts) (1.2.0)\n",
            "Requirement already satisfied: numba>=0.48.0 in /usr/local/lib/python3.10/dist-packages (from pyts) (0.56.4)\n",
            "Requirement already satisfied: llvmlite<0.40,>=0.39.0dev0 in /usr/local/lib/python3.10/dist-packages (from numba>=0.48.0->pyts) (0.39.1)\n",
            "Requirement already satisfied: setuptools in /usr/local/lib/python3.10/dist-packages (from numba>=0.48.0->pyts) (67.7.2)\n",
            "Requirement already satisfied: threadpoolctl>=2.0.0 in /usr/local/lib/python3.10/dist-packages (from scikit-learn>=0.22.1->pyts) (3.1.0)\n"
          ]
        }
      ],
      "source": [
        "!pip install pyts"
      ]
    },
    {
      "cell_type": "code",
      "execution_count": 5,
      "metadata": {
        "colab": {
          "base_uri": "https://localhost:8080/"
        },
        "id": "qtG9ek5cdlkO",
        "outputId": "49b9b066-65d0-4a6a-e219-babe883ebbec"
      },
      "outputs": [
        {
          "output_type": "stream",
          "name": "stdout",
          "text": [
            "Looking in indexes: https://pypi.org/simple, https://us-python.pkg.dev/colab-wheels/public/simple/\n",
            "Requirement already satisfied: sktime in /usr/local/lib/python3.10/dist-packages (0.19.1)\n",
            "Requirement already satisfied: deprecated>=1.2.13 in /usr/local/lib/python3.10/dist-packages (from sktime) (1.2.14)\n",
            "Requirement already satisfied: numpy<1.25,>=1.21.0 in /usr/local/lib/python3.10/dist-packages (from sktime) (1.22.4)\n",
            "Requirement already satisfied: pandas<2.1.0,>=1.1.0 in /usr/local/lib/python3.10/dist-packages (from sktime) (1.5.3)\n",
            "Requirement already satisfied: packaging in /usr/local/lib/python3.10/dist-packages (from sktime) (23.1)\n",
            "Requirement already satisfied: scikit-base<0.5.0 in /usr/local/lib/python3.10/dist-packages (from sktime) (0.4.5)\n",
            "Requirement already satisfied: scikit-learn<1.3.0,>=0.24.0 in /usr/local/lib/python3.10/dist-packages (from sktime) (1.2.2)\n",
            "Requirement already satisfied: scipy<2.0.0,>=1.2.0 in /usr/local/lib/python3.10/dist-packages (from sktime) (1.10.1)\n",
            "Requirement already satisfied: wrapt<2,>=1.10 in /usr/local/lib/python3.10/dist-packages (from deprecated>=1.2.13->sktime) (1.14.1)\n",
            "Requirement already satisfied: python-dateutil>=2.8.1 in /usr/local/lib/python3.10/dist-packages (from pandas<2.1.0,>=1.1.0->sktime) (2.8.2)\n",
            "Requirement already satisfied: pytz>=2020.1 in /usr/local/lib/python3.10/dist-packages (from pandas<2.1.0,>=1.1.0->sktime) (2022.7.1)\n",
            "Requirement already satisfied: joblib>=1.1.1 in /usr/local/lib/python3.10/dist-packages (from scikit-learn<1.3.0,>=0.24.0->sktime) (1.2.0)\n",
            "Requirement already satisfied: threadpoolctl>=2.0.0 in /usr/local/lib/python3.10/dist-packages (from scikit-learn<1.3.0,>=0.24.0->sktime) (3.1.0)\n",
            "Requirement already satisfied: six>=1.5 in /usr/local/lib/python3.10/dist-packages (from python-dateutil>=2.8.1->pandas<2.1.0,>=1.1.0->sktime) (1.16.0)\n"
          ]
        }
      ],
      "source": [
        "!pip install sktime"
      ]
    },
    {
      "cell_type": "code",
      "execution_count": 76,
      "metadata": {
        "id": "RYjLCUkULpO_"
      },
      "outputs": [],
      "source": [
        "import pandas as pd\n",
        "import numpy as np\n",
        "import matplotlib.pyplot as plt\n",
        "import seaborn as sns\n",
        "import scipy.stats as sp\n",
        "\n",
        "from sklearn.model_selection import train_test_split, GridSearchCV, KFold, RandomizedSearchCV\n",
        "from sklearn.neighbors import KNeighborsClassifier\n",
        "from sklearn.linear_model import RidgeClassifierCV, LogisticRegression\n",
        "from sklearn.svm import SVC\n",
        "from sklearn.tree import DecisionTreeClassifier\n",
        "from sklearn.metrics import classification_report, accuracy_score, f1_score, roc_curve, roc_auc_score\n",
        "\n",
        "from tslearn.preprocessing import TimeSeriesScalerMinMax\n",
        "from tslearn.piecewise import PiecewiseAggregateApproximation, SymbolicAggregateApproximation\n",
        "from tslearn.shapelets import ShapeletModel\n",
        "from tslearn.shapelets import grabocka_params_to_shapelet_size_dict\n",
        "\n",
        "from pyts.transformation import ShapeletTransform\n",
        "from pyts.classification import KNeighborsClassifier as KNeighborsClassifier_pyts\n",
        "\n",
        "import keras\n",
        "from keras.models import Sequential\n",
        "from keras.layers import Dense, Dropout, GlobalAveragePooling1D\n",
        "from keras.layers import Conv1D, Activation, Conv1D, BatchNormalization\n",
        "from keras.optimizers import Adagrad\n",
        "\n",
        "from sktime.transformations.panel.rocket import Rocket, MiniRocket, MiniRocketMultivariate\n",
        "from sktime.classification.interval_based import CanonicalIntervalForest"
      ]
    },
    {
      "cell_type": "markdown",
      "metadata": {
        "id": "dYdnmeeUoZJa"
      },
      "source": [
        "# Dataset Preparation"
      ]
    },
    {
      "cell_type": "code",
      "execution_count": null,
      "metadata": {
        "colab": {
          "base_uri": "https://localhost:8080/"
        },
        "id": "5eeynGpJoVwL",
        "outputId": "d70151c9-8aa1-4775-c556-59941ae746a6"
      },
      "outputs": [
        {
          "name": "stdout",
          "output_type": "stream",
          "text": [
            "Drive already mounted at /content/drive; to attempt to forcibly remount, call drive.mount(\"/content/drive\", force_remount=True).\n"
          ]
        }
      ],
      "source": [
        "from google.colab import drive\n",
        "drive.mount('/content/drive')"
      ]
    },
    {
      "cell_type": "code",
      "execution_count": 21,
      "metadata": {
        "id": "qz5qXuz6Lsps"
      },
      "outputs": [],
      "source": [
        "train_data = np.load('/content/drive/My Drive/RavdessAudioOnlyNumpy__X_train.npy')\n",
        "#categorical_train = pd.read_csv('/content/drive/My Drive/RavdessAudioOnlyNumpy__Y_train.csv')\n",
        "test_data = np.load('/content/drive/My Drive/RavdessAudioOnlyNumpy__X_test.npy')\n",
        "#categorical_test = pd.read_csv('/content/drive/My Drive/RavdessAudioOnlyNumpy__Y_test.csv')"
      ]
    },
    {
      "cell_type": "code",
      "source": [
        "print(train_data.shape, test_data.shape)"
      ],
      "metadata": {
        "colab": {
          "base_uri": "https://localhost:8080/"
        },
        "id": "vTeRaG_qTGGV",
        "outputId": "52528c93-f782-4381-9f70-bf27de2c8749"
      },
      "execution_count": 22,
      "outputs": [
        {
          "output_type": "stream",
          "name": "stdout",
          "text": [
            "(1828, 50718) (624, 50718)\n"
          ]
        }
      ]
    },
    {
      "cell_type": "code",
      "execution_count": null,
      "metadata": {
        "id": "3xuwXo8ENE7d"
      },
      "outputs": [],
      "source": [
        "train_data = pd.DataFrame(train_data)\n",
        "test_data = pd.DataFrame(test_data)"
      ]
    },
    {
      "cell_type": "code",
      "execution_count": null,
      "metadata": {
        "id": "-z6ZYgyP7E51"
      },
      "outputs": [],
      "source": [
        "print(train_data.shape, test_data.shape)\n",
        "print(categorical_train.shape, categorical_test.shape)"
      ]
    },
    {
      "cell_type": "code",
      "execution_count": null,
      "metadata": {
        "id": "uEbadwom7wv3"
      },
      "outputs": [],
      "source": [
        "# computing the average length in TR\n",
        "lengths = []\n",
        "for index, row in train_data.iterrows():\n",
        "  lengths.append(len(row.dropna()))\n",
        "print(np.mean(lengths))"
      ]
    },
    {
      "cell_type": "code",
      "execution_count": null,
      "metadata": {
        "id": "eeZvTsr-8Uvx"
      },
      "outputs": [],
      "source": [
        "new_train_data = train_data.loc[:, :32431]\n",
        "new_test_data = test_data.loc[:, :32431]"
      ]
    },
    {
      "cell_type": "code",
      "execution_count": null,
      "metadata": {
        "id": "TwFbhVbpHPEe"
      },
      "outputs": [],
      "source": [
        "print(new_train_data.shape, new_test_data.shape)"
      ]
    },
    {
      "cell_type": "code",
      "execution_count": null,
      "metadata": {
        "id": "gElZi6XAARLa"
      },
      "outputs": [],
      "source": [
        "# function for replacing NaN with mean value of row\n",
        "\n",
        "def replace_nan(df):\n",
        "  new_rows = []\n",
        "  for index, row in df.iterrows():\n",
        "      new_row = []\n",
        "      mean = np.mean(df.iloc[index].dropna())\n",
        "      if np.isnan(mean):\n",
        "          continue\n",
        "      for value in row:\n",
        "          if np.isnan(value):\n",
        "              new_row.append(mean)\n",
        "          else:\n",
        "              new_row.append(value)\n",
        "      new_rows.append(new_row)\n",
        "\n",
        "  return pd.DataFrame(new_rows)"
      ]
    },
    {
      "cell_type": "code",
      "execution_count": null,
      "metadata": {
        "id": "i-LKz-RgIABk"
      },
      "outputs": [],
      "source": [
        "filled_train = replace_nan(new_train_data)\n",
        "filled_test = replace_nan(new_test_data)"
      ]
    },
    {
      "cell_type": "code",
      "execution_count": null,
      "metadata": {
        "id": "dvEOj0MW5j-F"
      },
      "outputs": [],
      "source": [
        "filled_train.to_csv('TS_X_train_reduced.csv')\n",
        "filled_test.to_csv('TS_X_test_reduced.csv')"
      ]
    },
    {
      "cell_type": "markdown",
      "metadata": {
        "id": "f3YMDe98MWvM"
      },
      "source": [
        "# Data Preparation"
      ]
    },
    {
      "cell_type": "code",
      "execution_count": 7,
      "metadata": {
        "colab": {
          "base_uri": "https://localhost:8080/"
        },
        "id": "DbueqiPvLrth",
        "outputId": "4f9d2104-85f4-4264-b898-10f18a4e923a"
      },
      "outputs": [
        {
          "output_type": "stream",
          "name": "stdout",
          "text": [
            "Drive already mounted at /content/drive; to attempt to forcibly remount, call drive.mount(\"/content/drive\", force_remount=True).\n"
          ]
        }
      ],
      "source": [
        "from google.colab import drive\n",
        "drive.mount('/content/drive')"
      ]
    },
    {
      "cell_type": "code",
      "execution_count": 8,
      "metadata": {
        "id": "1oGLYwxwZDjL"
      },
      "outputs": [],
      "source": [
        "X_train = pd.read_csv('/content/drive/My Drive/TS_X_train_reduced.csv')\n",
        "X_test = pd.read_csv('/content/drive/My Drive/TS_X_test_reduced.csv')\n",
        "categorical_train = pd.read_csv('/content/drive/My Drive/RavdessAudioOnlyNumpy__Y_train.csv')\n",
        "categorical_test = pd.read_csv('/content/drive/My Drive/RavdessAudioOnlyNumpy__Y_test.csv')"
      ]
    },
    {
      "cell_type": "code",
      "execution_count": 9,
      "metadata": {
        "id": "1UedhYEjpoAr"
      },
      "outputs": [],
      "source": [
        "X_train.drop('Unnamed: 0', axis=1, inplace=True)\n",
        "X_test.drop('Unnamed: 0', axis=1, inplace=True)"
      ]
    },
    {
      "cell_type": "code",
      "execution_count": 10,
      "metadata": {
        "id": "bb3wbNJqLO1h"
      },
      "outputs": [],
      "source": [
        "#scaler = TimeSeriesScalerMinMax() # di default normalizza per riga\n",
        "#X_train = pd.DataFrame(scaler.fit_transform(X_train).reshape(X_train.shape[0], X_train.shape[1]))\n",
        "#X_test = pd.DataFrame(scaler.fit_transform(X_test).reshape(X_test.shape[0], X_test.shape[1]))"
      ]
    },
    {
      "cell_type": "code",
      "execution_count": 11,
      "metadata": {
        "id": "eY9QBDO1ImD3"
      },
      "outputs": [],
      "source": [
        "#print(X_train.shape, X_test.shape)"
      ]
    },
    {
      "cell_type": "code",
      "execution_count": 12,
      "metadata": {
        "id": "Ig9BAdl9C8En"
      },
      "outputs": [],
      "source": [
        "# moving average\n",
        "def moving_average(df, w):\n",
        "  new_df = []\n",
        "  for index, ts in df.iterrows():\n",
        "    ts = (ts - ts.mean()/ts.std()).rolling(window=w).mean()\n",
        "    new_df.append(ts)\n",
        "  return pd.DataFrame(new_df)"
      ]
    },
    {
      "cell_type": "code",
      "execution_count": 13,
      "metadata": {
        "id": "8-cHRyzZE1mz"
      },
      "outputs": [],
      "source": [
        "X_train_ma = moving_average(X_train, 3)\n",
        "X_train_ma.drop(['0', '1'], axis=1, inplace=True)"
      ]
    },
    {
      "cell_type": "code",
      "execution_count": 14,
      "metadata": {
        "id": "ebeQsqOdIIV0"
      },
      "outputs": [],
      "source": [
        "X_test_ma = moving_average(X_test, 3)\n",
        "X_test_ma.drop(['0', '1'], axis=1, inplace=True)"
      ]
    },
    {
      "cell_type": "code",
      "execution_count": 15,
      "metadata": {
        "colab": {
          "base_uri": "https://localhost:8080/"
        },
        "id": "gnVkJf2vHbEJ",
        "outputId": "c54fcd40-8731-45c6-c931-c64acf7a5b34"
      },
      "outputs": [
        {
          "output_type": "stream",
          "name": "stdout",
          "text": [
            "(1828, 32430) (624, 32430)\n"
          ]
        }
      ],
      "source": [
        "print(X_train_ma.shape, X_test_ma.shape)"
      ]
    },
    {
      "cell_type": "code",
      "source": [
        "# rocket pre-processing\n",
        "def rocket(array, num_kernels=10000, random_state=42, normalise=False):\n",
        "  ts = [pd.Series(row) for row in array]\n",
        "  df = pd.DataFrame()\n",
        "  df['ts'] = ts\n",
        "  rocket = Rocket(num_kernels=num_kernels, random_state=random_state, normalise=normalise)\n",
        "  X = rocket.fit_transform(df)\n",
        "  return X"
      ],
      "metadata": {
        "id": "Z8OgSRrdjRI-"
      },
      "execution_count": 16,
      "outputs": []
    },
    {
      "cell_type": "code",
      "source": [
        "def minirocket(array, num_kernels=10000, random_state=42, normalise=False):\n",
        "  ts = [pd.Series(row) for row in array]\n",
        "  df = pd.DataFrame()\n",
        "  df['ts'] = ts\n",
        "  rocket = MiniRocket(num_kernels=num_kernels, random_state=random_state, normalise=normalise)\n",
        "  X = rocket.fit_transform(df)\n",
        "  return X"
      ],
      "metadata": {
        "id": "DyRdqxV7jvEH"
      },
      "execution_count": 17,
      "outputs": []
    },
    {
      "cell_type": "code",
      "source": [
        "X_train_rocket = rocket(X_train)\n",
        "X_test_rocket = rocket(X_test)"
      ],
      "metadata": {
        "id": "zIkDZQM3j5dF"
      },
      "execution_count": 18,
      "outputs": []
    },
    {
      "cell_type": "code",
      "source": [
        "print(X_train_rocket.shape, X_test_rocket.shape)"
      ],
      "metadata": {
        "colab": {
          "base_uri": "https://localhost:8080/"
        },
        "id": "nikFZ06Ij_Hj",
        "outputId": "41915229-f81b-4b24-fac2-ddb3044a0849"
      },
      "execution_count": 19,
      "outputs": [
        {
          "output_type": "stream",
          "name": "stdout",
          "text": [
            "(32432, 20000) (32432, 20000)\n"
          ]
        }
      ]
    },
    {
      "cell_type": "code",
      "source": [
        "def get_shapelets(X, y, window_sizes, random_state=42):\n",
        "    st = ShapeletTransform(window_sizes=window_sizes,\n",
        "                           random_state=random_state, sort=True)\n",
        "    X_new = st.fit_transform(X_train)\n",
        "    return X_new"
      ],
      "metadata": {
        "id": "nA2QCwB8OzTL"
      },
      "execution_count": 20,
      "outputs": []
    },
    {
      "cell_type": "markdown",
      "metadata": {
        "id": "CtPC96crIzLT"
      },
      "source": [
        "# Target: **Vocal** **Channel**"
      ]
    },
    {
      "cell_type": "markdown",
      "metadata": {
        "id": "PMHGWqMUdY0h"
      },
      "source": [
        "## Data Preparation: PAA"
      ]
    },
    {
      "cell_type": "code",
      "execution_count": 172,
      "metadata": {
        "id": "N0P81ZL5TEh0"
      },
      "outputs": [],
      "source": [
        "def label_encoder(array):\n",
        "  new_array = np.zeros(len(array))\n",
        "  for i in range(len(array)):\n",
        "    if array[i] == \"song\":\n",
        "      new_array[i] = 1\n",
        "  return new_array"
      ]
    },
    {
      "cell_type": "code",
      "execution_count": 173,
      "metadata": {
        "id": "OOwpaNWrIyYE"
      },
      "outputs": [],
      "source": [
        "y_train = categorical_train['vocal_channel']\n",
        "y_test = categorical_test['vocal_channel']\n",
        "y_train = label_encoder(y_train)\n",
        "y_test = label_encoder(y_test)"
      ]
    },
    {
      "cell_type": "code",
      "execution_count": 174,
      "metadata": {
        "id": "ks4S9o3yd-Su"
      },
      "outputs": [],
      "source": [
        "n_paa_segments = 300\n",
        "paa = PiecewiseAggregateApproximation(n_segments=n_paa_segments)"
      ]
    },
    {
      "cell_type": "code",
      "execution_count": 175,
      "metadata": {
        "colab": {
          "base_uri": "https://localhost:8080/"
        },
        "id": "VmEC32SudkcJ",
        "outputId": "111442aa-5280-4f1d-a5d8-e4db73f7dc92"
      },
      "outputs": [
        {
          "output_type": "stream",
          "name": "stderr",
          "text": [
            "/usr/local/lib/python3.10/dist-packages/tslearn/utils/utils.py:88: UserWarning: 2-Dimensional data passed. Assuming these are 1828 1-dimensional timeseries\n",
            "  warnings.warn('2-Dimensional data passed. Assuming these are '\n"
          ]
        }
      ],
      "source": [
        "X_train = paa.fit_transform(X_train_ma)\n",
        "X_train = X_train.reshape(X_train.shape[0], X_train.shape[1])"
      ]
    },
    {
      "cell_type": "code",
      "execution_count": 176,
      "metadata": {
        "colab": {
          "base_uri": "https://localhost:8080/"
        },
        "id": "B2HNij2GTA3V",
        "outputId": "5579316f-2deb-4979-f86d-14f0c28d9953"
      },
      "outputs": [
        {
          "output_type": "stream",
          "name": "stdout",
          "text": [
            "(1828, 300) (1828,)\n"
          ]
        }
      ],
      "source": [
        "print(X_train.shape, y_train.shape)"
      ]
    },
    {
      "cell_type": "code",
      "execution_count": 177,
      "metadata": {
        "colab": {
          "base_uri": "https://localhost:8080/"
        },
        "id": "IemlVVplGnB3",
        "outputId": "23cf127c-b7e1-44ae-f4b7-8530a1c4180f"
      },
      "outputs": [
        {
          "output_type": "stream",
          "name": "stderr",
          "text": [
            "/usr/local/lib/python3.10/dist-packages/tslearn/utils/utils.py:88: UserWarning: 2-Dimensional data passed. Assuming these are 624 1-dimensional timeseries\n",
            "  warnings.warn('2-Dimensional data passed. Assuming these are '\n"
          ]
        }
      ],
      "source": [
        "X_test = paa.fit_transform(X_test_ma)\n",
        "X_test = X_test.reshape(X_test.shape[0], X_test.shape[1])"
      ]
    },
    {
      "cell_type": "code",
      "execution_count": 178,
      "metadata": {
        "colab": {
          "base_uri": "https://localhost:8080/"
        },
        "id": "f1IP58HrdluH",
        "outputId": "ef182bd4-3676-4c1b-fab3-a020ad635742"
      },
      "outputs": [
        {
          "output_type": "stream",
          "name": "stdout",
          "text": [
            "(624, 300) (624,)\n"
          ]
        }
      ],
      "source": [
        "print(X_test.shape, y_test.shape)"
      ]
    },
    {
      "cell_type": "code",
      "execution_count": 179,
      "metadata": {
        "id": "tAW8z7-XdvYg"
      },
      "outputs": [],
      "source": [
        "X_train2, X_val, y_train2, y_val = train_test_split(X_train, y_train, test_size=0.2, shuffle=True, random_state=42, stratify=y_train)"
      ]
    },
    {
      "cell_type": "code",
      "execution_count": 180,
      "metadata": {
        "colab": {
          "base_uri": "https://localhost:8080/"
        },
        "id": "D8SOddHUd2zN",
        "outputId": "9aac0392-273d-40c7-b191-03376ac9f81e"
      },
      "outputs": [
        {
          "output_type": "stream",
          "name": "stdout",
          "text": [
            "(1462, 300) (1462,)\n",
            "(366, 300) (366,)\n"
          ]
        }
      ],
      "source": [
        "print(X_train2.shape, y_train2.shape)\n",
        "print(X_val.shape, y_val.shape)"
      ]
    },
    {
      "cell_type": "code",
      "execution_count": 181,
      "metadata": {
        "colab": {
          "base_uri": "https://localhost:8080/",
          "height": 0
        },
        "id": "q-5qHlz0L1nJ",
        "outputId": "d177b21c-8bf8-41ab-93e1-30e0481784ac"
      },
      "outputs": [
        {
          "output_type": "display_data",
          "data": {
            "text/plain": [
              "<Figure size 1500x500 with 1 Axes>"
            ],
            "image/png": "[encoded data removed]"
          },
          "metadata": {}
        }
      ],
      "source": [
        "plt.figure(figsize=(15, 5))\n",
        "plt.plot(X_train[0])\n",
        "plt.show()"
      ]
    },
    {
      "cell_type": "markdown",
      "metadata": {
        "id": "e1G-2-_Zrmn5"
      },
      "source": [
        "## Data Preparation: SAX"
      ]
    },
    {
      "cell_type": "code",
      "execution_count": null,
      "metadata": {
        "id": "qZtJsRK7-VHp"
      },
      "outputs": [],
      "source": [
        "def label_encoder(array):\n",
        "  new_array = np.zeros(len(array))\n",
        "  for i in range(len(array)):\n",
        "    if array[i] == \"song\":\n",
        "      new_array[i] = 1\n",
        "  return new_array"
      ]
    },
    {
      "cell_type": "code",
      "execution_count": null,
      "metadata": {
        "id": "ut2MXGgO-VH0"
      },
      "outputs": [],
      "source": [
        "y_train = categorical_train['vocal_channel']\n",
        "y_test = categorical_test['vocal_channel']\n",
        "y_train = label_encoder(y_train)\n",
        "y_test = label_encoder(y_test)"
      ]
    },
    {
      "cell_type": "code",
      "execution_count": null,
      "metadata": {
        "id": "Y0UR_YyegeaF"
      },
      "outputs": [],
      "source": [
        "n_segments = 1000\n",
        "alphabet_size_avg = 50\n",
        "sax = SymbolicAggregateApproximation(n_segments=n_segments, alphabet_size_avg=alphabet_size_avg)"
      ]
    },
    {
      "cell_type": "code",
      "execution_count": null,
      "metadata": {
        "colab": {
          "base_uri": "https://localhost:8080/"
        },
        "id": "ryq7g2lXgeaG",
        "outputId": "f89476c5-a8e1-4b57-d5c0-70db36f97633"
      },
      "outputs": [
        {
          "name": "stderr",
          "output_type": "stream",
          "text": [
            "/usr/local/lib/python3.10/dist-packages/tslearn/utils/utils.py:88: UserWarning: 2-Dimensional data passed. Assuming these are 1828 1-dimensional timeseries\n",
            "  warnings.warn('2-Dimensional data passed. Assuming these are '\n"
          ]
        }
      ],
      "source": [
        "X_train = sax.fit_transform(X_train_ma)\n",
        "X_train = X_train.reshape(X_train.shape[0], X_train.shape[1])"
      ]
    },
    {
      "cell_type": "code",
      "execution_count": null,
      "metadata": {
        "colab": {
          "base_uri": "https://localhost:8080/"
        },
        "id": "lVgk-6wQgeaG",
        "outputId": "5d24b62c-e6f1-47fc-ec1a-cc7d1acc4bb3"
      },
      "outputs": [
        {
          "name": "stdout",
          "output_type": "stream",
          "text": [
            "(1828, 1000) (1828,)\n"
          ]
        }
      ],
      "source": [
        "print(X_train.shape, y_train.shape)"
      ]
    },
    {
      "cell_type": "code",
      "execution_count": null,
      "metadata": {
        "colab": {
          "base_uri": "https://localhost:8080/"
        },
        "id": "JfhtyRoEgeaG",
        "outputId": "19926b66-5f5c-4339-a02f-95e2f19d7d28"
      },
      "outputs": [
        {
          "name": "stderr",
          "output_type": "stream",
          "text": [
            "/usr/local/lib/python3.10/dist-packages/tslearn/utils/utils.py:88: UserWarning: 2-Dimensional data passed. Assuming these are 624 1-dimensional timeseries\n",
            "  warnings.warn('2-Dimensional data passed. Assuming these are '\n"
          ]
        }
      ],
      "source": [
        "X_test = sax.fit_transform(X_test_ma)\n",
        "X_test = X_test.reshape(X_test.shape[0], X_test.shape[1])"
      ]
    },
    {
      "cell_type": "code",
      "execution_count": null,
      "metadata": {
        "colab": {
          "base_uri": "https://localhost:8080/"
        },
        "id": "vjP5kGOmgeaH",
        "outputId": "407886cd-baf5-4b92-e85b-7b5ff688a83b"
      },
      "outputs": [
        {
          "name": "stdout",
          "output_type": "stream",
          "text": [
            "(624, 1000) (624,)\n"
          ]
        }
      ],
      "source": [
        "print(X_test.shape, y_test.shape)"
      ]
    },
    {
      "cell_type": "code",
      "execution_count": null,
      "metadata": {
        "id": "G6ISFBvPgeaH"
      },
      "outputs": [],
      "source": [
        "X_train2, X_val, y_train2, y_val = train_test_split(X_train, y_train, test_size=0.2, shuffle=True, random_state=42, stratify=y_train)"
      ]
    },
    {
      "cell_type": "code",
      "execution_count": null,
      "metadata": {
        "colab": {
          "base_uri": "https://localhost:8080/"
        },
        "id": "2XiCpnfBgeaH",
        "outputId": "13517f8e-ee01-4ade-ee70-5ac2c6942617"
      },
      "outputs": [
        {
          "name": "stdout",
          "output_type": "stream",
          "text": [
            "(1462, 1000) (1462,)\n",
            "(366, 1000) (366,)\n"
          ]
        }
      ],
      "source": [
        "print(X_train2.shape, y_train2.shape)\n",
        "print(X_val.shape, y_val.shape)"
      ]
    },
    {
      "cell_type": "code",
      "execution_count": null,
      "metadata": {
        "colab": {
          "base_uri": "https://localhost:8080/",
          "height": 445
        },
        "id": "f3w-4GiCgeaH",
        "outputId": "c5c631e2-c39c-49c5-976b-7b21160f5eda"
      },
      "outputs": [
        {
          "data": {
            "image/png": "[encoded data removed]",
            "text/plain": [
              "<Figure size 1500x500 with 1 Axes>"
            ]
          },
          "metadata": {},
          "output_type": "display_data"
        }
      ],
      "source": [
        "plt.figure(figsize=(15, 5))\n",
        "plt.plot(X_train[0])\n",
        "plt.show()"
      ]
    },
    {
      "cell_type": "markdown",
      "metadata": {
        "id": "UTagc-O-ddoF"
      },
      "source": [
        "## Training"
      ]
    },
    {
      "cell_type": "code",
      "execution_count": null,
      "metadata": {
        "colab": {
          "base_uri": "https://localhost:8080/"
        },
        "id": "vXkfB5AiRWZX",
        "outputId": "86e95f4d-2ba4-47bd-9868-6a34eefe4ff2"
      },
      "outputs": [
        {
          "name": "stdout",
          "output_type": "stream",
          "text": [
            "0.5919208233510099 KNeighborsClassifier(metric='euclidean', n_neighbors=20, weights='distance')\n"
          ]
        }
      ],
      "source": [
        "# KNN Minkowski\n",
        "param_grid = {'n_neighbors': np.arange(2, X_train.shape[0]//2),\n",
        "              'metric': ['euclidean', 'cityblock'],\n",
        "              'weights': ['uniform', 'distance']\n",
        "              }\n",
        "\n",
        "search = RandomizedSearchCV(KNeighborsClassifier(),\n",
        "                      param_grid,\n",
        "                      cv=KFold(3, shuffle=True, random_state=42),\n",
        "                      n_iter=100,\n",
        "                      n_jobs=-1,\n",
        "                      scoring='accuracy'\n",
        "                      )\n",
        "search.fit(X_train, y_train)\n",
        "print(search.best_score_, search.best_estimator_)"
      ]
    },
    {
      "cell_type": "code",
      "execution_count": null,
      "metadata": {
        "colab": {
          "base_uri": "https://localhost:8080/"
        },
        "id": "jfFVUEd1FnM8",
        "outputId": "6027e692-cbe1-42cb-b3ed-151626cdd7b5"
      },
      "outputs": [
        {
          "name": "stdout",
          "output_type": "stream",
          "text": [
            "              precision    recall  f1-score   support\n",
            "\n",
            "         0.0       0.59      0.99      0.74       360\n",
            "         1.0       0.74      0.05      0.10       264\n",
            "\n",
            "    accuracy                           0.59       624\n",
            "   macro avg       0.66      0.52      0.42       624\n",
            "weighted avg       0.65      0.59      0.47       624\n",
            "\n"
          ]
        }
      ],
      "source": [
        "clf = search.best_estimator_\n",
        "clf.fit(X_train, y_train)\n",
        "y_pred = clf.predict(X_test)\n",
        "print(classification_report(y_test, y_pred))"
      ]
    },
    {
      "cell_type": "code",
      "execution_count": null,
      "metadata": {
        "colab": {
          "base_uri": "https://localhost:8080/",
          "height": 430
        },
        "id": "MWhM9gXESOmw",
        "outputId": "22208bf6-6446-4f07-9b42-4e01691afa71"
      },
      "outputs": [
        {
          "data": {
            "image/png": "[encoded data removed]",
            "text/plain": [
              "<Figure size 640x480 with 1 Axes>"
            ]
          },
          "metadata": {},
          "output_type": "display_data"
        }
      ],
      "source": [
        "# ROC\n",
        "y_pred_proba = clf.predict(X_test)\n",
        "fpr, tpr, _ = roc_curve(y_test,  y_pred_proba)\n",
        "auc = roc_auc_score(y_test, y_pred_proba)\n",
        "plt.plot(fpr,tpr,label=\"AUC=\"+str(round(auc, 2)))\n",
        "plt.legend(loc=4)\n",
        "plt.show()"
      ]
    },
    {
      "cell_type": "code",
      "execution_count": null,
      "metadata": {
        "colab": {
          "base_uri": "https://localhost:8080/"
        },
        "id": "ZBIF76_DESMB",
        "outputId": "ea3c1b53-2335-4927-84f1-23cb35f18f47"
      },
      "outputs": [
        {
          "name": "stdout",
          "output_type": "stream",
          "text": [
            "              precision    recall  f1-score   support\n",
            "\n",
            "         0.0       0.65      0.84      0.73       216\n",
            "         1.0       0.61      0.36      0.45       150\n",
            "\n",
            "    accuracy                           0.64       366\n",
            "   macro avg       0.63      0.60      0.59       366\n",
            "weighted avg       0.63      0.64      0.62       366\n",
            "\n"
          ]
        }
      ],
      "source": [
        "# KNN DTW: with PAA = 300 about 6 mins\n",
        "clf = KNeighborsClassifier_pyts(n_neighbors=700, \n",
        "                                metric='dtw_sakoechiba', \n",
        "                                weights='distance',\n",
        "                                n_jobs=-1,\n",
        "                                metric_params={'window_size': 0.1})\n",
        "clf.fit(X_train2, y_train2)\n",
        "y_pred = clf.predict(X_val)\n",
        "print(classification_report(y_val, y_pred))"
      ]
    },
    {
      "cell_type": "code",
      "execution_count": null,
      "metadata": {
        "colab": {
          "base_uri": "https://localhost:8080/"
        },
        "id": "fBpXvaCc_1bX",
        "outputId": "4004995a-4f2e-4fe1-9d55-0f6259396d3f"
      },
      "outputs": [
        {
          "name": "stdout",
          "output_type": "stream",
          "text": [
            "              precision    recall  f1-score   support\n",
            "\n",
            "         0.0       0.70      0.93      0.80       360\n",
            "         1.0       0.82      0.47      0.59       264\n",
            "\n",
            "    accuracy                           0.73       624\n",
            "   macro avg       0.76      0.70      0.70       624\n",
            "weighted avg       0.75      0.73      0.71       624\n",
            "\n"
          ]
        }
      ],
      "source": [
        "y_pred = clf.predict(X_test)\n",
        "print(classification_report(y_test, y_pred))"
      ]
    },
    {
      "cell_type": "code",
      "execution_count": null,
      "metadata": {
        "colab": {
          "base_uri": "https://localhost:8080/"
        },
        "id": "qfsoGPyBQrLp",
        "outputId": "a844adc2-a19d-4383-8717-f6397c2656c9"
      },
      "outputs": [
        {
          "name": "stdout",
          "output_type": "stream",
          "text": [
            "              precision    recall  f1-score   support\n",
            "\n",
            "         0.0       0.97      0.91      0.94       216\n",
            "         1.0       0.88      0.95      0.92       150\n",
            "\n",
            "    accuracy                           0.93       366\n",
            "   macro avg       0.92      0.93      0.93       366\n",
            "weighted avg       0.93      0.93      0.93       366\n",
            "\n"
          ]
        }
      ],
      "source": [
        "# CIF\n",
        "clf = CanonicalIntervalForest(n_estimators=30)\n",
        "clf.fit(X_train2, y_train2)\n",
        "y_pred = clf.predict(X_val)\n",
        "print(classification_report(y_val, y_pred))"
      ]
    },
    {
      "cell_type": "code",
      "execution_count": null,
      "metadata": {
        "colab": {
          "background_save": true
        },
        "id": "m1AyE-LRd-RG",
        "outputId": "3ac25b4b-1c30-47e6-b066-d9aa25d29e92"
      },
      "outputs": [
        {
          "name": "stdout",
          "output_type": "stream",
          "text": [
            "              precision    recall  f1-score   support\n",
            "\n",
            "         0.0       0.98      0.92      0.95       216\n",
            "         1.0       0.89      0.97      0.93       150\n",
            "\n",
            "    accuracy                           0.94       366\n",
            "   macro avg       0.93      0.94      0.94       366\n",
            "weighted avg       0.94      0.94      0.94       366\n",
            "\n"
          ]
        }
      ],
      "source": [
        "clf = CanonicalIntervalForest(n_estimators=100)\n",
        "clf.fit(X_train2, y_train2)\n",
        "y_pred = clf.predict(X_val)\n",
        "print(classification_report(y_val, y_pred))"
      ]
    },
    {
      "cell_type": "markdown",
      "source": [
        "### Shapelet-Based"
      ],
      "metadata": {
        "id": "ZHWg9XKQLfpS"
      }
    },
    {
      "cell_type": "code",
      "source": [
        "n_ts, ts_sz = X_train.shape\n",
        "n_classes = len(set(y_train))\n",
        "\n",
        "# Set the number of shapelets per size as done in the original paper\n",
        "shapelet_sizes = grabocka_params_to_shapelet_size_dict(n_ts=n_ts,\n",
        "                                                       ts_sz=ts_sz,\n",
        "                                                       n_classes=n_classes,\n",
        "                                                       l=0.1,\n",
        "                                                       r=1)\n",
        "\n",
        "print('n_ts', n_ts)\n",
        "print('ts_sz', ts_sz)\n",
        "print('n_classes', n_classes)\n",
        "print('shapelet_sizes', shapelet_sizes)"
      ],
      "metadata": {
        "colab": {
          "base_uri": "https://localhost:8080/"
        },
        "id": "iH2DeEcdLfGL",
        "outputId": "3526939f-5726-4963-8724-3487c7a9d087"
      },
      "execution_count": 182,
      "outputs": [
        {
          "output_type": "stream",
          "name": "stdout",
          "text": [
            "n_ts 1828\n",
            "ts_sz 300\n",
            "n_classes 2\n",
            "shapelet_sizes {30: 5}\n"
          ]
        }
      ]
    },
    {
      "cell_type": "code",
      "source": [
        "shp_clf = ShapeletModel(n_shapelets_per_size=shapelet_sizes,\n",
        "                        optimizer=\"sgd\",\n",
        "                        weight_regularizer=.01,\n",
        "                        max_iter=200,\n",
        "                        verbose=0)"
      ],
      "metadata": {
        "colab": {
          "base_uri": "https://localhost:8080/"
        },
        "id": "fECsA3Z2MJHd",
        "outputId": "7dd3eb7c-2943-4d6f-fd5e-29293d4c767e"
      },
      "execution_count": 183,
      "outputs": [
        {
          "output_type": "stream",
          "name": "stderr",
          "text": [
            "/usr/local/lib/python3.10/dist-packages/tslearn/shapelets/shapelets.py:354: FutureWarning: The default value for 'scale' is set to False in version 0.4 to ensure backward compatibility, but is likely to change in a future version.\n",
            "  warnings.warn(\"The default value for 'scale' is set to False \"\n"
          ]
        }
      ]
    },
    {
      "cell_type": "code",
      "source": [
        "X_train_shap = shp_clf.fit_transform(X_train, y_train)\n",
        "X_test_shap = shp_clf.fit_transform(X_test, y_test)"
      ],
      "metadata": {
        "id": "NHrC61XwVQJt"
      },
      "execution_count": 184,
      "outputs": []
    },
    {
      "cell_type": "code",
      "source": [
        "print(X_train_shap.shape)\n",
        "print(X_test_shap.shape)"
      ],
      "metadata": {
        "colab": {
          "base_uri": "https://localhost:8080/"
        },
        "id": "VIeWoj-fWsnx",
        "outputId": "185a5765-2ab5-4297-cfb2-89e4894d5f71"
      },
      "execution_count": 185,
      "outputs": [
        {
          "output_type": "stream",
          "name": "stdout",
          "text": [
            "(1828, 5)\n",
            "(624, 5)\n"
          ]
        }
      ]
    },
    {
      "cell_type": "code",
      "source": [
        "# train-val split\n",
        "X_train_shap2, X_val_shap, y_train_shap2, y_val_shap = train_test_split(X_train_shap, y_train, test_size=0.2, shuffle=True, random_state=42)"
      ],
      "metadata": {
        "id": "oLuJLS2QWCqI"
      },
      "execution_count": 186,
      "outputs": []
    },
    {
      "cell_type": "code",
      "source": [
        "print(X_train_shap2.shape, y_train_shap2.shape)\n",
        "print(X_val_shap.shape, y_val_shap.shape)"
      ],
      "metadata": {
        "colab": {
          "base_uri": "https://localhost:8080/"
        },
        "id": "X7EALf33Wxxk",
        "outputId": "5d9ab81b-926a-4568-984a-7664c0232734"
      },
      "execution_count": 187,
      "outputs": [
        {
          "output_type": "stream",
          "name": "stdout",
          "text": [
            "(1462, 5) (1462,)\n",
            "(366, 5) (366,)\n"
          ]
        }
      ]
    },
    {
      "cell_type": "code",
      "source": [
        "param_grid = {\n",
        "    \"min_samples_split\": sp.loguniform(1e-2, 1e0),\n",
        "    \"min_samples_leaf\": sp.uniform(0.001, 0.2),\n",
        "    \"max_depth\": sp.randint(2, 200),\n",
        "    \"criterion\": [\"gini\", \"entropy\", \"log_loss\"], \n",
        "}\n",
        "\n",
        "search = RandomizedSearchCV(DecisionTreeClassifier(),\n",
        "                            param_distributions=param_grid,\n",
        "                            cv=KFold(3, shuffle=True, random_state=42),\n",
        "                            n_iter=50,\n",
        "                            n_jobs=-1,\n",
        "                            scoring='accuracy')\n",
        "\n",
        "search.fit(X_train_shap, y_train)\n",
        "print(search.best_score_, search.best_estimator_)"
      ],
      "metadata": {
        "colab": {
          "base_uri": "https://localhost:8080/"
        },
        "id": "5ru83mWpWORt",
        "outputId": "c9b73c31-f730-48b7-ca9d-156d7717a44a"
      },
      "execution_count": 188,
      "outputs": [
        {
          "output_type": "stream",
          "name": "stdout",
          "text": [
            "0.6263641013217045 DecisionTreeClassifier(max_depth=119, min_samples_leaf=0.05313547777395396,\n",
            "                       min_samples_split=0.01092945265171169)\n"
          ]
        }
      ]
    },
    {
      "cell_type": "code",
      "source": [
        "clf = search.best_estimator_\n",
        "y_pred = clf.predict(X_val_shap)\n",
        "print(classification_report(y_val_shap, y_pred))"
      ],
      "metadata": {
        "colab": {
          "base_uri": "https://localhost:8080/"
        },
        "id": "WZY8szuoWYnB",
        "outputId": "cc151fde-04b6-432a-8bcc-812d4b929d48"
      },
      "execution_count": 189,
      "outputs": [
        {
          "output_type": "stream",
          "name": "stdout",
          "text": [
            "              precision    recall  f1-score   support\n",
            "\n",
            "         0.0       0.63      0.88      0.73       203\n",
            "         1.0       0.70      0.36      0.47       163\n",
            "\n",
            "    accuracy                           0.64       366\n",
            "   macro avg       0.66      0.62      0.60       366\n",
            "weighted avg       0.66      0.64      0.62       366\n",
            "\n"
          ]
        }
      ]
    },
    {
      "cell_type": "code",
      "source": [
        "clf = search.best_estimator_\n",
        "y_pred = clf.predict(X_test_shap)\n",
        "print(classification_report(y_test, y_pred))"
      ],
      "metadata": {
        "colab": {
          "base_uri": "https://localhost:8080/"
        },
        "id": "QSUwX2fwaWQs",
        "outputId": "ff920985-039b-462c-e168-3dc52614dac0"
      },
      "execution_count": 190,
      "outputs": [
        {
          "output_type": "stream",
          "name": "stdout",
          "text": [
            "              precision    recall  f1-score   support\n",
            "\n",
            "         0.0       0.58      1.00      0.73       360\n",
            "         1.0       0.00      0.00      0.00       264\n",
            "\n",
            "    accuracy                           0.58       624\n",
            "   macro avg       0.29      0.50      0.37       624\n",
            "weighted avg       0.33      0.58      0.42       624\n",
            "\n"
          ]
        },
        {
          "output_type": "stream",
          "name": "stderr",
          "text": [
            "/usr/local/lib/python3.10/dist-packages/sklearn/metrics/_classification.py:1344: UndefinedMetricWarning: Precision and F-score are ill-defined and being set to 0.0 in labels with no predicted samples. Use `zero_division` parameter to control this behavior.\n",
            "  _warn_prf(average, modifier, msg_start, len(result))\n",
            "/usr/local/lib/python3.10/dist-packages/sklearn/metrics/_classification.py:1344: UndefinedMetricWarning: Precision and F-score are ill-defined and being set to 0.0 in labels with no predicted samples. Use `zero_division` parameter to control this behavior.\n",
            "  _warn_prf(average, modifier, msg_start, len(result))\n",
            "/usr/local/lib/python3.10/dist-packages/sklearn/metrics/_classification.py:1344: UndefinedMetricWarning: Precision and F-score are ill-defined and being set to 0.0 in labels with no predicted samples. Use `zero_division` parameter to control this behavior.\n",
            "  _warn_prf(average, modifier, msg_start, len(result))\n"
          ]
        }
      ]
    },
    {
      "cell_type": "code",
      "source": [
        "param_grid = {\n",
        "              'n_neighbors': np.arange(2, X_train_shap.shape[0]//2),\n",
        "              'weights': ['uniform', 'distance'],\n",
        "              'metric': ['euclidean', 'cityblock']\n",
        "             }\n",
        "\n",
        "search = RandomizedSearchCV(KNeighborsClassifier(),\n",
        "                            param_distributions=param_grid,\n",
        "                            cv=KFold(3, shuffle=True, random_state=42),\n",
        "                            n_iter=50,\n",
        "                            n_jobs=-1,\n",
        "                            scoring='accuracy')\n",
        "\n",
        "search.fit(X_train_shap, y_train)\n",
        "print(search.best_score_, search.best_estimator_)"
      ],
      "metadata": {
        "colab": {
          "base_uri": "https://localhost:8080/"
        },
        "id": "9pvNyAyvdaEE",
        "outputId": "e15d3a6b-b493-4f20-dcd8-9dfe1357bc92"
      },
      "execution_count": 191,
      "outputs": [
        {
          "output_type": "stream",
          "name": "stdout",
          "text": [
            "0.6220050786472494 KNeighborsClassifier(metric='cityblock', n_neighbors=51)\n"
          ]
        }
      ]
    },
    {
      "cell_type": "code",
      "source": [
        "clf = search.best_estimator_\n",
        "y_pred = clf.predict(X_val_shap)\n",
        "print(classification_report(y_val_shap, y_pred))"
      ],
      "metadata": {
        "colab": {
          "base_uri": "https://localhost:8080/"
        },
        "outputId": "ed10026b-c78f-47e2-d04e-5bb3ee152213",
        "id": "Gh-6z1_AdaEF"
      },
      "execution_count": 192,
      "outputs": [
        {
          "output_type": "stream",
          "name": "stdout",
          "text": [
            "              precision    recall  f1-score   support\n",
            "\n",
            "         0.0       0.61      0.86      0.71       203\n",
            "         1.0       0.64      0.30      0.41       163\n",
            "\n",
            "    accuracy                           0.61       366\n",
            "   macro avg       0.62      0.58      0.56       366\n",
            "weighted avg       0.62      0.61      0.58       366\n",
            "\n"
          ]
        }
      ]
    },
    {
      "cell_type": "code",
      "source": [
        "clf = search.best_estimator_\n",
        "y_pred = clf.predict(X_test_shap)\n",
        "print(classification_report(y_test, y_pred))"
      ],
      "metadata": {
        "colab": {
          "base_uri": "https://localhost:8080/"
        },
        "outputId": "46ce8abf-d2c9-40d6-f6d5-5c8eaecfc4ae",
        "id": "LqOLnZM0daEG"
      },
      "execution_count": 193,
      "outputs": [
        {
          "output_type": "stream",
          "name": "stdout",
          "text": [
            "              precision    recall  f1-score   support\n",
            "\n",
            "         0.0       0.58      1.00      0.73       360\n",
            "         1.0       0.00      0.00      0.00       264\n",
            "\n",
            "    accuracy                           0.58       624\n",
            "   macro avg       0.29      0.50      0.37       624\n",
            "weighted avg       0.33      0.58      0.42       624\n",
            "\n"
          ]
        },
        {
          "output_type": "stream",
          "name": "stderr",
          "text": [
            "/usr/local/lib/python3.10/dist-packages/sklearn/metrics/_classification.py:1344: UndefinedMetricWarning: Precision and F-score are ill-defined and being set to 0.0 in labels with no predicted samples. Use `zero_division` parameter to control this behavior.\n",
            "  _warn_prf(average, modifier, msg_start, len(result))\n",
            "/usr/local/lib/python3.10/dist-packages/sklearn/metrics/_classification.py:1344: UndefinedMetricWarning: Precision and F-score are ill-defined and being set to 0.0 in labels with no predicted samples. Use `zero_division` parameter to control this behavior.\n",
            "  _warn_prf(average, modifier, msg_start, len(result))\n",
            "/usr/local/lib/python3.10/dist-packages/sklearn/metrics/_classification.py:1344: UndefinedMetricWarning: Precision and F-score are ill-defined and being set to 0.0 in labels with no predicted samples. Use `zero_division` parameter to control this behavior.\n",
            "  _warn_prf(average, modifier, msg_start, len(result))\n"
          ]
        }
      ]
    },
    {
      "cell_type": "markdown",
      "source": [
        "### Rocket"
      ],
      "metadata": {
        "id": "4h_2us8okD_e"
      }
    },
    {
      "cell_type": "code",
      "source": [
        "# train-val split\n",
        "X_train_mr2, X_val_mr, y_train_mr2, y_val_mr = train_test_split(X_train_rocket, y_train, test_size=0.2, shuffle=True, random_state=42)"
      ],
      "metadata": {
        "id": "G8P9e6h5eSlS"
      },
      "execution_count": 94,
      "outputs": []
    },
    {
      "cell_type": "code",
      "source": [
        "print(X_train_mr2.shape, y_train_mr2.shape)\n",
        "print(X_val_mr.shape, y_val_mr.shape)"
      ],
      "metadata": {
        "colab": {
          "base_uri": "https://localhost:8080/"
        },
        "id": "-Rm7cFsuZX_H",
        "outputId": "37bdfc4a-16df-4306-aea0-57f28a311715"
      },
      "execution_count": 95,
      "outputs": [
        {
          "output_type": "stream",
          "name": "stdout",
          "text": [
            "(1462, 20000) (1462,)\n",
            "(366, 20000) (366,)\n"
          ]
        }
      ]
    },
    {
      "cell_type": "code",
      "source": [
        "clf = RidgeClassifierCV(alphas=np.logspace(-3, 3, 10))\n",
        "clf.fit(X_train_mr2, y_train_mr2)"
      ],
      "metadata": {
        "colab": {
          "base_uri": "https://localhost:8080/",
          "height": 109
        },
        "id": "psZ_jCM7YMDr",
        "outputId": "31c81518-2540-4aed-9569-c087ed7adabf"
      },
      "execution_count": 111,
      "outputs": [
        {
          "output_type": "execute_result",
          "data": {
            "text/plain": [
              "RidgeClassifierCV(alphas=array([1.00000000e-03, 4.64158883e-03, 2.15443469e-02, 1.00000000e-01,\n",
              "       4.64158883e-01, 2.15443469e+00, 1.00000000e+01, 4.64158883e+01,\n",
              "       2.15443469e+02, 1.00000000e+03]))"
            ],
            "text/html": [
              "<style>#sk-container-id-8 {color: black;background-color: white;}#sk-container-id-8 pre{padding: 0;}#sk-container-id-8 div.sk-toggleable {background-color: white;}#sk-container-id-8 label.sk-toggleable__label {cursor: pointer;display: block;width: 100%;margin-bottom: 0;padding: 0.3em;box-sizing: border-box;text-align: center;}#sk-container-id-8 label.sk-toggleable__label-arrow:before {content: \"▸\";float: left;margin-right: 0.25em;color: #696969;}#sk-container-id-8 label.sk-toggleable__label-arrow:hover:before {color: black;}#sk-container-id-8 div.sk-estimator:hover label.sk-toggleable__label-arrow:before {color: black;}#sk-container-id-8 div.sk-toggleable__content {max-height: 0;max-width: 0;overflow: hidden;text-align: left;background-color: #f0f8ff;}#sk-container-id-8 div.sk-toggleable__content pre {margin: 0.2em;color: black;border-radius: 0.25em;background-color: #f0f8ff;}#sk-container-id-8 input.sk-toggleable__control:checked~div.sk-toggleable__content {max-height: 200px;max-width: 100%;overflow: auto;}#sk-container-id-8 input.sk-toggleable__control:checked~label.sk-toggleable__label-arrow:before {content: \"▾\";}#sk-container-id-8 div.sk-estimator input.sk-toggleable__control:checked~label.sk-toggleable__label {background-color: #d4ebff;}#sk-container-id-8 div.sk-label input.sk-toggleable__control:checked~label.sk-toggleable__label {background-color: #d4ebff;}#sk-container-id-8 input.sk-hidden--visually {border: 0;clip: rect(1px 1px 1px 1px);clip: rect(1px, 1px, 1px, 1px);height: 1px;margin: -1px;overflow: hidden;padding: 0;position: absolute;width: 1px;}#sk-container-id-8 div.sk-estimator {font-family: monospace;background-color: #f0f8ff;border: 1px dotted black;border-radius: 0.25em;box-sizing: border-box;margin-bottom: 0.5em;}#sk-container-id-8 div.sk-estimator:hover {background-color: #d4ebff;}#sk-container-id-8 div.sk-parallel-item::after {content: \"\";width: 100%;border-bottom: 1px solid gray;flex-grow: 1;}#sk-container-id-8 div.sk-label:hover label.sk-toggleable__label {background-color: #d4ebff;}#sk-container-id-8 div.sk-serial::before {content: \"\";position: absolute;border-left: 1px solid gray;box-sizing: border-box;top: 0;bottom: 0;left: 50%;z-index: 0;}#sk-container-id-8 div.sk-serial {display: flex;flex-direction: column;align-items: center;background-color: white;padding-right: 0.2em;padding-left: 0.2em;position: relative;}#sk-container-id-8 div.sk-item {position: relative;z-index: 1;}#sk-container-id-8 div.sk-parallel {display: flex;align-items: stretch;justify-content: center;background-color: white;position: relative;}#sk-container-id-8 div.sk-item::before, #sk-container-id-8 div.sk-parallel-item::before {content: \"\";position: absolute;border-left: 1px solid gray;box-sizing: border-box;top: 0;bottom: 0;left: 50%;z-index: -1;}#sk-container-id-8 div.sk-parallel-item {display: flex;flex-direction: column;z-index: 1;position: relative;background-color: white;}#sk-container-id-8 div.sk-parallel-item:first-child::after {align-self: flex-end;width: 50%;}#sk-container-id-8 div.sk-parallel-item:last-child::after {align-self: flex-start;width: 50%;}#sk-container-id-8 div.sk-parallel-item:only-child::after {width: 0;}#sk-container-id-8 div.sk-dashed-wrapped {border: 1px dashed gray;margin: 0 0.4em 0.5em 0.4em;box-sizing: border-box;padding-bottom: 0.4em;background-color: white;}#sk-container-id-8 div.sk-label label {font-family: monospace;font-weight: bold;display: inline-block;line-height: 1.2em;}#sk-container-id-8 div.sk-label-container {text-align: center;}#sk-container-id-8 div.sk-container {/* jupyter's `normalize.less` sets `[hidden] { display: none; }` but bootstrap.min.css set `[hidden] { display: none !important; }` so we also need the `!important` here to be able to override the default hidden behavior on the sphinx rendered scikit-learn.org. See: https://github.com/scikit-learn/scikit-learn/issues/21755 */display: inline-block !important;position: relative;}#sk-container-id-8 div.sk-text-repr-fallback {display: none;}</style><div id=\"sk-container-id-8\" class=\"sk-top-container\"><div class=\"sk-text-repr-fallback\"><pre>RidgeClassifierCV(alphas=array([1.00000000e-03, 4.64158883e-03, 2.15443469e-02, 1.00000000e-01,\n",
              "       4.64158883e-01, 2.15443469e+00, 1.00000000e+01, 4.64158883e+01,\n",
              "       2.15443469e+02, 1.00000000e+03]))</pre><b>In a Jupyter environment, please rerun this cell to show the HTML representation or trust the notebook. <br />On GitHub, the HTML representation is unable to render, please try loading this page with nbviewer.org.</b></div><div class=\"sk-container\" hidden><div class=\"sk-item\"><div class=\"sk-estimator sk-toggleable\"><input class=\"sk-toggleable__control sk-hidden--visually\" id=\"sk-estimator-id-8\" type=\"checkbox\" checked><label for=\"sk-estimator-id-8\" class=\"sk-toggleable__label sk-toggleable__label-arrow\">RidgeClassifierCV</label><div class=\"sk-toggleable__content\"><pre>RidgeClassifierCV(alphas=array([1.00000000e-03, 4.64158883e-03, 2.15443469e-02, 1.00000000e-01,\n",
              "       4.64158883e-01, 2.15443469e+00, 1.00000000e+01, 4.64158883e+01,\n",
              "       2.15443469e+02, 1.00000000e+03]))</pre></div></div></div></div></div>"
            ]
          },
          "metadata": {},
          "execution_count": 111
        }
      ]
    },
    {
      "cell_type": "code",
      "source": [
        "y_pred = clf.predict(X_val_mr)\n",
        "print(classification_report(y_pred, y_val_mr))"
      ],
      "metadata": {
        "colab": {
          "base_uri": "https://localhost:8080/"
        },
        "id": "8HeayqUQeKhl",
        "outputId": "a36185cd-8892-4773-80ff-88b7c91e8a5a"
      },
      "execution_count": 112,
      "outputs": [
        {
          "output_type": "stream",
          "name": "stdout",
          "text": [
            "              precision    recall  f1-score   support\n",
            "\n",
            "         0.0       0.92      0.87      0.89       215\n",
            "         1.0       0.82      0.89      0.85       151\n",
            "\n",
            "    accuracy                           0.87       366\n",
            "   macro avg       0.87      0.88      0.87       366\n",
            "weighted avg       0.88      0.87      0.87       366\n",
            "\n"
          ]
        }
      ]
    },
    {
      "cell_type": "code",
      "source": [
        "y_pred = clf.predict(X_test_rocket)\n",
        "print(classification_report(y_pred, y_test))"
      ],
      "metadata": {
        "colab": {
          "base_uri": "https://localhost:8080/"
        },
        "id": "hCkL608TnDTB",
        "outputId": "72272f5d-58e0-420f-de1c-f3c200dc82ac"
      },
      "execution_count": 113,
      "outputs": [
        {
          "output_type": "stream",
          "name": "stdout",
          "text": [
            "              precision    recall  f1-score   support\n",
            "\n",
            "         0.0       0.93      0.95      0.94       349\n",
            "         1.0       0.94      0.90      0.92       275\n",
            "\n",
            "    accuracy                           0.93       624\n",
            "   macro avg       0.93      0.93      0.93       624\n",
            "weighted avg       0.93      0.93      0.93       624\n",
            "\n"
          ]
        }
      ]
    },
    {
      "cell_type": "markdown",
      "metadata": {
        "id": "q1cKlfcij9rc"
      },
      "source": [
        "# Target: **Sex** "
      ]
    },
    {
      "cell_type": "markdown",
      "metadata": {
        "id": "O2fYHim2j9rn"
      },
      "source": [
        "## Data Preparation: PAA"
      ]
    },
    {
      "cell_type": "code",
      "execution_count": 194,
      "metadata": {
        "id": "8KXaspZKj9rn"
      },
      "outputs": [],
      "source": [
        "def label_encoder(array):\n",
        "  new_array = np.zeros(len(array))\n",
        "  for i in range(len(array)):\n",
        "    if array[i] == \"M\":\n",
        "      new_array[i] = 1\n",
        "  return new_array"
      ]
    },
    {
      "cell_type": "code",
      "execution_count": 195,
      "metadata": {
        "id": "6aTPJXpcj9rn"
      },
      "outputs": [],
      "source": [
        "y_train = categorical_train['sex']\n",
        "y_test = categorical_test['sex']\n",
        "y_train = label_encoder(y_train)\n",
        "y_test = label_encoder(y_test)"
      ]
    },
    {
      "cell_type": "code",
      "execution_count": 196,
      "metadata": {
        "id": "-_aea2tCj9rn"
      },
      "outputs": [],
      "source": [
        "n_paa_segments = 300\n",
        "paa = PiecewiseAggregateApproximation(n_segments=n_paa_segments)"
      ]
    },
    {
      "cell_type": "code",
      "execution_count": 197,
      "metadata": {
        "colab": {
          "base_uri": "https://localhost:8080/"
        },
        "id": "cQ1DGJGuj9ro",
        "outputId": "8d0eb692-7cd3-4769-9fab-b87533d6a4a0"
      },
      "outputs": [
        {
          "output_type": "stream",
          "name": "stderr",
          "text": [
            "/usr/local/lib/python3.10/dist-packages/tslearn/utils/utils.py:88: UserWarning: 2-Dimensional data passed. Assuming these are 1828 1-dimensional timeseries\n",
            "  warnings.warn('2-Dimensional data passed. Assuming these are '\n"
          ]
        }
      ],
      "source": [
        "X_train = paa.fit_transform(X_train_ma)\n",
        "X_train = X_train.reshape(X_train.shape[0], X_train.shape[1])"
      ]
    },
    {
      "cell_type": "code",
      "execution_count": 198,
      "metadata": {
        "colab": {
          "base_uri": "https://localhost:8080/"
        },
        "id": "GZz2CGQlj9ro",
        "outputId": "30aaa8e9-7b4f-408e-98de-acb76ce79320"
      },
      "outputs": [
        {
          "output_type": "stream",
          "name": "stdout",
          "text": [
            "(1828, 300) (1828,)\n"
          ]
        }
      ],
      "source": [
        "print(X_train.shape, y_train.shape)"
      ]
    },
    {
      "cell_type": "code",
      "execution_count": 199,
      "metadata": {
        "colab": {
          "base_uri": "https://localhost:8080/"
        },
        "id": "0ntC_gKJj9ro",
        "outputId": "feaa4187-d373-4927-c16c-a0699f5d4378"
      },
      "outputs": [
        {
          "output_type": "stream",
          "name": "stderr",
          "text": [
            "/usr/local/lib/python3.10/dist-packages/tslearn/utils/utils.py:88: UserWarning: 2-Dimensional data passed. Assuming these are 624 1-dimensional timeseries\n",
            "  warnings.warn('2-Dimensional data passed. Assuming these are '\n"
          ]
        }
      ],
      "source": [
        "X_test = paa.fit_transform(X_test_ma)\n",
        "X_test = X_test.reshape(X_test.shape[0], X_test.shape[1])"
      ]
    },
    {
      "cell_type": "code",
      "execution_count": 200,
      "metadata": {
        "colab": {
          "base_uri": "https://localhost:8080/"
        },
        "id": "5l27lx1Qj9ro",
        "outputId": "eba1ac6b-9cd8-4dc6-8aef-ad29abb7f8f7"
      },
      "outputs": [
        {
          "output_type": "stream",
          "name": "stdout",
          "text": [
            "(624, 300) (624,)\n"
          ]
        }
      ],
      "source": [
        "print(X_test.shape, y_test.shape)"
      ]
    },
    {
      "cell_type": "code",
      "execution_count": 201,
      "metadata": {
        "id": "eRoLr1tDj9rp"
      },
      "outputs": [],
      "source": [
        "X_train2, X_val, y_train2, y_val = train_test_split(X_train, y_train, test_size=0.2, shuffle=True, random_state=42, stratify=y_train)"
      ]
    },
    {
      "cell_type": "code",
      "execution_count": 202,
      "metadata": {
        "colab": {
          "base_uri": "https://localhost:8080/"
        },
        "id": "mG7vqfNsj9rp",
        "outputId": "51aa807f-8f37-4198-bb0e-344dbd0ab62b"
      },
      "outputs": [
        {
          "output_type": "stream",
          "name": "stdout",
          "text": [
            "(1462, 300) (1462,)\n",
            "(366, 300) (366,)\n"
          ]
        }
      ],
      "source": [
        "print(X_train2.shape, y_train2.shape)\n",
        "print(X_val.shape, y_val.shape)"
      ]
    },
    {
      "cell_type": "code",
      "execution_count": 203,
      "metadata": {
        "colab": {
          "base_uri": "https://localhost:8080/",
          "height": 0
        },
        "id": "xSI5G82sj9rp",
        "outputId": "dd792791-4bf0-408f-b140-85e7505f0613"
      },
      "outputs": [
        {
          "output_type": "display_data",
          "data": {
            "text/plain": [
              "<Figure size 1500x500 with 1 Axes>"
            ],
            "image/png": "[encoded data removed]"
          },
          "metadata": {}
        }
      ],
      "source": [
        "plt.figure(figsize=(15, 5))\n",
        "plt.plot(X_train[0])\n",
        "plt.show()"
      ]
    },
    {
      "cell_type": "markdown",
      "metadata": {
        "id": "oEQlbYiDj9rp"
      },
      "source": [
        "## Data Preparation: SAX"
      ]
    },
    {
      "cell_type": "code",
      "execution_count": null,
      "metadata": {
        "id": "7LDOLPoWj9rp"
      },
      "outputs": [],
      "source": [
        "def label_encoder(array):\n",
        "  new_array = np.zeros(len(array))\n",
        "  for i in range(len(array)):\n",
        "    if array[i] == \"M\":\n",
        "      new_array[i] = 1\n",
        "  return new_array"
      ]
    },
    {
      "cell_type": "code",
      "execution_count": null,
      "metadata": {
        "id": "l94_EQasj9rq"
      },
      "outputs": [],
      "source": [
        "y_train = categorical_train['sex']\n",
        "y_test = categorical_test['sex']\n",
        "y_train = label_encoder(y_train)\n",
        "y_test = label_encoder(y_test)"
      ]
    },
    {
      "cell_type": "code",
      "execution_count": null,
      "metadata": {
        "id": "G4fesBUpj9rq"
      },
      "outputs": [],
      "source": [
        "n_segments = 300\n",
        "alphabet_size_avg = 10\n",
        "sax = SymbolicAggregateApproximation(n_segments=n_segments, alphabet_size_avg=alphabet_size_avg)"
      ]
    },
    {
      "cell_type": "code",
      "execution_count": null,
      "metadata": {
        "colab": {
          "base_uri": "https://localhost:8080/"
        },
        "id": "7Rf3ezJgj9rq",
        "outputId": "fad9ce87-6860-4407-aa27-b6f772253a91"
      },
      "outputs": [
        {
          "name": "stderr",
          "output_type": "stream",
          "text": [
            "/usr/local/lib/python3.10/dist-packages/tslearn/utils/utils.py:88: UserWarning: 2-Dimensional data passed. Assuming these are 1828 1-dimensional timeseries\n",
            "  warnings.warn('2-Dimensional data passed. Assuming these are '\n"
          ]
        }
      ],
      "source": [
        "X_train = sax.fit_transform(X_train_ma)\n",
        "X_train = X_train.reshape(X_train.shape[0], X_train.shape[1])"
      ]
    },
    {
      "cell_type": "code",
      "execution_count": null,
      "metadata": {
        "colab": {
          "base_uri": "https://localhost:8080/"
        },
        "id": "FeAc3P4hj9rq",
        "outputId": "8c767b2d-52aa-4603-c27f-a43cf361e598"
      },
      "outputs": [
        {
          "name": "stdout",
          "output_type": "stream",
          "text": [
            "(1828, 300) (1828,)\n"
          ]
        }
      ],
      "source": [
        "print(X_train.shape, y_train.shape)"
      ]
    },
    {
      "cell_type": "code",
      "execution_count": null,
      "metadata": {
        "colab": {
          "base_uri": "https://localhost:8080/"
        },
        "id": "twFEJTl6j9rq",
        "outputId": "93301377-edb3-4391-de76-0d7238a2776b"
      },
      "outputs": [
        {
          "name": "stderr",
          "output_type": "stream",
          "text": [
            "/usr/local/lib/python3.10/dist-packages/tslearn/utils/utils.py:88: UserWarning: 2-Dimensional data passed. Assuming these are 624 1-dimensional timeseries\n",
            "  warnings.warn('2-Dimensional data passed. Assuming these are '\n"
          ]
        }
      ],
      "source": [
        "X_test = sax.fit_transform(X_test_ma)\n",
        "X_test = X_test.reshape(X_test.shape[0], X_test.shape[1])"
      ]
    },
    {
      "cell_type": "code",
      "execution_count": null,
      "metadata": {
        "colab": {
          "base_uri": "https://localhost:8080/"
        },
        "id": "mya4XRWsj9rr",
        "outputId": "5277195d-fb07-4122-ac65-05a21b03ffcc"
      },
      "outputs": [
        {
          "name": "stdout",
          "output_type": "stream",
          "text": [
            "(624, 300) (624,)\n"
          ]
        }
      ],
      "source": [
        "print(X_test.shape, y_test.shape)"
      ]
    },
    {
      "cell_type": "code",
      "execution_count": null,
      "metadata": {
        "id": "nd5rr4h0j9rr"
      },
      "outputs": [],
      "source": [
        "X_train2, X_val, y_train2, y_val = train_test_split(X_train, y_train, test_size=0.2, shuffle=True, random_state=42, stratify=y_train)"
      ]
    },
    {
      "cell_type": "code",
      "execution_count": null,
      "metadata": {
        "colab": {
          "base_uri": "https://localhost:8080/"
        },
        "id": "ri1DoG0lj9rr",
        "outputId": "9711b6b2-9396-40e5-a2d5-9c6eb26cf7e3"
      },
      "outputs": [
        {
          "name": "stdout",
          "output_type": "stream",
          "text": [
            "(1462, 300) (1462,)\n",
            "(366, 300) (366,)\n"
          ]
        }
      ],
      "source": [
        "print(X_train2.shape, y_train2.shape)\n",
        "print(X_val.shape, y_val.shape)"
      ]
    },
    {
      "cell_type": "code",
      "execution_count": null,
      "metadata": {
        "colab": {
          "base_uri": "https://localhost:8080/"
        },
        "id": "fffCEDq9j9rr",
        "outputId": "72bf2fb2-5e06-4a93-94b3-b822c4e8e5f7"
      },
      "outputs": [
        {
          "data": {
            "image/png": "[encoded data removed]",
            "text/plain": [
              "<Figure size 1500x500 with 1 Axes>"
            ]
          },
          "metadata": {},
          "output_type": "display_data"
        }
      ],
      "source": [
        "plt.figure(figsize=(15, 5))\n",
        "plt.plot(X_train[0])\n",
        "plt.show()"
      ]
    },
    {
      "cell_type": "markdown",
      "metadata": {
        "id": "qIm_5JYvj9rs"
      },
      "source": [
        "## Training"
      ]
    },
    {
      "cell_type": "code",
      "execution_count": null,
      "metadata": {
        "colab": {
          "base_uri": "https://localhost:8080/"
        },
        "id": "5cSB3QgLj9rs",
        "outputId": "71cdd62b-0624-43bc-aa59-dec669930ea0"
      },
      "outputs": [
        {
          "name": "stdout",
          "output_type": "stream",
          "text": [
            "0.6465997290191751 KNeighborsClassifier(metric='cityblock', n_neighbors=34)\n"
          ]
        }
      ],
      "source": [
        "# KNN Minkowski\n",
        "param_grid = {'n_neighbors': np.arange(2, X_train.shape[0]//2),\n",
        "              'metric': ['euclidean', 'cityblock'],\n",
        "              'weights': ['uniform', 'distance']\n",
        "              }\n",
        "\n",
        "search = RandomizedSearchCV(KNeighborsClassifier(),\n",
        "                      param_grid,\n",
        "                      cv=KFold(3, shuffle=True, random_state=42),\n",
        "                      n_iter=100,\n",
        "                      n_jobs=-1,\n",
        "                      scoring='accuracy'\n",
        "                      )\n",
        "search.fit(X_train, y_train)\n",
        "print(search.best_score_, search.best_estimator_)"
      ]
    },
    {
      "cell_type": "code",
      "execution_count": null,
      "metadata": {
        "colab": {
          "base_uri": "https://localhost:8080/"
        },
        "id": "RAUlgJECj9rs",
        "outputId": "079a0b1e-aca7-4683-e176-5b64f8d12176"
      },
      "outputs": [
        {
          "name": "stdout",
          "output_type": "stream",
          "text": [
            "              precision    recall  f1-score   support\n",
            "\n",
            "         0.0       0.56      0.83      0.67       312\n",
            "         1.0       0.68      0.35      0.46       312\n",
            "\n",
            "    accuracy                           0.59       624\n",
            "   macro avg       0.62      0.59      0.56       624\n",
            "weighted avg       0.62      0.59      0.56       624\n",
            "\n"
          ]
        }
      ],
      "source": [
        "clf = search.best_estimator_\n",
        "clf.fit(X_train, y_train)\n",
        "y_pred = clf.predict(X_test)\n",
        "print(classification_report(y_test, y_pred))"
      ]
    },
    {
      "cell_type": "code",
      "execution_count": null,
      "metadata": {
        "colab": {
          "base_uri": "https://localhost:8080/"
        },
        "id": "UPbsfhiPj9rt",
        "outputId": "f834c01e-be2e-456c-ea27-474096aa7bfd"
      },
      "outputs": [
        {
          "name": "stdout",
          "output_type": "stream",
          "text": [
            "              precision    recall  f1-score   support\n",
            "\n",
            "         0.0       0.68      0.79      0.73       179\n",
            "         1.0       0.76      0.64      0.69       187\n",
            "\n",
            "    accuracy                           0.71       366\n",
            "   macro avg       0.72      0.71      0.71       366\n",
            "weighted avg       0.72      0.71      0.71       366\n",
            "\n"
          ]
        }
      ],
      "source": [
        "# KNN DTW: with PAA = 300 about 6 mins\n",
        "clf = KNeighborsClassifier_pyts(n_neighbors=67, \n",
        "                                metric='dtw_sakoechiba', \n",
        "                                weights='distance',\n",
        "                                n_jobs=-1,\n",
        "                                metric_params={'window_size': 0.1})\n",
        "clf.fit(X_train2, y_train2)\n",
        "y_pred = clf.predict(X_val)\n",
        "print(classification_report(y_val, y_pred))"
      ]
    },
    {
      "cell_type": "code",
      "execution_count": null,
      "metadata": {
        "colab": {
          "base_uri": "https://localhost:8080/"
        },
        "id": "ntcwwI-4j9rt",
        "outputId": "850e3fab-e6da-4a83-ffc1-9053b4b362f8"
      },
      "outputs": [
        {
          "name": "stdout",
          "output_type": "stream",
          "text": [
            "              precision    recall  f1-score   support\n",
            "\n",
            "         0.0       0.64      0.92      0.76       312\n",
            "         1.0       0.86      0.49      0.62       312\n",
            "\n",
            "    accuracy                           0.71       624\n",
            "   macro avg       0.75      0.71      0.69       624\n",
            "weighted avg       0.75      0.71      0.69       624\n",
            "\n"
          ]
        }
      ],
      "source": [
        "y_pred = clf.predict(X_test)\n",
        "print(classification_report(y_test, y_pred))"
      ]
    },
    {
      "cell_type": "code",
      "execution_count": null,
      "metadata": {
        "colab": {
          "base_uri": "https://localhost:8080/"
        },
        "id": "0LdWG2IDj9rv",
        "outputId": "8a49462b-6da0-46ee-96a9-f688a3d727bc"
      },
      "outputs": [
        {
          "name": "stdout",
          "output_type": "stream",
          "text": [
            "              precision    recall  f1-score   support\n",
            "\n",
            "         0.0       0.84      0.76      0.80       179\n",
            "         1.0       0.79      0.87      0.83       187\n",
            "\n",
            "    accuracy                           0.81       366\n",
            "   macro avg       0.82      0.81      0.81       366\n",
            "weighted avg       0.82      0.81      0.81       366\n",
            "\n"
          ]
        }
      ],
      "source": [
        "# CIF\n",
        "clf = CanonicalIntervalForest(n_estimators=30)\n",
        "clf.fit(X_train2, y_train2)\n",
        "y_pred = clf.predict(X_val)\n",
        "print(classification_report(y_val, y_pred))"
      ]
    },
    {
      "cell_type": "code",
      "source": [
        "clf = CanonicalIntervalForest(n_estimators=100)\n",
        "clf.fit(X_train2, y_train2)\n",
        "y_pred = clf.predict(X_val)\n",
        "print(classification_report(y_val, y_pred))"
      ],
      "metadata": {
        "colab": {
          "base_uri": "https://localhost:8080/"
        },
        "id": "BpVyGMaT1q4p",
        "outputId": "4b05535f-7980-4ea8-8b24-0466e95012e4"
      },
      "execution_count": 34,
      "outputs": [
        {
          "output_type": "stream",
          "name": "stdout",
          "text": [
            "              precision    recall  f1-score   support\n",
            "\n",
            "         0.0       0.85      0.74      0.79       179\n",
            "         1.0       0.78      0.88      0.83       187\n",
            "\n",
            "    accuracy                           0.81       366\n",
            "   macro avg       0.82      0.81      0.81       366\n",
            "weighted avg       0.82      0.81      0.81       366\n",
            "\n"
          ]
        }
      ]
    },
    {
      "cell_type": "markdown",
      "source": [
        "### Shapelet-Based"
      ],
      "metadata": {
        "id": "kkdpMOa2a5BI"
      }
    },
    {
      "cell_type": "code",
      "source": [
        "n_ts, ts_sz = X_train.shape\n",
        "n_classes = len(set(y_train))\n",
        "\n",
        "# Set the number of shapelets per size as done in the original paper\n",
        "shapelet_sizes = grabocka_params_to_shapelet_size_dict(n_ts=n_ts,\n",
        "                                                       ts_sz=ts_sz,\n",
        "                                                       n_classes=n_classes,\n",
        "                                                       l=0.1,\n",
        "                                                       r=1)\n",
        "\n",
        "print('n_ts', n_ts)\n",
        "print('ts_sz', ts_sz)\n",
        "print('n_classes', n_classes)\n",
        "print('shapelet_sizes', shapelet_sizes)"
      ],
      "metadata": {
        "colab": {
          "base_uri": "https://localhost:8080/"
        },
        "outputId": "174139e9-e963-4ccb-8e7f-0ce63be4ec6e",
        "id": "rW97jhmVa5BI"
      },
      "execution_count": 204,
      "outputs": [
        {
          "output_type": "stream",
          "name": "stdout",
          "text": [
            "n_ts 1828\n",
            "ts_sz 300\n",
            "n_classes 2\n",
            "shapelet_sizes {30: 5}\n"
          ]
        }
      ]
    },
    {
      "cell_type": "code",
      "source": [
        "shp_clf = ShapeletModel(n_shapelets_per_size=shapelet_sizes,\n",
        "                        optimizer=\"sgd\",\n",
        "                        weight_regularizer=.01,\n",
        "                        max_iter=200,\n",
        "                        verbose=0)"
      ],
      "metadata": {
        "colab": {
          "base_uri": "https://localhost:8080/"
        },
        "outputId": "7251bb3e-99a9-45ca-ef17-3f134a9c1767",
        "id": "bpwbj8dTa5BJ"
      },
      "execution_count": 205,
      "outputs": [
        {
          "output_type": "stream",
          "name": "stderr",
          "text": [
            "/usr/local/lib/python3.10/dist-packages/tslearn/shapelets/shapelets.py:354: FutureWarning: The default value for 'scale' is set to False in version 0.4 to ensure backward compatibility, but is likely to change in a future version.\n",
            "  warnings.warn(\"The default value for 'scale' is set to False \"\n"
          ]
        }
      ]
    },
    {
      "cell_type": "code",
      "source": [
        "X_train_shap = shp_clf.fit_transform(X_train, y_train)\n",
        "X_test_shap = shp_clf.fit_transform(X_test, y_test)"
      ],
      "metadata": {
        "id": "PxH3UUXca5BJ"
      },
      "execution_count": 206,
      "outputs": []
    },
    {
      "cell_type": "code",
      "source": [
        "print(X_train_shap.shape)\n",
        "print(X_test_shap.shape)"
      ],
      "metadata": {
        "colab": {
          "base_uri": "https://localhost:8080/"
        },
        "outputId": "fc62e4b4-f064-4d38-97ff-7c056e4551f1",
        "id": "R7-Ir4Pqa5BJ"
      },
      "execution_count": 207,
      "outputs": [
        {
          "output_type": "stream",
          "name": "stdout",
          "text": [
            "(1828, 5)\n",
            "(624, 5)\n"
          ]
        }
      ]
    },
    {
      "cell_type": "code",
      "source": [
        "# train-val split\n",
        "X_train_shap2, X_val_shap, y_train_shap2, y_val_shap = train_test_split(X_train_shap, y_train, test_size=0.2, shuffle=True, random_state=42)"
      ],
      "metadata": {
        "id": "0D8ZHDeZa5BK"
      },
      "execution_count": 208,
      "outputs": []
    },
    {
      "cell_type": "code",
      "source": [
        "print(X_train_shap2.shape, y_train_shap2.shape)\n",
        "print(X_val_shap.shape, y_val_shap.shape)"
      ],
      "metadata": {
        "colab": {
          "base_uri": "https://localhost:8080/"
        },
        "outputId": "c1964413-b4ce-49cd-b559-a55a72ac7de1",
        "id": "Bk3kz6l4a5BK"
      },
      "execution_count": 209,
      "outputs": [
        {
          "output_type": "stream",
          "name": "stdout",
          "text": [
            "(1462, 5) (1462,)\n",
            "(366, 5) (366,)\n"
          ]
        }
      ]
    },
    {
      "cell_type": "code",
      "source": [
        "param_grid = {\n",
        "    \"min_samples_split\": sp.loguniform(1e-2, 1e0),\n",
        "    \"min_samples_leaf\": sp.uniform(0.001, 0.2),\n",
        "    \"max_depth\": sp.randint(2, 200),\n",
        "    \"criterion\": [\"gini\", \"entropy\", \"log_loss\"], \n",
        "}\n",
        "\n",
        "search = RandomizedSearchCV(DecisionTreeClassifier(),\n",
        "                            param_distributions=param_grid,\n",
        "                            cv=KFold(3, shuffle=True, random_state=42),\n",
        "                            n_iter=50,\n",
        "                            n_jobs=-1,\n",
        "                            scoring='accuracy')\n",
        "\n",
        "search.fit(X_train_shap, y_train)\n",
        "print(search.best_score_, search.best_estimator_)"
      ],
      "metadata": {
        "colab": {
          "base_uri": "https://localhost:8080/"
        },
        "outputId": "f8508d53-ea10-4b18-9e18-b8b72dc71073",
        "id": "gjQ9IylWa5BK"
      },
      "execution_count": 210,
      "outputs": [
        {
          "output_type": "stream",
          "name": "stdout",
          "text": [
            "0.6701364774287328 DecisionTreeClassifier(criterion='log_loss', max_depth=14,\n",
            "                       min_samples_leaf=0.029115215873569158,\n",
            "                       min_samples_split=0.28147717896311536)\n"
          ]
        }
      ]
    },
    {
      "cell_type": "code",
      "source": [
        "clf = search.best_estimator_\n",
        "y_pred = clf.predict(X_val_shap)\n",
        "print(classification_report(y_val_shap, y_pred))"
      ],
      "metadata": {
        "colab": {
          "base_uri": "https://localhost:8080/"
        },
        "outputId": "9dff3835-e58b-44fb-8939-971ca76abb50",
        "id": "hTT34u_ga5BK"
      },
      "execution_count": 211,
      "outputs": [
        {
          "output_type": "stream",
          "name": "stdout",
          "text": [
            "              precision    recall  f1-score   support\n",
            "\n",
            "         0.0       0.67      0.63      0.65       175\n",
            "         1.0       0.68      0.72      0.70       191\n",
            "\n",
            "    accuracy                           0.68       366\n",
            "   macro avg       0.68      0.68      0.68       366\n",
            "weighted avg       0.68      0.68      0.68       366\n",
            "\n"
          ]
        }
      ]
    },
    {
      "cell_type": "code",
      "source": [
        "clf = search.best_estimator_\n",
        "y_pred = clf.predict(X_test_shap)\n",
        "print(classification_report(y_test, y_pred))"
      ],
      "metadata": {
        "colab": {
          "base_uri": "https://localhost:8080/"
        },
        "outputId": "c7afed4a-9f1d-4dc1-b245-034168c19c82",
        "id": "NovAFR-Qa5BL"
      },
      "execution_count": 212,
      "outputs": [
        {
          "output_type": "stream",
          "name": "stdout",
          "text": [
            "              precision    recall  f1-score   support\n",
            "\n",
            "         0.0       0.00      0.00      0.00       312\n",
            "         1.0       0.50      1.00      0.67       312\n",
            "\n",
            "    accuracy                           0.50       624\n",
            "   macro avg       0.25      0.50      0.33       624\n",
            "weighted avg       0.25      0.50      0.33       624\n",
            "\n"
          ]
        },
        {
          "output_type": "stream",
          "name": "stderr",
          "text": [
            "/usr/local/lib/python3.10/dist-packages/sklearn/metrics/_classification.py:1344: UndefinedMetricWarning: Precision and F-score are ill-defined and being set to 0.0 in labels with no predicted samples. Use `zero_division` parameter to control this behavior.\n",
            "  _warn_prf(average, modifier, msg_start, len(result))\n",
            "/usr/local/lib/python3.10/dist-packages/sklearn/metrics/_classification.py:1344: UndefinedMetricWarning: Precision and F-score are ill-defined and being set to 0.0 in labels with no predicted samples. Use `zero_division` parameter to control this behavior.\n",
            "  _warn_prf(average, modifier, msg_start, len(result))\n",
            "/usr/local/lib/python3.10/dist-packages/sklearn/metrics/_classification.py:1344: UndefinedMetricWarning: Precision and F-score are ill-defined and being set to 0.0 in labels with no predicted samples. Use `zero_division` parameter to control this behavior.\n",
            "  _warn_prf(average, modifier, msg_start, len(result))\n"
          ]
        }
      ]
    },
    {
      "cell_type": "code",
      "source": [
        "param_grid = {\n",
        "              'n_neighbors': np.arange(2, X_train_shap.shape[0]//2),\n",
        "              'weights': ['uniform', 'distance'],\n",
        "              'metric': ['euclidean', 'cityblock']\n",
        "             }\n",
        "\n",
        "search = RandomizedSearchCV(KNeighborsClassifier(),\n",
        "                            param_distributions=param_grid,\n",
        "                            cv=KFold(3, shuffle=True, random_state=42),\n",
        "                            n_iter=50,\n",
        "                            n_jobs=-1,\n",
        "                            scoring='accuracy')\n",
        "\n",
        "search.fit(X_train_shap, y_train)\n",
        "print(search.best_score_, search.best_estimator_)"
      ],
      "metadata": {
        "colab": {
          "base_uri": "https://localhost:8080/"
        },
        "id": "AwY-5Op-dgi0",
        "outputId": "12427d14-ef7f-4c9b-fe07-750429121185"
      },
      "execution_count": 213,
      "outputs": [
        {
          "output_type": "stream",
          "name": "stdout",
          "text": [
            "0.6285669421339292 KNeighborsClassifier(metric='cityblock', n_neighbors=15, weights='distance')\n"
          ]
        }
      ]
    },
    {
      "cell_type": "code",
      "source": [
        "clf = search.best_estimator_\n",
        "y_pred = clf.predict(X_val_shap)\n",
        "print(classification_report(y_val_shap, y_pred))"
      ],
      "metadata": {
        "colab": {
          "base_uri": "https://localhost:8080/"
        },
        "outputId": "8b0f7a59-12b4-442d-8aea-e4c260abdd86",
        "id": "jI0TI88Edgi2"
      },
      "execution_count": 214,
      "outputs": [
        {
          "output_type": "stream",
          "name": "stdout",
          "text": [
            "              precision    recall  f1-score   support\n",
            "\n",
            "         0.0       1.00      1.00      1.00       175\n",
            "         1.0       1.00      1.00      1.00       191\n",
            "\n",
            "    accuracy                           1.00       366\n",
            "   macro avg       1.00      1.00      1.00       366\n",
            "weighted avg       1.00      1.00      1.00       366\n",
            "\n"
          ]
        }
      ]
    },
    {
      "cell_type": "code",
      "source": [
        "clf = search.best_estimator_\n",
        "y_pred = clf.predict(X_test_shap)\n",
        "print(classification_report(y_test, y_pred))"
      ],
      "metadata": {
        "colab": {
          "base_uri": "https://localhost:8080/"
        },
        "outputId": "031550d6-5d7d-473f-9072-671b9f861a8e",
        "id": "cMv6AtwZdgi2"
      },
      "execution_count": 215,
      "outputs": [
        {
          "output_type": "stream",
          "name": "stdout",
          "text": [
            "              precision    recall  f1-score   support\n",
            "\n",
            "         0.0       0.00      0.00      0.00       312\n",
            "         1.0       0.50      1.00      0.67       312\n",
            "\n",
            "    accuracy                           0.50       624\n",
            "   macro avg       0.25      0.50      0.33       624\n",
            "weighted avg       0.25      0.50      0.33       624\n",
            "\n"
          ]
        },
        {
          "output_type": "stream",
          "name": "stderr",
          "text": [
            "/usr/local/lib/python3.10/dist-packages/sklearn/metrics/_classification.py:1344: UndefinedMetricWarning: Precision and F-score are ill-defined and being set to 0.0 in labels with no predicted samples. Use `zero_division` parameter to control this behavior.\n",
            "  _warn_prf(average, modifier, msg_start, len(result))\n",
            "/usr/local/lib/python3.10/dist-packages/sklearn/metrics/_classification.py:1344: UndefinedMetricWarning: Precision and F-score are ill-defined and being set to 0.0 in labels with no predicted samples. Use `zero_division` parameter to control this behavior.\n",
            "  _warn_prf(average, modifier, msg_start, len(result))\n",
            "/usr/local/lib/python3.10/dist-packages/sklearn/metrics/_classification.py:1344: UndefinedMetricWarning: Precision and F-score are ill-defined and being set to 0.0 in labels with no predicted samples. Use `zero_division` parameter to control this behavior.\n",
            "  _warn_prf(average, modifier, msg_start, len(result))\n"
          ]
        }
      ]
    },
    {
      "cell_type": "markdown",
      "source": [
        "### Rocket"
      ],
      "metadata": {
        "id": "GCnHeAvboNPj"
      }
    },
    {
      "cell_type": "code",
      "source": [
        "# train-val split\n",
        "X_train_mr2, X_val_mr, y_train_mr2, y_val_mr = train_test_split(X_train_rocket, y_train, test_size=0.2, shuffle=True, random_state=42)"
      ],
      "metadata": {
        "id": "8rrp6Sq5oNPl"
      },
      "execution_count": 135,
      "outputs": []
    },
    {
      "cell_type": "code",
      "source": [
        "print(X_train_mr2.shape, y_train_mr2.shape)\n",
        "print(X_val_mr.shape, y_val_mr.shape)"
      ],
      "metadata": {
        "colab": {
          "base_uri": "https://localhost:8080/"
        },
        "outputId": "8ca97f41-3637-45f1-a0ea-d16f7d599ac6",
        "id": "FrU57kGIoNPl"
      },
      "execution_count": 136,
      "outputs": [
        {
          "output_type": "stream",
          "name": "stdout",
          "text": [
            "(1462, 20000) (1462,)\n",
            "(366, 20000) (366,)\n"
          ]
        }
      ]
    },
    {
      "cell_type": "code",
      "source": [
        "clf = RidgeClassifierCV(alphas=np.logspace(-3, 3, 10))\n",
        "clf.fit(X_train_mr2, y_train_mr2)"
      ],
      "metadata": {
        "colab": {
          "base_uri": "https://localhost:8080/",
          "height": 109
        },
        "outputId": "42a891a7-fae8-46c6-f75a-9828828cf925",
        "id": "61Un-Xu_oNPl"
      },
      "execution_count": 137,
      "outputs": [
        {
          "output_type": "execute_result",
          "data": {
            "text/plain": [
              "RidgeClassifierCV(alphas=array([1.00000000e-03, 4.64158883e-03, 2.15443469e-02, 1.00000000e-01,\n",
              "       4.64158883e-01, 2.15443469e+00, 1.00000000e+01, 4.64158883e+01,\n",
              "       2.15443469e+02, 1.00000000e+03]))"
            ],
            "text/html": [
              "<style>#sk-container-id-9 {color: black;background-color: white;}#sk-container-id-9 pre{padding: 0;}#sk-container-id-9 div.sk-toggleable {background-color: white;}#sk-container-id-9 label.sk-toggleable__label {cursor: pointer;display: block;width: 100%;margin-bottom: 0;padding: 0.3em;box-sizing: border-box;text-align: center;}#sk-container-id-9 label.sk-toggleable__label-arrow:before {content: \"▸\";float: left;margin-right: 0.25em;color: #696969;}#sk-container-id-9 label.sk-toggleable__label-arrow:hover:before {color: black;}#sk-container-id-9 div.sk-estimator:hover label.sk-toggleable__label-arrow:before {color: black;}#sk-container-id-9 div.sk-toggleable__content {max-height: 0;max-width: 0;overflow: hidden;text-align: left;background-color: #f0f8ff;}#sk-container-id-9 div.sk-toggleable__content pre {margin: 0.2em;color: black;border-radius: 0.25em;background-color: #f0f8ff;}#sk-container-id-9 input.sk-toggleable__control:checked~div.sk-toggleable__content {max-height: 200px;max-width: 100%;overflow: auto;}#sk-container-id-9 input.sk-toggleable__control:checked~label.sk-toggleable__label-arrow:before {content: \"▾\";}#sk-container-id-9 div.sk-estimator input.sk-toggleable__control:checked~label.sk-toggleable__label {background-color: #d4ebff;}#sk-container-id-9 div.sk-label input.sk-toggleable__control:checked~label.sk-toggleable__label {background-color: #d4ebff;}#sk-container-id-9 input.sk-hidden--visually {border: 0;clip: rect(1px 1px 1px 1px);clip: rect(1px, 1px, 1px, 1px);height: 1px;margin: -1px;overflow: hidden;padding: 0;position: absolute;width: 1px;}#sk-container-id-9 div.sk-estimator {font-family: monospace;background-color: #f0f8ff;border: 1px dotted black;border-radius: 0.25em;box-sizing: border-box;margin-bottom: 0.5em;}#sk-container-id-9 div.sk-estimator:hover {background-color: #d4ebff;}#sk-container-id-9 div.sk-parallel-item::after {content: \"\";width: 100%;border-bottom: 1px solid gray;flex-grow: 1;}#sk-container-id-9 div.sk-label:hover label.sk-toggleable__label {background-color: #d4ebff;}#sk-container-id-9 div.sk-serial::before {content: \"\";position: absolute;border-left: 1px solid gray;box-sizing: border-box;top: 0;bottom: 0;left: 50%;z-index: 0;}#sk-container-id-9 div.sk-serial {display: flex;flex-direction: column;align-items: center;background-color: white;padding-right: 0.2em;padding-left: 0.2em;position: relative;}#sk-container-id-9 div.sk-item {position: relative;z-index: 1;}#sk-container-id-9 div.sk-parallel {display: flex;align-items: stretch;justify-content: center;background-color: white;position: relative;}#sk-container-id-9 div.sk-item::before, #sk-container-id-9 div.sk-parallel-item::before {content: \"\";position: absolute;border-left: 1px solid gray;box-sizing: border-box;top: 0;bottom: 0;left: 50%;z-index: -1;}#sk-container-id-9 div.sk-parallel-item {display: flex;flex-direction: column;z-index: 1;position: relative;background-color: white;}#sk-container-id-9 div.sk-parallel-item:first-child::after {align-self: flex-end;width: 50%;}#sk-container-id-9 div.sk-parallel-item:last-child::after {align-self: flex-start;width: 50%;}#sk-container-id-9 div.sk-parallel-item:only-child::after {width: 0;}#sk-container-id-9 div.sk-dashed-wrapped {border: 1px dashed gray;margin: 0 0.4em 0.5em 0.4em;box-sizing: border-box;padding-bottom: 0.4em;background-color: white;}#sk-container-id-9 div.sk-label label {font-family: monospace;font-weight: bold;display: inline-block;line-height: 1.2em;}#sk-container-id-9 div.sk-label-container {text-align: center;}#sk-container-id-9 div.sk-container {/* jupyter's `normalize.less` sets `[hidden] { display: none; }` but bootstrap.min.css set `[hidden] { display: none !important; }` so we also need the `!important` here to be able to override the default hidden behavior on the sphinx rendered scikit-learn.org. See: https://github.com/scikit-learn/scikit-learn/issues/21755 */display: inline-block !important;position: relative;}#sk-container-id-9 div.sk-text-repr-fallback {display: none;}</style><div id=\"sk-container-id-9\" class=\"sk-top-container\"><div class=\"sk-text-repr-fallback\"><pre>RidgeClassifierCV(alphas=array([1.00000000e-03, 4.64158883e-03, 2.15443469e-02, 1.00000000e-01,\n",
              "       4.64158883e-01, 2.15443469e+00, 1.00000000e+01, 4.64158883e+01,\n",
              "       2.15443469e+02, 1.00000000e+03]))</pre><b>In a Jupyter environment, please rerun this cell to show the HTML representation or trust the notebook. <br />On GitHub, the HTML representation is unable to render, please try loading this page with nbviewer.org.</b></div><div class=\"sk-container\" hidden><div class=\"sk-item\"><div class=\"sk-estimator sk-toggleable\"><input class=\"sk-toggleable__control sk-hidden--visually\" id=\"sk-estimator-id-9\" type=\"checkbox\" checked><label for=\"sk-estimator-id-9\" class=\"sk-toggleable__label sk-toggleable__label-arrow\">RidgeClassifierCV</label><div class=\"sk-toggleable__content\"><pre>RidgeClassifierCV(alphas=array([1.00000000e-03, 4.64158883e-03, 2.15443469e-02, 1.00000000e-01,\n",
              "       4.64158883e-01, 2.15443469e+00, 1.00000000e+01, 4.64158883e+01,\n",
              "       2.15443469e+02, 1.00000000e+03]))</pre></div></div></div></div></div>"
            ]
          },
          "metadata": {},
          "execution_count": 137
        }
      ]
    },
    {
      "cell_type": "code",
      "source": [
        "y_pred = clf.predict(X_val_mr)\n",
        "print(classification_report(y_pred, y_val_mr))"
      ],
      "metadata": {
        "colab": {
          "base_uri": "https://localhost:8080/"
        },
        "outputId": "9426aa8b-e50d-41f5-ac82-a71c7a37bf88",
        "id": "6BK3RIo_oNPl"
      },
      "execution_count": 138,
      "outputs": [
        {
          "output_type": "stream",
          "name": "stdout",
          "text": [
            "              precision    recall  f1-score   support\n",
            "\n",
            "         0.0       0.73      0.73      0.73       176\n",
            "         1.0       0.75      0.75      0.75       190\n",
            "\n",
            "    accuracy                           0.74       366\n",
            "   macro avg       0.74      0.74      0.74       366\n",
            "weighted avg       0.74      0.74      0.74       366\n",
            "\n"
          ]
        }
      ]
    },
    {
      "cell_type": "code",
      "source": [
        "y_pred = clf.predict(X_test_rocket)\n",
        "print(classification_report(y_pred, y_test))"
      ],
      "metadata": {
        "colab": {
          "base_uri": "https://localhost:8080/"
        },
        "outputId": "7b9b6ba1-fa35-4b12-d1d7-ea0b7d159211",
        "id": "EfN-6MCNoNPl"
      },
      "execution_count": 139,
      "outputs": [
        {
          "output_type": "stream",
          "name": "stdout",
          "text": [
            "              precision    recall  f1-score   support\n",
            "\n",
            "         0.0       0.87      0.64      0.74       420\n",
            "         1.0       0.52      0.79      0.63       204\n",
            "\n",
            "    accuracy                           0.69       624\n",
            "   macro avg       0.69      0.72      0.68       624\n",
            "weighted avg       0.75      0.69      0.70       624\n",
            "\n"
          ]
        }
      ]
    },
    {
      "cell_type": "markdown",
      "metadata": {
        "id": "32JU6RMk_U-B"
      },
      "source": [
        "# Target: **Emotional Intensity** "
      ]
    },
    {
      "cell_type": "markdown",
      "metadata": {
        "id": "ORTIJ15O_U-C"
      },
      "source": [
        "## Data Preparation: PAA"
      ]
    },
    {
      "cell_type": "code",
      "execution_count": 216,
      "metadata": {
        "id": "mgV1OlWa_U-C"
      },
      "outputs": [],
      "source": [
        "def label_encoder(array):\n",
        "  new_array = np.zeros(len(array))\n",
        "  for i in range(len(array)):\n",
        "    if array[i] == \"strong\":\n",
        "      new_array[i] = 1\n",
        "  return new_array"
      ]
    },
    {
      "cell_type": "code",
      "execution_count": 217,
      "metadata": {
        "id": "IkllucBt_U-D"
      },
      "outputs": [],
      "source": [
        "y_train = categorical_train['emotional_intensity']\n",
        "y_test = categorical_test['emotional_intensity']\n",
        "y_train = label_encoder(y_train)\n",
        "y_test = label_encoder(y_test)"
      ]
    },
    {
      "cell_type": "code",
      "execution_count": 218,
      "metadata": {
        "id": "JPc0JoVs_U-D"
      },
      "outputs": [],
      "source": [
        "n_paa_segments = 300\n",
        "paa = PiecewiseAggregateApproximation(n_segments=n_paa_segments)"
      ]
    },
    {
      "cell_type": "code",
      "execution_count": 219,
      "metadata": {
        "colab": {
          "base_uri": "https://localhost:8080/"
        },
        "outputId": "f3d1b01b-03b9-4af5-cd98-eca5f8bae7d4",
        "id": "9omor21Q_U-D"
      },
      "outputs": [
        {
          "output_type": "stream",
          "name": "stderr",
          "text": [
            "/usr/local/lib/python3.10/dist-packages/tslearn/utils/utils.py:88: UserWarning: 2-Dimensional data passed. Assuming these are 1828 1-dimensional timeseries\n",
            "  warnings.warn('2-Dimensional data passed. Assuming these are '\n"
          ]
        }
      ],
      "source": [
        "X_train = paa.fit_transform(X_train_ma)\n",
        "X_train = X_train.reshape(X_train.shape[0], X_train.shape[1])"
      ]
    },
    {
      "cell_type": "code",
      "execution_count": 220,
      "metadata": {
        "colab": {
          "base_uri": "https://localhost:8080/"
        },
        "outputId": "d15b93c6-74fa-47c2-ecfb-3ca060aa77b1",
        "id": "ViWVeOav_U-E"
      },
      "outputs": [
        {
          "output_type": "stream",
          "name": "stdout",
          "text": [
            "(1828, 300) (1828,)\n"
          ]
        }
      ],
      "source": [
        "print(X_train.shape, y_train.shape)"
      ]
    },
    {
      "cell_type": "code",
      "execution_count": 221,
      "metadata": {
        "colab": {
          "base_uri": "https://localhost:8080/"
        },
        "outputId": "bcf95af3-ed91-411b-f8d4-67dfc53a97a6",
        "id": "1D761cVD_U-E"
      },
      "outputs": [
        {
          "output_type": "stream",
          "name": "stderr",
          "text": [
            "/usr/local/lib/python3.10/dist-packages/tslearn/utils/utils.py:88: UserWarning: 2-Dimensional data passed. Assuming these are 624 1-dimensional timeseries\n",
            "  warnings.warn('2-Dimensional data passed. Assuming these are '\n"
          ]
        }
      ],
      "source": [
        "X_test = paa.fit_transform(X_test_ma)\n",
        "X_test = X_test.reshape(X_test.shape[0], X_test.shape[1])"
      ]
    },
    {
      "cell_type": "code",
      "execution_count": 222,
      "metadata": {
        "colab": {
          "base_uri": "https://localhost:8080/"
        },
        "outputId": "0c8d97d4-7315-49fa-a47a-fe325005abf9",
        "id": "qiided2P_U-E"
      },
      "outputs": [
        {
          "output_type": "stream",
          "name": "stdout",
          "text": [
            "(624, 300) (624,)\n"
          ]
        }
      ],
      "source": [
        "print(X_test.shape, y_test.shape)"
      ]
    },
    {
      "cell_type": "code",
      "execution_count": 223,
      "metadata": {
        "id": "4D2HZPux_U-E"
      },
      "outputs": [],
      "source": [
        "X_train2, X_val, y_train2, y_val = train_test_split(X_train, y_train, test_size=0.2, shuffle=True, random_state=42, stratify=y_train)"
      ]
    },
    {
      "cell_type": "code",
      "execution_count": 224,
      "metadata": {
        "colab": {
          "base_uri": "https://localhost:8080/"
        },
        "outputId": "08b3ffa5-c1ba-4e49-80c3-39c3c792eae2",
        "id": "GV6CmsBf_U-E"
      },
      "outputs": [
        {
          "output_type": "stream",
          "name": "stdout",
          "text": [
            "(1462, 300) (1462,)\n",
            "(366, 300) (366,)\n"
          ]
        }
      ],
      "source": [
        "print(X_train2.shape, y_train2.shape)\n",
        "print(X_val.shape, y_val.shape)"
      ]
    },
    {
      "cell_type": "code",
      "execution_count": 225,
      "metadata": {
        "colab": {
          "base_uri": "https://localhost:8080/",
          "height": 0
        },
        "outputId": "58da3ef9-941c-48e2-e966-6ce82ee6b9f3",
        "id": "Tt9Q4mNu_U-F"
      },
      "outputs": [
        {
          "output_type": "display_data",
          "data": {
            "text/plain": [
              "<Figure size 1500x500 with 1 Axes>"
            ],
            "image/png": "[encoded data removed]"
          },
          "metadata": {}
        }
      ],
      "source": [
        "plt.figure(figsize=(15, 5))\n",
        "plt.plot(X_train[0])\n",
        "plt.show()"
      ]
    },
    {
      "cell_type": "markdown",
      "metadata": {
        "id": "wmC2og7V_U-F"
      },
      "source": [
        "## Data Preparation: SAX"
      ]
    },
    {
      "cell_type": "code",
      "execution_count": null,
      "metadata": {
        "id": "EZUXcgNu_U-J"
      },
      "outputs": [],
      "source": [
        "def label_encoder(array):\n",
        "  new_array = np.zeros(len(array))\n",
        "  for i in range(len(array)):\n",
        "    if array[i] == \"M\":\n",
        "      new_array[i] = 1\n",
        "  return new_array"
      ]
    },
    {
      "cell_type": "code",
      "execution_count": null,
      "metadata": {
        "id": "fgcOaj2P_U-K"
      },
      "outputs": [],
      "source": [
        "y_train = categorical_train['sex']\n",
        "y_test = categorical_test['sex']\n",
        "y_train = label_encoder(y_train)\n",
        "y_test = label_encoder(y_test)"
      ]
    },
    {
      "cell_type": "code",
      "execution_count": null,
      "metadata": {
        "id": "ntUo8fOq_U-K"
      },
      "outputs": [],
      "source": [
        "n_segments = 300\n",
        "alphabet_size_avg = 10\n",
        "sax = SymbolicAggregateApproximation(n_segments=n_segments, alphabet_size_avg=alphabet_size_avg)"
      ]
    },
    {
      "cell_type": "code",
      "execution_count": null,
      "metadata": {
        "colab": {
          "base_uri": "https://localhost:8080/"
        },
        "outputId": "fad9ce87-6860-4407-aa27-b6f772253a91",
        "id": "hJoudTqW_U-K"
      },
      "outputs": [
        {
          "name": "stderr",
          "output_type": "stream",
          "text": [
            "/usr/local/lib/python3.10/dist-packages/tslearn/utils/utils.py:88: UserWarning: 2-Dimensional data passed. Assuming these are 1828 1-dimensional timeseries\n",
            "  warnings.warn('2-Dimensional data passed. Assuming these are '\n"
          ]
        }
      ],
      "source": [
        "X_train = sax.fit_transform(X_train_ma)\n",
        "X_train = X_train.reshape(X_train.shape[0], X_train.shape[1])"
      ]
    },
    {
      "cell_type": "code",
      "execution_count": null,
      "metadata": {
        "colab": {
          "base_uri": "https://localhost:8080/"
        },
        "outputId": "8c767b2d-52aa-4603-c27f-a43cf361e598",
        "id": "MrVPFeOK_U-L"
      },
      "outputs": [
        {
          "name": "stdout",
          "output_type": "stream",
          "text": [
            "(1828, 300) (1828,)\n"
          ]
        }
      ],
      "source": [
        "print(X_train.shape, y_train.shape)"
      ]
    },
    {
      "cell_type": "code",
      "execution_count": null,
      "metadata": {
        "colab": {
          "base_uri": "https://localhost:8080/"
        },
        "outputId": "93301377-edb3-4391-de76-0d7238a2776b",
        "id": "VGldpuFo_U-L"
      },
      "outputs": [
        {
          "name": "stderr",
          "output_type": "stream",
          "text": [
            "/usr/local/lib/python3.10/dist-packages/tslearn/utils/utils.py:88: UserWarning: 2-Dimensional data passed. Assuming these are 624 1-dimensional timeseries\n",
            "  warnings.warn('2-Dimensional data passed. Assuming these are '\n"
          ]
        }
      ],
      "source": [
        "X_test = sax.fit_transform(X_test_ma)\n",
        "X_test = X_test.reshape(X_test.shape[0], X_test.shape[1])"
      ]
    },
    {
      "cell_type": "code",
      "execution_count": null,
      "metadata": {
        "colab": {
          "base_uri": "https://localhost:8080/"
        },
        "outputId": "5277195d-fb07-4122-ac65-05a21b03ffcc",
        "id": "mTZjB_xM_U-L"
      },
      "outputs": [
        {
          "name": "stdout",
          "output_type": "stream",
          "text": [
            "(624, 300) (624,)\n"
          ]
        }
      ],
      "source": [
        "print(X_test.shape, y_test.shape)"
      ]
    },
    {
      "cell_type": "code",
      "execution_count": null,
      "metadata": {
        "id": "pvYZ9mev_U-M"
      },
      "outputs": [],
      "source": [
        "X_train2, X_val, y_train2, y_val = train_test_split(X_train, y_train, test_size=0.2, shuffle=True, random_state=42, stratify=y_train)"
      ]
    },
    {
      "cell_type": "code",
      "execution_count": null,
      "metadata": {
        "colab": {
          "base_uri": "https://localhost:8080/"
        },
        "outputId": "9711b6b2-9396-40e5-a2d5-9c6eb26cf7e3",
        "id": "5Ij3N0pB_U-M"
      },
      "outputs": [
        {
          "name": "stdout",
          "output_type": "stream",
          "text": [
            "(1462, 300) (1462,)\n",
            "(366, 300) (366,)\n"
          ]
        }
      ],
      "source": [
        "print(X_train2.shape, y_train2.shape)\n",
        "print(X_val.shape, y_val.shape)"
      ]
    },
    {
      "cell_type": "code",
      "execution_count": null,
      "metadata": {
        "colab": {
          "base_uri": "https://localhost:8080/"
        },
        "outputId": "72bf2fb2-5e06-4a93-94b3-b822c4e8e5f7",
        "id": "bzvX47hu_U-N"
      },
      "outputs": [
        {
          "data": {
            "image/png": "[encoded data removed]",
            "text/plain": [
              "<Figure size 1500x500 with 1 Axes>"
            ]
          },
          "metadata": {},
          "output_type": "display_data"
        }
      ],
      "source": [
        "plt.figure(figsize=(15, 5))\n",
        "plt.plot(X_train[0])\n",
        "plt.show()"
      ]
    },
    {
      "cell_type": "markdown",
      "metadata": {
        "id": "-p5PeR73_U-N"
      },
      "source": [
        "## Training"
      ]
    },
    {
      "cell_type": "code",
      "execution_count": 45,
      "metadata": {
        "colab": {
          "base_uri": "https://localhost:8080/"
        },
        "outputId": "58e46421-35b5-45d3-ca8a-5aae20a968c5",
        "id": "nmKQtoar_U-N"
      },
      "outputs": [
        {
          "output_type": "stream",
          "name": "stdout",
          "text": [
            "0.5475903344190513 KNeighborsClassifier(metric='euclidean', n_neighbors=105, weights='distance')\n"
          ]
        }
      ],
      "source": [
        "# KNN Minkowski\n",
        "param_grid = {'n_neighbors': np.arange(2, X_train.shape[0]//2),\n",
        "              'metric': ['euclidean', 'cityblock'],\n",
        "              'weights': ['uniform', 'distance']\n",
        "              }\n",
        "\n",
        "search = RandomizedSearchCV(KNeighborsClassifier(),\n",
        "                      param_grid,\n",
        "                      cv=KFold(3, shuffle=True, random_state=42),\n",
        "                      n_iter=100,\n",
        "                      n_jobs=-1,\n",
        "                      scoring='accuracy'\n",
        "                      )\n",
        "search.fit(X_train, y_train)\n",
        "print(search.best_score_, search.best_estimator_)"
      ]
    },
    {
      "cell_type": "code",
      "execution_count": 46,
      "metadata": {
        "colab": {
          "base_uri": "https://localhost:8080/"
        },
        "outputId": "cda05eda-1637-4674-ee05-99a7b3b7de5c",
        "id": "wdFZiI6R_U-O"
      },
      "outputs": [
        {
          "output_type": "stream",
          "name": "stdout",
          "text": [
            "              precision    recall  f1-score   support\n",
            "\n",
            "         0.0       0.54      1.00      0.70       336\n",
            "         1.0       0.00      0.00      0.00       288\n",
            "\n",
            "    accuracy                           0.54       624\n",
            "   macro avg       0.27      0.50      0.35       624\n",
            "weighted avg       0.29      0.54      0.38       624\n",
            "\n"
          ]
        },
        {
          "output_type": "stream",
          "name": "stderr",
          "text": [
            "/usr/local/lib/python3.10/dist-packages/sklearn/metrics/_classification.py:1344: UndefinedMetricWarning: Precision and F-score are ill-defined and being set to 0.0 in labels with no predicted samples. Use `zero_division` parameter to control this behavior.\n",
            "  _warn_prf(average, modifier, msg_start, len(result))\n",
            "/usr/local/lib/python3.10/dist-packages/sklearn/metrics/_classification.py:1344: UndefinedMetricWarning: Precision and F-score are ill-defined and being set to 0.0 in labels with no predicted samples. Use `zero_division` parameter to control this behavior.\n",
            "  _warn_prf(average, modifier, msg_start, len(result))\n",
            "/usr/local/lib/python3.10/dist-packages/sklearn/metrics/_classification.py:1344: UndefinedMetricWarning: Precision and F-score are ill-defined and being set to 0.0 in labels with no predicted samples. Use `zero_division` parameter to control this behavior.\n",
            "  _warn_prf(average, modifier, msg_start, len(result))\n"
          ]
        }
      ],
      "source": [
        "clf = search.best_estimator_\n",
        "clf.fit(X_train, y_train)\n",
        "y_pred = clf.predict(X_test)\n",
        "print(classification_report(y_test, y_pred))"
      ]
    },
    {
      "cell_type": "code",
      "execution_count": 47,
      "metadata": {
        "colab": {
          "base_uri": "https://localhost:8080/"
        },
        "outputId": "690076bd-5376-488f-ca2d-d6e188cd2119",
        "id": "lRVvnWxV_U-O"
      },
      "outputs": [
        {
          "output_type": "stream",
          "name": "stdout",
          "text": [
            "              precision    recall  f1-score   support\n",
            "\n",
            "         0.0       0.62      0.89      0.73       197\n",
            "         1.0       0.75      0.37      0.49       169\n",
            "\n",
            "    accuracy                           0.65       366\n",
            "   macro avg       0.68      0.63      0.61       366\n",
            "weighted avg       0.68      0.65      0.62       366\n",
            "\n"
          ]
        }
      ],
      "source": [
        "# KNN DTW: with PAA = 300 about 6 mins\n",
        "clf = KNeighborsClassifier_pyts(n_neighbors=67, \n",
        "                                metric='dtw_sakoechiba', \n",
        "                                weights='distance',\n",
        "                                n_jobs=-1,\n",
        "                                metric_params={'window_size': 0.1})\n",
        "clf.fit(X_train2, y_train2)\n",
        "y_pred = clf.predict(X_val)\n",
        "print(classification_report(y_val, y_pred))"
      ]
    },
    {
      "cell_type": "code",
      "execution_count": 48,
      "metadata": {
        "colab": {
          "base_uri": "https://localhost:8080/"
        },
        "outputId": "d83537d2-2418-4278-f548-dc84feaf96a1",
        "id": "ShmOb1Gt_U-O"
      },
      "outputs": [
        {
          "output_type": "stream",
          "name": "stdout",
          "text": [
            "              precision    recall  f1-score   support\n",
            "\n",
            "         0.0       0.60      0.94      0.74       336\n",
            "         1.0       0.80      0.28      0.42       288\n",
            "\n",
            "    accuracy                           0.64       624\n",
            "   macro avg       0.70      0.61      0.58       624\n",
            "weighted avg       0.70      0.64      0.59       624\n",
            "\n"
          ]
        }
      ],
      "source": [
        "y_pred = clf.predict(X_test)\n",
        "print(classification_report(y_test, y_pred))"
      ]
    },
    {
      "cell_type": "code",
      "execution_count": 49,
      "metadata": {
        "colab": {
          "base_uri": "https://localhost:8080/"
        },
        "outputId": "cda21103-91ea-400a-e65d-efa907c575db",
        "id": "wLBrkrca_U-P"
      },
      "outputs": [
        {
          "output_type": "stream",
          "name": "stdout",
          "text": [
            "              precision    recall  f1-score   support\n",
            "\n",
            "         0.0       0.71      0.80      0.75       197\n",
            "         1.0       0.73      0.62      0.67       169\n",
            "\n",
            "    accuracy                           0.72       366\n",
            "   macro avg       0.72      0.71      0.71       366\n",
            "weighted avg       0.72      0.72      0.71       366\n",
            "\n"
          ]
        }
      ],
      "source": [
        "# CIF\n",
        "clf = CanonicalIntervalForest(n_estimators=30)\n",
        "clf.fit(X_train2, y_train2)\n",
        "y_pred = clf.predict(X_val)\n",
        "print(classification_report(y_val, y_pred))"
      ]
    },
    {
      "cell_type": "code",
      "source": [
        "clf = CanonicalIntervalForest(n_estimators=100)\n",
        "clf.fit(X_train2, y_train2)\n",
        "y_pred = clf.predict(X_val)\n",
        "print(classification_report(y_val, y_pred))"
      ],
      "metadata": {
        "colab": {
          "base_uri": "https://localhost:8080/"
        },
        "outputId": "5dcad911-4513-4a27-d042-989f18bdf9cc",
        "id": "z4Rf47UH_U-P"
      },
      "execution_count": 50,
      "outputs": [
        {
          "output_type": "stream",
          "name": "stdout",
          "text": [
            "              precision    recall  f1-score   support\n",
            "\n",
            "         0.0       0.70      0.81      0.75       197\n",
            "         1.0       0.73      0.59      0.65       169\n",
            "\n",
            "    accuracy                           0.71       366\n",
            "   macro avg       0.71      0.70      0.70       366\n",
            "weighted avg       0.71      0.71      0.70       366\n",
            "\n"
          ]
        }
      ]
    },
    {
      "cell_type": "markdown",
      "source": [
        "### Shapelet-Based"
      ],
      "metadata": {
        "id": "DPBq7NKIbx5S"
      }
    },
    {
      "cell_type": "code",
      "source": [
        "n_ts, ts_sz = X_train.shape\n",
        "n_classes = len(set(y_train))\n",
        "\n",
        "# Set the number of shapelets per size as done in the original paper\n",
        "shapelet_sizes = grabocka_params_to_shapelet_size_dict(n_ts=n_ts,\n",
        "                                                       ts_sz=ts_sz,\n",
        "                                                       n_classes=n_classes,\n",
        "                                                       l=0.1,\n",
        "                                                       r=1)\n",
        "\n",
        "print('n_ts', n_ts)\n",
        "print('ts_sz', ts_sz)\n",
        "print('n_classes', n_classes)\n",
        "print('shapelet_sizes', shapelet_sizes)"
      ],
      "metadata": {
        "colab": {
          "base_uri": "https://localhost:8080/"
        },
        "outputId": "2d6cc428-0b37-40b6-d31c-88fd409a0fca",
        "id": "L66VgEoSbx5S"
      },
      "execution_count": 226,
      "outputs": [
        {
          "output_type": "stream",
          "name": "stdout",
          "text": [
            "n_ts 1828\n",
            "ts_sz 300\n",
            "n_classes 2\n",
            "shapelet_sizes {30: 5}\n"
          ]
        }
      ]
    },
    {
      "cell_type": "code",
      "source": [
        "shp_clf = ShapeletModel(n_shapelets_per_size=shapelet_sizes,\n",
        "                        optimizer=\"sgd\",\n",
        "                        weight_regularizer=.01,\n",
        "                        max_iter=200,\n",
        "                        verbose=0)"
      ],
      "metadata": {
        "colab": {
          "base_uri": "https://localhost:8080/"
        },
        "outputId": "5a09b0dd-c1a7-4b4a-a449-657eb8a3a59b",
        "id": "4xaJDagpbx5T"
      },
      "execution_count": 227,
      "outputs": [
        {
          "output_type": "stream",
          "name": "stderr",
          "text": [
            "/usr/local/lib/python3.10/dist-packages/tslearn/shapelets/shapelets.py:354: FutureWarning: The default value for 'scale' is set to False in version 0.4 to ensure backward compatibility, but is likely to change in a future version.\n",
            "  warnings.warn(\"The default value for 'scale' is set to False \"\n"
          ]
        }
      ]
    },
    {
      "cell_type": "code",
      "source": [
        "X_train_shap = shp_clf.fit_transform(X_train, y_train)\n",
        "X_test_shap = shp_clf.fit_transform(X_test, y_test)"
      ],
      "metadata": {
        "id": "uj7EWFUYbx5T"
      },
      "execution_count": 228,
      "outputs": []
    },
    {
      "cell_type": "code",
      "source": [
        "print(X_train_shap.shape)\n",
        "print(X_test_shap.shape)"
      ],
      "metadata": {
        "colab": {
          "base_uri": "https://localhost:8080/"
        },
        "outputId": "b1963bd3-0a7f-4d31-c1bc-12fe9e403232",
        "id": "-Kv3yp-Sbx5T"
      },
      "execution_count": 229,
      "outputs": [
        {
          "output_type": "stream",
          "name": "stdout",
          "text": [
            "(1828, 5)\n",
            "(624, 5)\n"
          ]
        }
      ]
    },
    {
      "cell_type": "code",
      "source": [
        "# train-val split\n",
        "X_train_shap2, X_val_shap, y_train_shap2, y_val_shap = train_test_split(X_train_shap, y_train, test_size=0.2, shuffle=True, random_state=42)"
      ],
      "metadata": {
        "id": "qjFK_Lajbx5U"
      },
      "execution_count": 230,
      "outputs": []
    },
    {
      "cell_type": "code",
      "source": [
        "print(X_train_shap2.shape, y_train_shap2.shape)\n",
        "print(X_val_shap.shape, y_val_shap.shape)"
      ],
      "metadata": {
        "colab": {
          "base_uri": "https://localhost:8080/"
        },
        "outputId": "eace8c7f-170c-453d-fec5-a6979262ba72",
        "id": "iI5dlSCtbx5U"
      },
      "execution_count": 231,
      "outputs": [
        {
          "output_type": "stream",
          "name": "stdout",
          "text": [
            "(1462, 5) (1462,)\n",
            "(366, 5) (366,)\n"
          ]
        }
      ]
    },
    {
      "cell_type": "code",
      "source": [
        "param_grid = {\n",
        "    \"min_samples_split\": sp.loguniform(1e-2, 1e0),\n",
        "    \"min_samples_leaf\": sp.uniform(0.001, 0.2),\n",
        "    \"max_depth\": sp.randint(2, 200),\n",
        "    \"criterion\": [\"gini\", \"entropy\", \"log_loss\"], \n",
        "}\n",
        "\n",
        "search = RandomizedSearchCV(DecisionTreeClassifier(),\n",
        "                            param_distributions=param_grid,\n",
        "                            cv=KFold(3, shuffle=True, random_state=42),\n",
        "                            n_iter=50,\n",
        "                            n_jobs=-1,\n",
        "                            scoring='accuracy')\n",
        "\n",
        "search.fit(X_train_shap, y_train)\n",
        "print(search.best_score_, search.best_estimator_)"
      ],
      "metadata": {
        "colab": {
          "base_uri": "https://localhost:8080/"
        },
        "outputId": "684bd341-6f07-44ce-d0bc-b9420c059bc5",
        "id": "JLIWNKIvbx5U"
      },
      "execution_count": 232,
      "outputs": [
        {
          "output_type": "stream",
          "name": "stdout",
          "text": [
            "0.6559171624180103 DecisionTreeClassifier(criterion='entropy', max_depth=55,\n",
            "                       min_samples_leaf=0.048758851197231425,\n",
            "                       min_samples_split=0.38050797554741744)\n"
          ]
        }
      ]
    },
    {
      "cell_type": "code",
      "source": [
        "clf = search.best_estimator_\n",
        "y_pred = clf.predict(X_val_shap)\n",
        "print(classification_report(y_val_shap, y_pred))"
      ],
      "metadata": {
        "colab": {
          "base_uri": "https://localhost:8080/"
        },
        "outputId": "84cf0815-83e7-4f15-ed35-f8521921727b",
        "id": "3dW4iNJPbx5V"
      },
      "execution_count": 233,
      "outputs": [
        {
          "output_type": "stream",
          "name": "stdout",
          "text": [
            "              precision    recall  f1-score   support\n",
            "\n",
            "         0.0       0.66      0.81      0.73       202\n",
            "         1.0       0.67      0.49      0.57       164\n",
            "\n",
            "    accuracy                           0.66       366\n",
            "   macro avg       0.67      0.65      0.65       366\n",
            "weighted avg       0.67      0.66      0.65       366\n",
            "\n"
          ]
        }
      ]
    },
    {
      "cell_type": "code",
      "source": [
        "clf = search.best_estimator_\n",
        "y_pred = clf.predict(X_test_shap)\n",
        "print(classification_report(y_test, y_pred))"
      ],
      "metadata": {
        "colab": {
          "base_uri": "https://localhost:8080/"
        },
        "outputId": "d5451b07-f4a3-4ae7-92ac-59e43f15fe37",
        "id": "g5mQnQp7bx5V"
      },
      "execution_count": 234,
      "outputs": [
        {
          "output_type": "stream",
          "name": "stdout",
          "text": [
            "              precision    recall  f1-score   support\n",
            "\n",
            "         0.0       0.00      0.00      0.00       336\n",
            "         1.0       0.46      1.00      0.63       288\n",
            "\n",
            "    accuracy                           0.46       624\n",
            "   macro avg       0.23      0.50      0.32       624\n",
            "weighted avg       0.21      0.46      0.29       624\n",
            "\n"
          ]
        },
        {
          "output_type": "stream",
          "name": "stderr",
          "text": [
            "/usr/local/lib/python3.10/dist-packages/sklearn/metrics/_classification.py:1344: UndefinedMetricWarning: Precision and F-score are ill-defined and being set to 0.0 in labels with no predicted samples. Use `zero_division` parameter to control this behavior.\n",
            "  _warn_prf(average, modifier, msg_start, len(result))\n",
            "/usr/local/lib/python3.10/dist-packages/sklearn/metrics/_classification.py:1344: UndefinedMetricWarning: Precision and F-score are ill-defined and being set to 0.0 in labels with no predicted samples. Use `zero_division` parameter to control this behavior.\n",
            "  _warn_prf(average, modifier, msg_start, len(result))\n",
            "/usr/local/lib/python3.10/dist-packages/sklearn/metrics/_classification.py:1344: UndefinedMetricWarning: Precision and F-score are ill-defined and being set to 0.0 in labels with no predicted samples. Use `zero_division` parameter to control this behavior.\n",
            "  _warn_prf(average, modifier, msg_start, len(result))\n"
          ]
        }
      ]
    },
    {
      "cell_type": "code",
      "source": [
        "param_grid = {\n",
        "              'n_neighbors': np.arange(2, X_train_shap.shape[0]//2),\n",
        "              'weights': ['uniform', 'distance'],\n",
        "              'metric': ['euclidean', 'cityblock']\n",
        "             }\n",
        "\n",
        "search = RandomizedSearchCV(KNeighborsClassifier(),\n",
        "                            param_distributions=param_grid,\n",
        "                            cv=KFold(3, shuffle=True, random_state=42),\n",
        "                            n_iter=50,\n",
        "                            n_jobs=-1,\n",
        "                            scoring='accuracy')\n",
        "\n",
        "search.fit(X_train_shap, y_train)\n",
        "print(search.best_score_, search.best_estimator_)"
      ],
      "metadata": {
        "colab": {
          "base_uri": "https://localhost:8080/"
        },
        "id": "4VA_l8eJc5I8",
        "outputId": "19a4eb0c-65f8-4dd2-f819-23b5f96b43a3"
      },
      "execution_count": 235,
      "outputs": [
        {
          "output_type": "stream",
          "name": "stdout",
          "text": [
            "0.6706757472161655 KNeighborsClassifier(metric='cityblock', n_neighbors=112)\n"
          ]
        }
      ]
    },
    {
      "cell_type": "code",
      "source": [
        "clf = search.best_estimator_\n",
        "y_pred = clf.predict(X_val_shap)\n",
        "print(classification_report(y_val_shap, y_pred))"
      ],
      "metadata": {
        "colab": {
          "base_uri": "https://localhost:8080/"
        },
        "outputId": "b8c7234b-2ab7-4bd1-e744-46878197d7ce",
        "id": "2uINAN-vdHBb"
      },
      "execution_count": 236,
      "outputs": [
        {
          "output_type": "stream",
          "name": "stdout",
          "text": [
            "              precision    recall  f1-score   support\n",
            "\n",
            "         0.0       0.70      0.73      0.71       202\n",
            "         1.0       0.65      0.61      0.63       164\n",
            "\n",
            "    accuracy                           0.68       366\n",
            "   macro avg       0.67      0.67      0.67       366\n",
            "weighted avg       0.68      0.68      0.68       366\n",
            "\n"
          ]
        }
      ]
    },
    {
      "cell_type": "code",
      "source": [
        "clf = search.best_estimator_\n",
        "y_pred = clf.predict(X_test_shap)\n",
        "print(classification_report(y_test, y_pred))"
      ],
      "metadata": {
        "colab": {
          "base_uri": "https://localhost:8080/"
        },
        "outputId": "5cf701ab-9cd8-4934-e2c7-f9e50ea1252e",
        "id": "EKGNGLLNdHBb"
      },
      "execution_count": 237,
      "outputs": [
        {
          "output_type": "stream",
          "name": "stdout",
          "text": [
            "              precision    recall  f1-score   support\n",
            "\n",
            "         0.0       0.00      0.00      0.00       336\n",
            "         1.0       0.46      1.00      0.63       288\n",
            "\n",
            "    accuracy                           0.46       624\n",
            "   macro avg       0.23      0.50      0.32       624\n",
            "weighted avg       0.21      0.46      0.29       624\n",
            "\n"
          ]
        },
        {
          "output_type": "stream",
          "name": "stderr",
          "text": [
            "/usr/local/lib/python3.10/dist-packages/sklearn/metrics/_classification.py:1344: UndefinedMetricWarning: Precision and F-score are ill-defined and being set to 0.0 in labels with no predicted samples. Use `zero_division` parameter to control this behavior.\n",
            "  _warn_prf(average, modifier, msg_start, len(result))\n",
            "/usr/local/lib/python3.10/dist-packages/sklearn/metrics/_classification.py:1344: UndefinedMetricWarning: Precision and F-score are ill-defined and being set to 0.0 in labels with no predicted samples. Use `zero_division` parameter to control this behavior.\n",
            "  _warn_prf(average, modifier, msg_start, len(result))\n",
            "/usr/local/lib/python3.10/dist-packages/sklearn/metrics/_classification.py:1344: UndefinedMetricWarning: Precision and F-score are ill-defined and being set to 0.0 in labels with no predicted samples. Use `zero_division` parameter to control this behavior.\n",
            "  _warn_prf(average, modifier, msg_start, len(result))\n"
          ]
        }
      ]
    },
    {
      "cell_type": "markdown",
      "source": [
        "### Rocket"
      ],
      "metadata": {
        "id": "ZgARXT1foVR9"
      }
    },
    {
      "cell_type": "code",
      "source": [
        "# train-val split\n",
        "X_train_mr2, X_val_mr, y_train_mr2, y_val_mr = train_test_split(X_train_rocket, y_train, test_size=0.2, shuffle=True, random_state=42)"
      ],
      "metadata": {
        "id": "PqQl18LVoVSA"
      },
      "execution_count": 154,
      "outputs": []
    },
    {
      "cell_type": "code",
      "source": [
        "print(X_train_mr2.shape, y_train_mr2.shape)\n",
        "print(X_val_mr.shape, y_val_mr.shape)"
      ],
      "metadata": {
        "colab": {
          "base_uri": "https://localhost:8080/"
        },
        "outputId": "483692b1-af37-4992-be92-190927803576",
        "id": "L7JW9QeEoVSB"
      },
      "execution_count": 155,
      "outputs": [
        {
          "output_type": "stream",
          "name": "stdout",
          "text": [
            "(1462, 20000) (1462,)\n",
            "(366, 20000) (366,)\n"
          ]
        }
      ]
    },
    {
      "cell_type": "code",
      "source": [
        "clf = RidgeClassifierCV(alphas=np.logspace(-3, 3, 10))\n",
        "clf.fit(X_train_mr2, y_train_mr2)"
      ],
      "metadata": {
        "colab": {
          "base_uri": "https://localhost:8080/",
          "height": 109
        },
        "outputId": "a6a812ff-2e77-4639-e7a8-a4ae2ce9a294",
        "id": "z6HJTQZqoVSB"
      },
      "execution_count": 156,
      "outputs": [
        {
          "output_type": "execute_result",
          "data": {
            "text/plain": [
              "RidgeClassifierCV(alphas=array([1.00000000e-03, 4.64158883e-03, 2.15443469e-02, 1.00000000e-01,\n",
              "       4.64158883e-01, 2.15443469e+00, 1.00000000e+01, 4.64158883e+01,\n",
              "       2.15443469e+02, 1.00000000e+03]))"
            ],
            "text/html": [
              "<style>#sk-container-id-10 {color: black;background-color: white;}#sk-container-id-10 pre{padding: 0;}#sk-container-id-10 div.sk-toggleable {background-color: white;}#sk-container-id-10 label.sk-toggleable__label {cursor: pointer;display: block;width: 100%;margin-bottom: 0;padding: 0.3em;box-sizing: border-box;text-align: center;}#sk-container-id-10 label.sk-toggleable__label-arrow:before {content: \"▸\";float: left;margin-right: 0.25em;color: #696969;}#sk-container-id-10 label.sk-toggleable__label-arrow:hover:before {color: black;}#sk-container-id-10 div.sk-estimator:hover label.sk-toggleable__label-arrow:before {color: black;}#sk-container-id-10 div.sk-toggleable__content {max-height: 0;max-width: 0;overflow: hidden;text-align: left;background-color: #f0f8ff;}#sk-container-id-10 div.sk-toggleable__content pre {margin: 0.2em;color: black;border-radius: 0.25em;background-color: #f0f8ff;}#sk-container-id-10 input.sk-toggleable__control:checked~div.sk-toggleable__content {max-height: 200px;max-width: 100%;overflow: auto;}#sk-container-id-10 input.sk-toggleable__control:checked~label.sk-toggleable__label-arrow:before {content: \"▾\";}#sk-container-id-10 div.sk-estimator input.sk-toggleable__control:checked~label.sk-toggleable__label {background-color: #d4ebff;}#sk-container-id-10 div.sk-label input.sk-toggleable__control:checked~label.sk-toggleable__label {background-color: #d4ebff;}#sk-container-id-10 input.sk-hidden--visually {border: 0;clip: rect(1px 1px 1px 1px);clip: rect(1px, 1px, 1px, 1px);height: 1px;margin: -1px;overflow: hidden;padding: 0;position: absolute;width: 1px;}#sk-container-id-10 div.sk-estimator {font-family: monospace;background-color: #f0f8ff;border: 1px dotted black;border-radius: 0.25em;box-sizing: border-box;margin-bottom: 0.5em;}#sk-container-id-10 div.sk-estimator:hover {background-color: #d4ebff;}#sk-container-id-10 div.sk-parallel-item::after {content: \"\";width: 100%;border-bottom: 1px solid gray;flex-grow: 1;}#sk-container-id-10 div.sk-label:hover label.sk-toggleable__label {background-color: #d4ebff;}#sk-container-id-10 div.sk-serial::before {content: \"\";position: absolute;border-left: 1px solid gray;box-sizing: border-box;top: 0;bottom: 0;left: 50%;z-index: 0;}#sk-container-id-10 div.sk-serial {display: flex;flex-direction: column;align-items: center;background-color: white;padding-right: 0.2em;padding-left: 0.2em;position: relative;}#sk-container-id-10 div.sk-item {position: relative;z-index: 1;}#sk-container-id-10 div.sk-parallel {display: flex;align-items: stretch;justify-content: center;background-color: white;position: relative;}#sk-container-id-10 div.sk-item::before, #sk-container-id-10 div.sk-parallel-item::before {content: \"\";position: absolute;border-left: 1px solid gray;box-sizing: border-box;top: 0;bottom: 0;left: 50%;z-index: -1;}#sk-container-id-10 div.sk-parallel-item {display: flex;flex-direction: column;z-index: 1;position: relative;background-color: white;}#sk-container-id-10 div.sk-parallel-item:first-child::after {align-self: flex-end;width: 50%;}#sk-container-id-10 div.sk-parallel-item:last-child::after {align-self: flex-start;width: 50%;}#sk-container-id-10 div.sk-parallel-item:only-child::after {width: 0;}#sk-container-id-10 div.sk-dashed-wrapped {border: 1px dashed gray;margin: 0 0.4em 0.5em 0.4em;box-sizing: border-box;padding-bottom: 0.4em;background-color: white;}#sk-container-id-10 div.sk-label label {font-family: monospace;font-weight: bold;display: inline-block;line-height: 1.2em;}#sk-container-id-10 div.sk-label-container {text-align: center;}#sk-container-id-10 div.sk-container {/* jupyter's `normalize.less` sets `[hidden] { display: none; }` but bootstrap.min.css set `[hidden] { display: none !important; }` so we also need the `!important` here to be able to override the default hidden behavior on the sphinx rendered scikit-learn.org. See: https://github.com/scikit-learn/scikit-learn/issues/21755 */display: inline-block !important;position: relative;}#sk-container-id-10 div.sk-text-repr-fallback {display: none;}</style><div id=\"sk-container-id-10\" class=\"sk-top-container\"><div class=\"sk-text-repr-fallback\"><pre>RidgeClassifierCV(alphas=array([1.00000000e-03, 4.64158883e-03, 2.15443469e-02, 1.00000000e-01,\n",
              "       4.64158883e-01, 2.15443469e+00, 1.00000000e+01, 4.64158883e+01,\n",
              "       2.15443469e+02, 1.00000000e+03]))</pre><b>In a Jupyter environment, please rerun this cell to show the HTML representation or trust the notebook. <br />On GitHub, the HTML representation is unable to render, please try loading this page with nbviewer.org.</b></div><div class=\"sk-container\" hidden><div class=\"sk-item\"><div class=\"sk-estimator sk-toggleable\"><input class=\"sk-toggleable__control sk-hidden--visually\" id=\"sk-estimator-id-10\" type=\"checkbox\" checked><label for=\"sk-estimator-id-10\" class=\"sk-toggleable__label sk-toggleable__label-arrow\">RidgeClassifierCV</label><div class=\"sk-toggleable__content\"><pre>RidgeClassifierCV(alphas=array([1.00000000e-03, 4.64158883e-03, 2.15443469e-02, 1.00000000e-01,\n",
              "       4.64158883e-01, 2.15443469e+00, 1.00000000e+01, 4.64158883e+01,\n",
              "       2.15443469e+02, 1.00000000e+03]))</pre></div></div></div></div></div>"
            ]
          },
          "metadata": {},
          "execution_count": 156
        }
      ]
    },
    {
      "cell_type": "code",
      "source": [
        "y_pred = clf.predict(X_val_mr)\n",
        "print(classification_report(y_pred, y_val_mr))"
      ],
      "metadata": {
        "colab": {
          "base_uri": "https://localhost:8080/"
        },
        "outputId": "573d8377-174c-463d-88b2-ec425abe6fe9",
        "id": "FqIu-Yv6oVSC"
      },
      "execution_count": 157,
      "outputs": [
        {
          "output_type": "stream",
          "name": "stdout",
          "text": [
            "              precision    recall  f1-score   support\n",
            "\n",
            "         0.0       0.82      0.68      0.74       243\n",
            "         1.0       0.52      0.70      0.60       123\n",
            "\n",
            "    accuracy                           0.69       366\n",
            "   macro avg       0.67      0.69      0.67       366\n",
            "weighted avg       0.72      0.69      0.69       366\n",
            "\n"
          ]
        }
      ]
    },
    {
      "cell_type": "code",
      "source": [
        "y_pred = clf.predict(X_test_rocket)\n",
        "print(classification_report(y_pred, y_test))"
      ],
      "metadata": {
        "colab": {
          "base_uri": "https://localhost:8080/"
        },
        "outputId": "4b2be12d-26b4-4870-ad87-ee8f419401a1",
        "id": "X4FXyGrgoVSC"
      },
      "execution_count": 158,
      "outputs": [
        {
          "output_type": "stream",
          "name": "stdout",
          "text": [
            "              precision    recall  f1-score   support\n",
            "\n",
            "         0.0       0.79      0.65      0.72       407\n",
            "         1.0       0.51      0.68      0.58       217\n",
            "\n",
            "    accuracy                           0.66       624\n",
            "   macro avg       0.65      0.67      0.65       624\n",
            "weighted avg       0.69      0.66      0.67       624\n",
            "\n"
          ]
        }
      ]
    },
    {
      "cell_type": "markdown",
      "metadata": {
        "id": "f3eFCSGrltjj"
      },
      "source": [
        "# Target: **Emotion** "
      ]
    },
    {
      "cell_type": "markdown",
      "metadata": {
        "id": "UPuoZVD7ltjk"
      },
      "source": [
        "## Data Preparation: PAA"
      ]
    },
    {
      "cell_type": "code",
      "execution_count": 238,
      "metadata": {
        "id": "NTI8QM5dltjk"
      },
      "outputs": [],
      "source": [
        "def label_encoder(array):\n",
        "  new_array = np.zeros(len(array))\n",
        "  for i in range(len(array)):\n",
        "    if array[i] == \"calm\":\n",
        "      new_array[i] = 1\n",
        "    elif array[i] == \"happy\":\n",
        "      new_array[i] = 2\n",
        "    elif array[i] == \"sad\":\n",
        "      new_array[i] = 3\n",
        "    elif array[i] == \"angry\":\n",
        "      new_array[i] = 4\n",
        "    elif array[i] == \"fearful\":\n",
        "      new_array[i] = 5\n",
        "    elif array[i] == \"disgust\":\n",
        "      new_array[i] = 6\n",
        "    elif array[i] == \"surprised\":\n",
        "      new_array[i] = 7\n",
        "  return new_array"
      ]
    },
    {
      "cell_type": "code",
      "execution_count": 239,
      "metadata": {
        "id": "rhYvRmyMltjk"
      },
      "outputs": [],
      "source": [
        "y_train = categorical_train['emotion']\n",
        "y_test = categorical_test['emotion']\n",
        "y_train = label_encoder(y_train)\n",
        "y_test = label_encoder(y_test)"
      ]
    },
    {
      "cell_type": "code",
      "execution_count": 240,
      "metadata": {
        "id": "kcVCgPbrltjl"
      },
      "outputs": [],
      "source": [
        "n_paa_segments = 300\n",
        "paa = PiecewiseAggregateApproximation(n_segments=n_paa_segments)"
      ]
    },
    {
      "cell_type": "code",
      "execution_count": 241,
      "metadata": {
        "colab": {
          "base_uri": "https://localhost:8080/"
        },
        "outputId": "82751179-c2d7-4498-c36c-1b0b283a27dc",
        "id": "VLuHZsvUltjl"
      },
      "outputs": [
        {
          "output_type": "stream",
          "name": "stderr",
          "text": [
            "/usr/local/lib/python3.10/dist-packages/tslearn/utils/utils.py:88: UserWarning: 2-Dimensional data passed. Assuming these are 1828 1-dimensional timeseries\n",
            "  warnings.warn('2-Dimensional data passed. Assuming these are '\n"
          ]
        }
      ],
      "source": [
        "X_train = paa.fit_transform(X_train_ma)\n",
        "X_train = X_train.reshape(X_train.shape[0], X_train.shape[1])"
      ]
    },
    {
      "cell_type": "code",
      "execution_count": 242,
      "metadata": {
        "colab": {
          "base_uri": "https://localhost:8080/"
        },
        "outputId": "77730664-4763-46f3-cb34-c0259e7562df",
        "id": "nE47HOnrltjl"
      },
      "outputs": [
        {
          "output_type": "stream",
          "name": "stdout",
          "text": [
            "(1828, 300) (1828,)\n"
          ]
        }
      ],
      "source": [
        "print(X_train.shape, y_train.shape)"
      ]
    },
    {
      "cell_type": "code",
      "execution_count": 243,
      "metadata": {
        "colab": {
          "base_uri": "https://localhost:8080/"
        },
        "outputId": "985d27c1-eb57-4fc9-af4c-e46e8f05baeb",
        "id": "6_JfQPycltjm"
      },
      "outputs": [
        {
          "output_type": "stream",
          "name": "stderr",
          "text": [
            "/usr/local/lib/python3.10/dist-packages/tslearn/utils/utils.py:88: UserWarning: 2-Dimensional data passed. Assuming these are 624 1-dimensional timeseries\n",
            "  warnings.warn('2-Dimensional data passed. Assuming these are '\n"
          ]
        }
      ],
      "source": [
        "X_test = paa.fit_transform(X_test_ma)\n",
        "X_test = X_test.reshape(X_test.shape[0], X_test.shape[1])"
      ]
    },
    {
      "cell_type": "code",
      "execution_count": 244,
      "metadata": {
        "colab": {
          "base_uri": "https://localhost:8080/"
        },
        "outputId": "f7694ff9-6427-4ceb-cc35-dd19c2342afa",
        "id": "-SVvIDk7ltjm"
      },
      "outputs": [
        {
          "output_type": "stream",
          "name": "stdout",
          "text": [
            "(624, 300) (624,)\n"
          ]
        }
      ],
      "source": [
        "print(X_test.shape, y_test.shape)"
      ]
    },
    {
      "cell_type": "code",
      "execution_count": 245,
      "metadata": {
        "id": "ccD5f-zLltjm"
      },
      "outputs": [],
      "source": [
        "X_train2, X_val, y_train2, y_val = train_test_split(X_train, y_train, test_size=0.2, shuffle=True, random_state=42, stratify=y_train)"
      ]
    },
    {
      "cell_type": "code",
      "execution_count": 246,
      "metadata": {
        "colab": {
          "base_uri": "https://localhost:8080/"
        },
        "outputId": "ccc019a6-2844-472e-d1ee-85a35de9ec90",
        "id": "-mIC6qUUltjm"
      },
      "outputs": [
        {
          "output_type": "stream",
          "name": "stdout",
          "text": [
            "(1462, 300) (1462,)\n",
            "(366, 300) (366,)\n"
          ]
        }
      ],
      "source": [
        "print(X_train2.shape, y_train2.shape)\n",
        "print(X_val.shape, y_val.shape)"
      ]
    },
    {
      "cell_type": "code",
      "execution_count": 247,
      "metadata": {
        "colab": {
          "base_uri": "https://localhost:8080/",
          "height": 0
        },
        "outputId": "cebaa41b-c564-4580-85ad-3ce855791738",
        "id": "JFbLA82Oltjn"
      },
      "outputs": [
        {
          "output_type": "display_data",
          "data": {
            "text/plain": [
              "<Figure size 1500x500 with 1 Axes>"
            ],
            "image/png": "[encoded data removed]"
          },
          "metadata": {}
        }
      ],
      "source": [
        "plt.figure(figsize=(15, 5))\n",
        "plt.plot(X_train[0])\n",
        "plt.show()"
      ]
    },
    {
      "cell_type": "markdown",
      "metadata": {
        "id": "iu0rgabpltjn"
      },
      "source": [
        "## Data Preparation: SAX"
      ]
    },
    {
      "cell_type": "code",
      "execution_count": null,
      "metadata": {
        "id": "ZHInNs_ultjn"
      },
      "outputs": [],
      "source": [
        "def label_encoder(array):\n",
        "  new_array = np.zeros(len(array))\n",
        "  for i in range(len(array)):\n",
        "    if array[i] == \"M\":\n",
        "      new_array[i] = 1\n",
        "  return new_array"
      ]
    },
    {
      "cell_type": "code",
      "execution_count": null,
      "metadata": {
        "id": "n_Q2Uqgrltjn"
      },
      "outputs": [],
      "source": [
        "y_train = categorical_train['sex']\n",
        "y_test = categorical_test['sex']\n",
        "y_train = label_encoder(y_train)\n",
        "y_test = label_encoder(y_test)"
      ]
    },
    {
      "cell_type": "code",
      "execution_count": null,
      "metadata": {
        "id": "XrMT-g5qltjn"
      },
      "outputs": [],
      "source": [
        "n_segments = 300\n",
        "alphabet_size_avg = 10\n",
        "sax = SymbolicAggregateApproximation(n_segments=n_segments, alphabet_size_avg=alphabet_size_avg)"
      ]
    },
    {
      "cell_type": "code",
      "execution_count": null,
      "metadata": {
        "colab": {
          "base_uri": "https://localhost:8080/"
        },
        "outputId": "fad9ce87-6860-4407-aa27-b6f772253a91",
        "id": "Hq5ELPy1ltjo"
      },
      "outputs": [
        {
          "name": "stderr",
          "output_type": "stream",
          "text": [
            "/usr/local/lib/python3.10/dist-packages/tslearn/utils/utils.py:88: UserWarning: 2-Dimensional data passed. Assuming these are 1828 1-dimensional timeseries\n",
            "  warnings.warn('2-Dimensional data passed. Assuming these are '\n"
          ]
        }
      ],
      "source": [
        "X_train = sax.fit_transform(X_train_ma)\n",
        "X_train = X_train.reshape(X_train.shape[0], X_train.shape[1])"
      ]
    },
    {
      "cell_type": "code",
      "execution_count": null,
      "metadata": {
        "colab": {
          "base_uri": "https://localhost:8080/"
        },
        "outputId": "8c767b2d-52aa-4603-c27f-a43cf361e598",
        "id": "bJeuliPOltjo"
      },
      "outputs": [
        {
          "name": "stdout",
          "output_type": "stream",
          "text": [
            "(1828, 300) (1828,)\n"
          ]
        }
      ],
      "source": [
        "print(X_train.shape, y_train.shape)"
      ]
    },
    {
      "cell_type": "code",
      "execution_count": null,
      "metadata": {
        "colab": {
          "base_uri": "https://localhost:8080/"
        },
        "outputId": "93301377-edb3-4391-de76-0d7238a2776b",
        "id": "fw6fHR7oltjo"
      },
      "outputs": [
        {
          "name": "stderr",
          "output_type": "stream",
          "text": [
            "/usr/local/lib/python3.10/dist-packages/tslearn/utils/utils.py:88: UserWarning: 2-Dimensional data passed. Assuming these are 624 1-dimensional timeseries\n",
            "  warnings.warn('2-Dimensional data passed. Assuming these are '\n"
          ]
        }
      ],
      "source": [
        "X_test = sax.fit_transform(X_test_ma)\n",
        "X_test = X_test.reshape(X_test.shape[0], X_test.shape[1])"
      ]
    },
    {
      "cell_type": "code",
      "execution_count": null,
      "metadata": {
        "colab": {
          "base_uri": "https://localhost:8080/"
        },
        "outputId": "5277195d-fb07-4122-ac65-05a21b03ffcc",
        "id": "bviucFjFltjo"
      },
      "outputs": [
        {
          "name": "stdout",
          "output_type": "stream",
          "text": [
            "(624, 300) (624,)\n"
          ]
        }
      ],
      "source": [
        "print(X_test.shape, y_test.shape)"
      ]
    },
    {
      "cell_type": "code",
      "execution_count": null,
      "metadata": {
        "id": "H5Cfb0S3ltjo"
      },
      "outputs": [],
      "source": [
        "X_train2, X_val, y_train2, y_val = train_test_split(X_train, y_train, test_size=0.2, shuffle=True, random_state=42, stratify=y_train)"
      ]
    },
    {
      "cell_type": "code",
      "execution_count": null,
      "metadata": {
        "colab": {
          "base_uri": "https://localhost:8080/"
        },
        "outputId": "9711b6b2-9396-40e5-a2d5-9c6eb26cf7e3",
        "id": "Q4dAP7H2ltjp"
      },
      "outputs": [
        {
          "name": "stdout",
          "output_type": "stream",
          "text": [
            "(1462, 300) (1462,)\n",
            "(366, 300) (366,)\n"
          ]
        }
      ],
      "source": [
        "print(X_train2.shape, y_train2.shape)\n",
        "print(X_val.shape, y_val.shape)"
      ]
    },
    {
      "cell_type": "code",
      "execution_count": null,
      "metadata": {
        "colab": {
          "base_uri": "https://localhost:8080/"
        },
        "outputId": "72bf2fb2-5e06-4a93-94b3-b822c4e8e5f7",
        "id": "XfLA2a0eltjp"
      },
      "outputs": [
        {
          "data": {
            "image/png": "[encoded data removed]",
            "text/plain": [
              "<Figure size 1500x500 with 1 Axes>"
            ]
          },
          "metadata": {},
          "output_type": "display_data"
        }
      ],
      "source": [
        "plt.figure(figsize=(15, 5))\n",
        "plt.plot(X_train[0])\n",
        "plt.show()"
      ]
    },
    {
      "cell_type": "markdown",
      "metadata": {
        "id": "mZRYnMUXltjp"
      },
      "source": [
        "## Training"
      ]
    },
    {
      "cell_type": "code",
      "execution_count": 61,
      "metadata": {
        "colab": {
          "base_uri": "https://localhost:8080/"
        },
        "outputId": "4f4ccba0-960f-425e-d310-36ac49752c74",
        "id": "A3f6TeOtltjp"
      },
      "outputs": [
        {
          "output_type": "stream",
          "name": "stdout",
          "text": [
            "0.18270926987716132 KNeighborsClassifier(metric='euclidean', n_neighbors=73, weights='distance')\n"
          ]
        }
      ],
      "source": [
        "# KNN Minkowski\n",
        "param_grid = {'n_neighbors': np.arange(2, X_train.shape[0]//2),\n",
        "              'metric': ['euclidean', 'cityblock'],\n",
        "              'weights': ['uniform', 'distance']\n",
        "              }\n",
        "\n",
        "search = RandomizedSearchCV(KNeighborsClassifier(),\n",
        "                      param_grid,\n",
        "                      cv=KFold(3, shuffle=True, random_state=42),\n",
        "                      n_iter=100,\n",
        "                      n_jobs=-1,\n",
        "                      scoring='accuracy'\n",
        "                      )\n",
        "search.fit(X_train, y_train)\n",
        "print(search.best_score_, search.best_estimator_)"
      ]
    },
    {
      "cell_type": "code",
      "execution_count": 62,
      "metadata": {
        "colab": {
          "base_uri": "https://localhost:8080/"
        },
        "outputId": "f164ef53-24aa-433a-8642-e5ff774f3fd6",
        "id": "K_v6WThkltjp"
      },
      "outputs": [
        {
          "output_type": "stream",
          "name": "stdout",
          "text": [
            "              precision    recall  f1-score   support\n",
            "\n",
            "         0.0       0.09      0.04      0.06        48\n",
            "         1.0       0.25      0.59      0.35        96\n",
            "         2.0       0.12      0.01      0.02        96\n",
            "         3.0       0.15      0.54      0.23        96\n",
            "         4.0       1.00      0.02      0.04        96\n",
            "         5.0       0.00      0.00      0.00        96\n",
            "         6.0       0.00      0.00      0.00        48\n",
            "         7.0       0.00      0.00      0.00        48\n",
            "\n",
            "    accuracy                           0.18       624\n",
            "   macro avg       0.20      0.15      0.09       624\n",
            "weighted avg       0.24      0.18      0.10       624\n",
            "\n"
          ]
        }
      ],
      "source": [
        "clf = search.best_estimator_\n",
        "clf.fit(X_train, y_train)\n",
        "y_pred = clf.predict(X_test)\n",
        "print(classification_report(y_test, y_pred))"
      ]
    },
    {
      "cell_type": "code",
      "execution_count": 63,
      "metadata": {
        "colab": {
          "base_uri": "https://localhost:8080/"
        },
        "outputId": "317abd44-4b9c-48ab-8a29-9bd418192088",
        "id": "lFZP6oyKltjq"
      },
      "outputs": [
        {
          "output_type": "stream",
          "name": "stdout",
          "text": [
            "              precision    recall  f1-score   support\n",
            "\n",
            "         0.0       0.22      0.14      0.17        28\n",
            "         1.0       0.30      0.73      0.42        56\n",
            "         2.0       0.16      0.16      0.16        56\n",
            "         3.0       0.18      0.16      0.17        56\n",
            "         4.0       0.39      0.43      0.41        56\n",
            "         5.0       0.38      0.16      0.23        56\n",
            "         6.0       0.29      0.07      0.11        29\n",
            "         7.0       0.21      0.10      0.14        29\n",
            "\n",
            "    accuracy                           0.28       366\n",
            "   macro avg       0.27      0.24      0.23       366\n",
            "weighted avg       0.27      0.28      0.25       366\n",
            "\n"
          ]
        }
      ],
      "source": [
        "# KNN DTW: with PAA = 300 about 6 mins\n",
        "clf = KNeighborsClassifier_pyts(n_neighbors=67, \n",
        "                                metric='dtw_sakoechiba', \n",
        "                                weights='distance',\n",
        "                                n_jobs=-1,\n",
        "                                metric_params={'window_size': 0.1})\n",
        "clf.fit(X_train2, y_train2)\n",
        "y_pred = clf.predict(X_val)\n",
        "print(classification_report(y_val, y_pred))"
      ]
    },
    {
      "cell_type": "code",
      "execution_count": 64,
      "metadata": {
        "colab": {
          "base_uri": "https://localhost:8080/"
        },
        "outputId": "245340e4-0d50-4544-a288-5d7fea9f6ffe",
        "id": "PT1wfsPTltjq"
      },
      "outputs": [
        {
          "output_type": "stream",
          "name": "stdout",
          "text": [
            "              precision    recall  f1-score   support\n",
            "\n",
            "         0.0       0.17      0.10      0.13        48\n",
            "         1.0       0.38      0.70      0.49        96\n",
            "         2.0       0.30      0.41      0.35        96\n",
            "         3.0       0.28      0.39      0.32        96\n",
            "         4.0       0.59      0.50      0.54        96\n",
            "         5.0       0.42      0.10      0.17        96\n",
            "         6.0       0.32      0.12      0.18        48\n",
            "         7.0       0.48      0.33      0.40        48\n",
            "\n",
            "    accuracy                           0.37       624\n",
            "   macro avg       0.37      0.33      0.32       624\n",
            "weighted avg       0.38      0.37      0.34       624\n",
            "\n"
          ]
        }
      ],
      "source": [
        "y_pred = clf.predict(X_test)\n",
        "print(classification_report(y_test, y_pred))"
      ]
    },
    {
      "cell_type": "code",
      "execution_count": 65,
      "metadata": {
        "colab": {
          "base_uri": "https://localhost:8080/"
        },
        "outputId": "5b36b66b-e792-4f46-e8ed-09f1b1307f13",
        "id": "UMsapyfpltjq"
      },
      "outputs": [
        {
          "output_type": "stream",
          "name": "stdout",
          "text": [
            "              precision    recall  f1-score   support\n",
            "\n",
            "         0.0       0.36      0.18      0.24        28\n",
            "         1.0       0.57      0.75      0.65        56\n",
            "         2.0       0.32      0.29      0.30        56\n",
            "         3.0       0.31      0.30      0.31        56\n",
            "         4.0       0.41      0.57      0.48        56\n",
            "         5.0       0.39      0.39      0.39        56\n",
            "         6.0       0.38      0.10      0.16        29\n",
            "         7.0       0.29      0.31      0.30        29\n",
            "\n",
            "    accuracy                           0.40       366\n",
            "   macro avg       0.38      0.36      0.35       366\n",
            "weighted avg       0.39      0.40      0.38       366\n",
            "\n"
          ]
        }
      ],
      "source": [
        "# CIF\n",
        "clf = CanonicalIntervalForest(n_estimators=30)\n",
        "clf.fit(X_train2, y_train2)\n",
        "y_pred = clf.predict(X_val)\n",
        "print(classification_report(y_val, y_pred))"
      ]
    },
    {
      "cell_type": "code",
      "source": [
        "clf = CanonicalIntervalForest(n_estimators=100)\n",
        "clf.fit(X_train2, y_train2)\n",
        "y_pred = clf.predict(X_val)\n",
        "print(classification_report(y_val, y_pred))"
      ],
      "metadata": {
        "colab": {
          "base_uri": "https://localhost:8080/"
        },
        "outputId": "549e9d50-1543-4736-dbe1-61f97fac467c",
        "id": "EpHiE3mpltjq"
      },
      "execution_count": 66,
      "outputs": [
        {
          "output_type": "stream",
          "name": "stdout",
          "text": [
            "              precision    recall  f1-score   support\n",
            "\n",
            "         0.0       0.43      0.21      0.29        28\n",
            "         1.0       0.45      0.70      0.55        56\n",
            "         2.0       0.35      0.32      0.33        56\n",
            "         3.0       0.32      0.32      0.32        56\n",
            "         4.0       0.47      0.66      0.55        56\n",
            "         5.0       0.50      0.36      0.42        56\n",
            "         6.0       0.67      0.07      0.12        29\n",
            "         7.0       0.28      0.34      0.31        29\n",
            "\n",
            "    accuracy                           0.41       366\n",
            "   macro avg       0.43      0.37      0.36       366\n",
            "weighted avg       0.43      0.41      0.39       366\n",
            "\n"
          ]
        }
      ]
    },
    {
      "cell_type": "markdown",
      "source": [
        "### Shapelet-Based"
      ],
      "metadata": {
        "id": "nEZ0GEuYb4DY"
      }
    },
    {
      "cell_type": "code",
      "source": [
        "n_ts, ts_sz = X_train.shape\n",
        "n_classes = len(set(y_train))\n",
        "\n",
        "# Set the number of shapelets per size as done in the original paper\n",
        "shapelet_sizes = grabocka_params_to_shapelet_size_dict(n_ts=n_ts,\n",
        "                                                       ts_sz=ts_sz,\n",
        "                                                       n_classes=n_classes,\n",
        "                                                       l=0.1,\n",
        "                                                       r=1)\n",
        "\n",
        "print('n_ts', n_ts)\n",
        "print('ts_sz', ts_sz)\n",
        "print('n_classes', n_classes)\n",
        "print('shapelet_sizes', shapelet_sizes)"
      ],
      "metadata": {
        "colab": {
          "base_uri": "https://localhost:8080/"
        },
        "outputId": "c602398a-4060-4815-f04a-a21ddeb0b684",
        "id": "kGT0tYsEb4DZ"
      },
      "execution_count": 248,
      "outputs": [
        {
          "output_type": "stream",
          "name": "stdout",
          "text": [
            "n_ts 1828\n",
            "ts_sz 300\n",
            "n_classes 8\n",
            "shapelet_sizes {30: 6}\n"
          ]
        }
      ]
    },
    {
      "cell_type": "code",
      "source": [
        "shp_clf = ShapeletModel(n_shapelets_per_size=shapelet_sizes,\n",
        "                        optimizer=\"sgd\",\n",
        "                        weight_regularizer=.01,\n",
        "                        max_iter=200,\n",
        "                        verbose=0)"
      ],
      "metadata": {
        "colab": {
          "base_uri": "https://localhost:8080/"
        },
        "outputId": "934f062d-2a6f-44a9-afc4-8cbd3c1210cb",
        "id": "X4vIZFn4b4DZ"
      },
      "execution_count": 249,
      "outputs": [
        {
          "output_type": "stream",
          "name": "stderr",
          "text": [
            "/usr/local/lib/python3.10/dist-packages/tslearn/shapelets/shapelets.py:354: FutureWarning: The default value for 'scale' is set to False in version 0.4 to ensure backward compatibility, but is likely to change in a future version.\n",
            "  warnings.warn(\"The default value for 'scale' is set to False \"\n"
          ]
        }
      ]
    },
    {
      "cell_type": "code",
      "source": [
        "X_train_shap = shp_clf.fit_transform(X_train, y_train)\n",
        "X_test_shap = shp_clf.fit_transform(X_test, y_test)"
      ],
      "metadata": {
        "id": "TJ3mdaAyb4DZ"
      },
      "execution_count": 250,
      "outputs": []
    },
    {
      "cell_type": "code",
      "source": [
        "print(X_train_shap.shape)\n",
        "print(X_test_shap.shape)"
      ],
      "metadata": {
        "colab": {
          "base_uri": "https://localhost:8080/"
        },
        "outputId": "c2ceebd1-4e5c-4ca1-f2a0-9b707370dc7c",
        "id": "J209VeBeb4Da"
      },
      "execution_count": 251,
      "outputs": [
        {
          "output_type": "stream",
          "name": "stdout",
          "text": [
            "(1828, 6)\n",
            "(624, 6)\n"
          ]
        }
      ]
    },
    {
      "cell_type": "code",
      "source": [
        "# train-val split\n",
        "X_train_shap2, X_val_shap, y_train_shap2, y_val_shap = train_test_split(X_train_shap, y_train, test_size=0.2, shuffle=True, random_state=42)"
      ],
      "metadata": {
        "id": "jSxkOP5Mb4Da"
      },
      "execution_count": 252,
      "outputs": []
    },
    {
      "cell_type": "code",
      "source": [
        "print(X_train_shap2.shape, y_train_shap2.shape)\n",
        "print(X_val_shap.shape, y_val_shap.shape)"
      ],
      "metadata": {
        "colab": {
          "base_uri": "https://localhost:8080/"
        },
        "outputId": "1af33c1b-61f0-4097-80f8-7de877f8f2b4",
        "id": "okvc8QGdb4Da"
      },
      "execution_count": 253,
      "outputs": [
        {
          "output_type": "stream",
          "name": "stdout",
          "text": [
            "(1462, 6) (1462,)\n",
            "(366, 6) (366,)\n"
          ]
        }
      ]
    },
    {
      "cell_type": "code",
      "source": [
        "param_grid = {\n",
        "    \"min_samples_split\": sp.loguniform(1e-2, 1e0),\n",
        "    \"min_samples_leaf\": sp.uniform(0.001, 0.2),\n",
        "    \"max_depth\": sp.randint(2, 200),\n",
        "    \"criterion\": [\"gini\", \"entropy\", \"log_loss\"], \n",
        "}\n",
        "\n",
        "search = RandomizedSearchCV(DecisionTreeClassifier(),\n",
        "                            param_distributions=param_grid,\n",
        "                            cv=KFold(3, shuffle=True, random_state=42),\n",
        "                            n_iter=50,\n",
        "                            n_jobs=-1,\n",
        "                            scoring='accuracy')\n",
        "\n",
        "search.fit(X_train_shap, y_train)\n",
        "print(search.best_score_, search.best_estimator_)"
      ],
      "metadata": {
        "colab": {
          "base_uri": "https://localhost:8080/"
        },
        "outputId": "bf30cd69-21d9-44e7-e9a3-0002dc0c4799",
        "id": "cK2VzviKb4Da"
      },
      "execution_count": 254,
      "outputs": [
        {
          "output_type": "stream",
          "name": "stdout",
          "text": [
            "0.2576695649052913 DecisionTreeClassifier(max_depth=93, min_samples_leaf=0.06707841308880083,\n",
            "                       min_samples_split=0.27845073317963936)\n"
          ]
        }
      ]
    },
    {
      "cell_type": "code",
      "source": [
        "clf = search.best_estimator_\n",
        "y_pred = clf.predict(X_val_shap)\n",
        "print(classification_report(y_val_shap, y_pred))"
      ],
      "metadata": {
        "colab": {
          "base_uri": "https://localhost:8080/"
        },
        "outputId": "4f2ec504-78c4-42d2-91b3-f8ae493e3b89",
        "id": "ec9VjGBub4Da"
      },
      "execution_count": 255,
      "outputs": [
        {
          "output_type": "stream",
          "name": "stdout",
          "text": [
            "              precision    recall  f1-score   support\n",
            "\n",
            "         0.0       0.00      0.00      0.00        34\n",
            "         1.0       0.38      0.64      0.47        70\n",
            "         2.0       0.15      0.40      0.21        45\n",
            "         3.0       0.00      0.00      0.00        57\n",
            "         4.0       0.31      0.56      0.40        54\n",
            "         5.0       0.31      0.14      0.19        59\n",
            "         6.0       0.00      0.00      0.00        29\n",
            "         7.0       0.00      0.00      0.00        18\n",
            "\n",
            "    accuracy                           0.28       366\n",
            "   macro avg       0.14      0.22      0.16       366\n",
            "weighted avg       0.19      0.28      0.21       366\n",
            "\n"
          ]
        },
        {
          "output_type": "stream",
          "name": "stderr",
          "text": [
            "/usr/local/lib/python3.10/dist-packages/sklearn/metrics/_classification.py:1344: UndefinedMetricWarning: Precision and F-score are ill-defined and being set to 0.0 in labels with no predicted samples. Use `zero_division` parameter to control this behavior.\n",
            "  _warn_prf(average, modifier, msg_start, len(result))\n",
            "/usr/local/lib/python3.10/dist-packages/sklearn/metrics/_classification.py:1344: UndefinedMetricWarning: Precision and F-score are ill-defined and being set to 0.0 in labels with no predicted samples. Use `zero_division` parameter to control this behavior.\n",
            "  _warn_prf(average, modifier, msg_start, len(result))\n",
            "/usr/local/lib/python3.10/dist-packages/sklearn/metrics/_classification.py:1344: UndefinedMetricWarning: Precision and F-score are ill-defined and being set to 0.0 in labels with no predicted samples. Use `zero_division` parameter to control this behavior.\n",
            "  _warn_prf(average, modifier, msg_start, len(result))\n"
          ]
        }
      ]
    },
    {
      "cell_type": "code",
      "source": [
        "clf = search.best_estimator_\n",
        "y_pred = clf.predict(X_test_shap)\n",
        "print(classification_report(y_test, y_pred))"
      ],
      "metadata": {
        "colab": {
          "base_uri": "https://localhost:8080/"
        },
        "outputId": "fdd11b1a-76f2-468a-ad45-064279b15775",
        "id": "iyNTony6b4Db"
      },
      "execution_count": 256,
      "outputs": [
        {
          "output_type": "stream",
          "name": "stdout",
          "text": [
            "              precision    recall  f1-score   support\n",
            "\n",
            "         0.0       0.00      0.00      0.00        48\n",
            "         1.0       0.00      0.00      0.00        96\n",
            "         2.0       0.00      0.00      0.00        96\n",
            "         3.0       0.00      0.00      0.00        96\n",
            "         4.0       0.15      1.00      0.27        96\n",
            "         5.0       0.00      0.00      0.00        96\n",
            "         6.0       0.00      0.00      0.00        48\n",
            "         7.0       0.00      0.00      0.00        48\n",
            "\n",
            "    accuracy                           0.15       624\n",
            "   macro avg       0.02      0.12      0.03       624\n",
            "weighted avg       0.02      0.15      0.04       624\n",
            "\n"
          ]
        },
        {
          "output_type": "stream",
          "name": "stderr",
          "text": [
            "/usr/local/lib/python3.10/dist-packages/sklearn/metrics/_classification.py:1344: UndefinedMetricWarning: Precision and F-score are ill-defined and being set to 0.0 in labels with no predicted samples. Use `zero_division` parameter to control this behavior.\n",
            "  _warn_prf(average, modifier, msg_start, len(result))\n",
            "/usr/local/lib/python3.10/dist-packages/sklearn/metrics/_classification.py:1344: UndefinedMetricWarning: Precision and F-score are ill-defined and being set to 0.0 in labels with no predicted samples. Use `zero_division` parameter to control this behavior.\n",
            "  _warn_prf(average, modifier, msg_start, len(result))\n",
            "/usr/local/lib/python3.10/dist-packages/sklearn/metrics/_classification.py:1344: UndefinedMetricWarning: Precision and F-score are ill-defined and being set to 0.0 in labels with no predicted samples. Use `zero_division` parameter to control this behavior.\n",
            "  _warn_prf(average, modifier, msg_start, len(result))\n"
          ]
        }
      ]
    },
    {
      "cell_type": "code",
      "source": [
        "param_grid = {\n",
        "              'n_neighbors': np.arange(2, X_train_shap.shape[0]//2),\n",
        "              'weights': ['uniform', 'distance'],\n",
        "              'metric': ['euclidean', 'cityblock']\n",
        "             }\n",
        "\n",
        "search = RandomizedSearchCV(KNeighborsClassifier(),\n",
        "                            param_distributions=param_grid,\n",
        "                            cv=KFold(3, shuffle=True, random_state=42),\n",
        "                            n_iter=50,\n",
        "                            n_jobs=-1,\n",
        "                            scoring='accuracy')\n",
        "\n",
        "search.fit(X_train_shap, y_train)\n",
        "print(search.best_score_, search.best_estimator_)"
      ],
      "metadata": {
        "colab": {
          "base_uri": "https://localhost:8080/"
        },
        "id": "ytk4y2lYeWmC",
        "outputId": "71b0716e-3d23-4ad3-d49e-8f4e6bc0e14f"
      },
      "execution_count": 257,
      "outputs": [
        {
          "output_type": "stream",
          "name": "stdout",
          "text": [
            "0.25929724443008784 KNeighborsClassifier(metric='cityblock', n_neighbors=197, weights='distance')\n"
          ]
        }
      ]
    },
    {
      "cell_type": "code",
      "source": [
        "clf = search.best_estimator_\n",
        "y_pred = clf.predict(X_val_shap)\n",
        "print(classification_report(y_val_shap, y_pred))"
      ],
      "metadata": {
        "colab": {
          "base_uri": "https://localhost:8080/"
        },
        "outputId": "fd41c44b-efae-4cf7-f458-bf9bb9780095",
        "id": "DBZ3WHAzeWmD"
      },
      "execution_count": 258,
      "outputs": [
        {
          "output_type": "stream",
          "name": "stdout",
          "text": [
            "              precision    recall  f1-score   support\n",
            "\n",
            "         0.0       1.00      1.00      1.00        34\n",
            "         1.0       1.00      1.00      1.00        70\n",
            "         2.0       1.00      1.00      1.00        45\n",
            "         3.0       1.00      1.00      1.00        57\n",
            "         4.0       1.00      1.00      1.00        54\n",
            "         5.0       1.00      1.00      1.00        59\n",
            "         6.0       1.00      1.00      1.00        29\n",
            "         7.0       1.00      1.00      1.00        18\n",
            "\n",
            "    accuracy                           1.00       366\n",
            "   macro avg       1.00      1.00      1.00       366\n",
            "weighted avg       1.00      1.00      1.00       366\n",
            "\n"
          ]
        }
      ]
    },
    {
      "cell_type": "code",
      "source": [
        "clf = search.best_estimator_\n",
        "y_pred = clf.predict(X_test_shap)\n",
        "print(classification_report(y_test, y_pred))"
      ],
      "metadata": {
        "colab": {
          "base_uri": "https://localhost:8080/"
        },
        "outputId": "521688ff-c1fb-4791-e271-93039ad26fe8",
        "id": "IqXS-4yreWmD"
      },
      "execution_count": 259,
      "outputs": [
        {
          "output_type": "stream",
          "name": "stdout",
          "text": [
            "              precision    recall  f1-score   support\n",
            "\n",
            "         0.0       0.00      0.00      0.00        48\n",
            "         1.0       0.00      0.00      0.00        96\n",
            "         2.0       0.00      0.00      0.00        96\n",
            "         3.0       0.00      0.00      0.00        96\n",
            "         4.0       0.15      1.00      0.27        96\n",
            "         5.0       0.00      0.00      0.00        96\n",
            "         6.0       0.00      0.00      0.00        48\n",
            "         7.0       0.00      0.00      0.00        48\n",
            "\n",
            "    accuracy                           0.15       624\n",
            "   macro avg       0.02      0.12      0.03       624\n",
            "weighted avg       0.02      0.15      0.04       624\n",
            "\n"
          ]
        },
        {
          "output_type": "stream",
          "name": "stderr",
          "text": [
            "/usr/local/lib/python3.10/dist-packages/sklearn/metrics/_classification.py:1344: UndefinedMetricWarning: Precision and F-score are ill-defined and being set to 0.0 in labels with no predicted samples. Use `zero_division` parameter to control this behavior.\n",
            "  _warn_prf(average, modifier, msg_start, len(result))\n",
            "/usr/local/lib/python3.10/dist-packages/sklearn/metrics/_classification.py:1344: UndefinedMetricWarning: Precision and F-score are ill-defined and being set to 0.0 in labels with no predicted samples. Use `zero_division` parameter to control this behavior.\n",
            "  _warn_prf(average, modifier, msg_start, len(result))\n",
            "/usr/local/lib/python3.10/dist-packages/sklearn/metrics/_classification.py:1344: UndefinedMetricWarning: Precision and F-score are ill-defined and being set to 0.0 in labels with no predicted samples. Use `zero_division` parameter to control this behavior.\n",
            "  _warn_prf(average, modifier, msg_start, len(result))\n"
          ]
        }
      ]
    },
    {
      "cell_type": "markdown",
      "source": [
        "### Rocket"
      ],
      "metadata": {
        "id": "ot8fQ3vkp661"
      }
    },
    {
      "cell_type": "code",
      "source": [
        "# train-val split\n",
        "X_train_mr2, X_val_mr, y_train_mr2, y_val_mr = train_test_split(X_train_rocket, y_train, test_size=0.2, shuffle=True, random_state=42)"
      ],
      "metadata": {
        "id": "thVAlIQEp67A"
      },
      "execution_count": 172,
      "outputs": []
    },
    {
      "cell_type": "code",
      "source": [
        "print(X_train_mr2.shape, y_train_mr2.shape)\n",
        "print(X_val_mr.shape, y_val_mr.shape)"
      ],
      "metadata": {
        "colab": {
          "base_uri": "https://localhost:8080/"
        },
        "id": "iMbEnO68p67A",
        "outputId": "729e0700-2221-4a06-8e83-35c2d21d2358"
      },
      "execution_count": 173,
      "outputs": [
        {
          "output_type": "stream",
          "name": "stdout",
          "text": [
            "(1462, 20000) (1462,)\n",
            "(366, 20000) (366,)\n"
          ]
        }
      ]
    },
    {
      "cell_type": "code",
      "source": [
        "clf = RidgeClassifierCV(alphas=np.logspace(-3, 3, 10))\n",
        "clf.fit(X_train_mr2, y_train_mr2)"
      ],
      "metadata": {
        "colab": {
          "base_uri": "https://localhost:8080/",
          "height": 109
        },
        "id": "vFrSuVxEp67A",
        "outputId": "f6a8761e-e5cf-42d6-aac2-1235ce273596"
      },
      "execution_count": 180,
      "outputs": [
        {
          "output_type": "execute_result",
          "data": {
            "text/plain": [
              "RidgeClassifierCV(alphas=array([1.00000000e-03, 4.64158883e-03, 2.15443469e-02, 1.00000000e-01,\n",
              "       4.64158883e-01, 2.15443469e+00, 1.00000000e+01, 4.64158883e+01,\n",
              "       2.15443469e+02, 1.00000000e+03]))"
            ],
            "text/html": [
              "<style>#sk-container-id-13 {color: black;background-color: white;}#sk-container-id-13 pre{padding: 0;}#sk-container-id-13 div.sk-toggleable {background-color: white;}#sk-container-id-13 label.sk-toggleable__label {cursor: pointer;display: block;width: 100%;margin-bottom: 0;padding: 0.3em;box-sizing: border-box;text-align: center;}#sk-container-id-13 label.sk-toggleable__label-arrow:before {content: \"▸\";float: left;margin-right: 0.25em;color: #696969;}#sk-container-id-13 label.sk-toggleable__label-arrow:hover:before {color: black;}#sk-container-id-13 div.sk-estimator:hover label.sk-toggleable__label-arrow:before {color: black;}#sk-container-id-13 div.sk-toggleable__content {max-height: 0;max-width: 0;overflow: hidden;text-align: left;background-color: #f0f8ff;}#sk-container-id-13 div.sk-toggleable__content pre {margin: 0.2em;color: black;border-radius: 0.25em;background-color: #f0f8ff;}#sk-container-id-13 input.sk-toggleable__control:checked~div.sk-toggleable__content {max-height: 200px;max-width: 100%;overflow: auto;}#sk-container-id-13 input.sk-toggleable__control:checked~label.sk-toggleable__label-arrow:before {content: \"▾\";}#sk-container-id-13 div.sk-estimator input.sk-toggleable__control:checked~label.sk-toggleable__label {background-color: #d4ebff;}#sk-container-id-13 div.sk-label input.sk-toggleable__control:checked~label.sk-toggleable__label {background-color: #d4ebff;}#sk-container-id-13 input.sk-hidden--visually {border: 0;clip: rect(1px 1px 1px 1px);clip: rect(1px, 1px, 1px, 1px);height: 1px;margin: -1px;overflow: hidden;padding: 0;position: absolute;width: 1px;}#sk-container-id-13 div.sk-estimator {font-family: monospace;background-color: #f0f8ff;border: 1px dotted black;border-radius: 0.25em;box-sizing: border-box;margin-bottom: 0.5em;}#sk-container-id-13 div.sk-estimator:hover {background-color: #d4ebff;}#sk-container-id-13 div.sk-parallel-item::after {content: \"\";width: 100%;border-bottom: 1px solid gray;flex-grow: 1;}#sk-container-id-13 div.sk-label:hover label.sk-toggleable__label {background-color: #d4ebff;}#sk-container-id-13 div.sk-serial::before {content: \"\";position: absolute;border-left: 1px solid gray;box-sizing: border-box;top: 0;bottom: 0;left: 50%;z-index: 0;}#sk-container-id-13 div.sk-serial {display: flex;flex-direction: column;align-items: center;background-color: white;padding-right: 0.2em;padding-left: 0.2em;position: relative;}#sk-container-id-13 div.sk-item {position: relative;z-index: 1;}#sk-container-id-13 div.sk-parallel {display: flex;align-items: stretch;justify-content: center;background-color: white;position: relative;}#sk-container-id-13 div.sk-item::before, #sk-container-id-13 div.sk-parallel-item::before {content: \"\";position: absolute;border-left: 1px solid gray;box-sizing: border-box;top: 0;bottom: 0;left: 50%;z-index: -1;}#sk-container-id-13 div.sk-parallel-item {display: flex;flex-direction: column;z-index: 1;position: relative;background-color: white;}#sk-container-id-13 div.sk-parallel-item:first-child::after {align-self: flex-end;width: 50%;}#sk-container-id-13 div.sk-parallel-item:last-child::after {align-self: flex-start;width: 50%;}#sk-container-id-13 div.sk-parallel-item:only-child::after {width: 0;}#sk-container-id-13 div.sk-dashed-wrapped {border: 1px dashed gray;margin: 0 0.4em 0.5em 0.4em;box-sizing: border-box;padding-bottom: 0.4em;background-color: white;}#sk-container-id-13 div.sk-label label {font-family: monospace;font-weight: bold;display: inline-block;line-height: 1.2em;}#sk-container-id-13 div.sk-label-container {text-align: center;}#sk-container-id-13 div.sk-container {/* jupyter's `normalize.less` sets `[hidden] { display: none; }` but bootstrap.min.css set `[hidden] { display: none !important; }` so we also need the `!important` here to be able to override the default hidden behavior on the sphinx rendered scikit-learn.org. See: https://github.com/scikit-learn/scikit-learn/issues/21755 */display: inline-block !important;position: relative;}#sk-container-id-13 div.sk-text-repr-fallback {display: none;}</style><div id=\"sk-container-id-13\" class=\"sk-top-container\"><div class=\"sk-text-repr-fallback\"><pre>RidgeClassifierCV(alphas=array([1.00000000e-03, 4.64158883e-03, 2.15443469e-02, 1.00000000e-01,\n",
              "       4.64158883e-01, 2.15443469e+00, 1.00000000e+01, 4.64158883e+01,\n",
              "       2.15443469e+02, 1.00000000e+03]))</pre><b>In a Jupyter environment, please rerun this cell to show the HTML representation or trust the notebook. <br />On GitHub, the HTML representation is unable to render, please try loading this page with nbviewer.org.</b></div><div class=\"sk-container\" hidden><div class=\"sk-item\"><div class=\"sk-estimator sk-toggleable\"><input class=\"sk-toggleable__control sk-hidden--visually\" id=\"sk-estimator-id-13\" type=\"checkbox\" checked><label for=\"sk-estimator-id-13\" class=\"sk-toggleable__label sk-toggleable__label-arrow\">RidgeClassifierCV</label><div class=\"sk-toggleable__content\"><pre>RidgeClassifierCV(alphas=array([1.00000000e-03, 4.64158883e-03, 2.15443469e-02, 1.00000000e-01,\n",
              "       4.64158883e-01, 2.15443469e+00, 1.00000000e+01, 4.64158883e+01,\n",
              "       2.15443469e+02, 1.00000000e+03]))</pre></div></div></div></div></div>"
            ]
          },
          "metadata": {},
          "execution_count": 180
        }
      ]
    },
    {
      "cell_type": "code",
      "source": [
        "y_pred = clf.predict(X_val_mr)\n",
        "print(classification_report(y_pred, y_val_mr))"
      ],
      "metadata": {
        "colab": {
          "base_uri": "https://localhost:8080/"
        },
        "id": "GOC6TRXbp67B",
        "outputId": "4e6a63ce-3557-4ed9-e984-f1a592dde891"
      },
      "execution_count": 181,
      "outputs": [
        {
          "output_type": "stream",
          "name": "stdout",
          "text": [
            "              precision    recall  f1-score   support\n",
            "\n",
            "         0.0       0.00      0.00      0.00         0\n",
            "         1.0       0.73      0.39      0.50       132\n",
            "         2.0       0.44      0.24      0.31        84\n",
            "         3.0       0.05      0.08      0.06        36\n",
            "         4.0       0.61      0.36      0.46        91\n",
            "         5.0       0.05      0.25      0.08        12\n",
            "         6.0       0.00      0.00      0.00         0\n",
            "         7.0       0.17      0.27      0.21        11\n",
            "\n",
            "    accuracy                           0.31       366\n",
            "   macro avg       0.26      0.20      0.20       366\n",
            "weighted avg       0.53      0.31      0.38       366\n",
            "\n"
          ]
        },
        {
          "output_type": "stream",
          "name": "stderr",
          "text": [
            "/usr/local/lib/python3.10/dist-packages/sklearn/metrics/_classification.py:1344: UndefinedMetricWarning: Recall and F-score are ill-defined and being set to 0.0 in labels with no true samples. Use `zero_division` parameter to control this behavior.\n",
            "  _warn_prf(average, modifier, msg_start, len(result))\n",
            "/usr/local/lib/python3.10/dist-packages/sklearn/metrics/_classification.py:1344: UndefinedMetricWarning: Recall and F-score are ill-defined and being set to 0.0 in labels with no true samples. Use `zero_division` parameter to control this behavior.\n",
            "  _warn_prf(average, modifier, msg_start, len(result))\n",
            "/usr/local/lib/python3.10/dist-packages/sklearn/metrics/_classification.py:1344: UndefinedMetricWarning: Recall and F-score are ill-defined and being set to 0.0 in labels with no true samples. Use `zero_division` parameter to control this behavior.\n",
            "  _warn_prf(average, modifier, msg_start, len(result))\n"
          ]
        }
      ]
    },
    {
      "cell_type": "code",
      "source": [
        "y_pred = clf.predict(X_test_rocket)\n",
        "print(classification_report(y_pred, y_test))"
      ],
      "metadata": {
        "colab": {
          "base_uri": "https://localhost:8080/"
        },
        "id": "Fj7rSl72r-Zk",
        "outputId": "b10007b1-3c08-4259-8bc6-318a8fc3a75b"
      },
      "execution_count": 183,
      "outputs": [
        {
          "output_type": "stream",
          "name": "stdout",
          "text": [
            "              precision    recall  f1-score   support\n",
            "\n",
            "         0.0       0.00      0.00      0.00         0\n",
            "         1.0       0.52      0.29      0.37       171\n",
            "         2.0       0.39      0.21      0.27       179\n",
            "         3.0       0.19      0.20      0.19        92\n",
            "         4.0       0.65      0.40      0.50       154\n",
            "         5.0       0.02      0.18      0.04        11\n",
            "         6.0       0.00      0.00      0.00         0\n",
            "         7.0       0.12      0.35      0.18        17\n",
            "\n",
            "    accuracy                           0.28       624\n",
            "   macro avg       0.24      0.20      0.19       624\n",
            "weighted avg       0.44      0.28      0.34       624\n",
            "\n"
          ]
        },
        {
          "output_type": "stream",
          "name": "stderr",
          "text": [
            "/usr/local/lib/python3.10/dist-packages/sklearn/metrics/_classification.py:1344: UndefinedMetricWarning: Recall and F-score are ill-defined and being set to 0.0 in labels with no true samples. Use `zero_division` parameter to control this behavior.\n",
            "  _warn_prf(average, modifier, msg_start, len(result))\n",
            "/usr/local/lib/python3.10/dist-packages/sklearn/metrics/_classification.py:1344: UndefinedMetricWarning: Recall and F-score are ill-defined and being set to 0.0 in labels with no true samples. Use `zero_division` parameter to control this behavior.\n",
            "  _warn_prf(average, modifier, msg_start, len(result))\n",
            "/usr/local/lib/python3.10/dist-packages/sklearn/metrics/_classification.py:1344: UndefinedMetricWarning: Recall and F-score are ill-defined and being set to 0.0 in labels with no true samples. Use `zero_division` parameter to control this behavior.\n",
            "  _warn_prf(average, modifier, msg_start, len(result))\n"
          ]
        }
      ]
    },
    {
      "cell_type": "markdown",
      "source": [
        "### CNN"
      ],
      "metadata": {
        "id": "kx5v8hMFp9lD"
      }
    },
    {
      "cell_type": "code",
      "source": [],
      "metadata": {
        "id": "fSEaHDzdp8Wf"
      },
      "execution_count": null,
      "outputs": []
    }
  ],
  "metadata": {
    "colab": {
      "collapsed_sections": [
        "f3YMDe98MWvM",
        "PMHGWqMUdY0h",
        "e1G-2-_Zrmn5",
        "O2fYHim2j9rn",
        "oEQlbYiDj9rp",
        "32JU6RMk_U-B",
        "ORTIJ15O_U-C",
        "wmC2og7V_U-F",
        "UPuoZVD7ltjk",
        "iu0rgabpltjn"
      ],
      "provenance": []
    },
    "kernelspec": {
      "display_name": "Python 3",
      "name": "python3"
    },
    "language_info": {
      "name": "python"
    }
  },
  "nbformat": 4,
  "nbformat_minor": 0
}
