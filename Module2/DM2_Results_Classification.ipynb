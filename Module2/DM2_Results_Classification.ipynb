{
 "cells": [
  {
   "cell_type": "code",
   "execution_count": 2,
   "id": "e1c3505a",
   "metadata": {},
   "outputs": [],
   "source": [
    "import pandas as pd"
   ]
  },
  {
   "cell_type": "markdown",
   "id": "eef2cdd4",
   "metadata": {},
   "source": [
    "# Metriche"
   ]
  },
  {
   "cell_type": "markdown",
   "id": "9ca2b419",
   "metadata": {},
   "source": [
    "Per ogni target trovate sotto un DataFrame in cui le colonne sono i modelli e le righe le metriche (accuracy e f1 weigthed). \n",
    "\n",
    "Per ogni target, copiate e incollate sul vostro jupyter il DataFrame che contiene i vostri modelli. Sostituite quindi i valori None (che uso come placeholders) con i valori corrispondenti. Controllate l'output e assicuratevi di aver inserito ogni valore al posto giusto! Assicuratevi anche di salvare i DataFrame con gli stessi nomi che uso qui. Preferibilmente, fate tutto nell'ultima cella del jupyter. "
   ]
  },
  {
   "cell_type": "markdown",
   "id": "8f3ebf35",
   "metadata": {},
   "source": [
    "### DataFrame per Blerta"
   ]
  },
  {
   "cell_type": "markdown",
   "id": "c36144db",
   "metadata": {},
   "source": [
    "## IMPORT FILES CSV_Blerta"
   ]
  },
  {
   "cell_type": "code",
   "execution_count": 47,
   "id": "c2812eb5",
   "metadata": {},
   "outputs": [],
   "source": [
    "vocal_channel = pd.read_csv('vocal_channel_finale.csv')"
   ]
  },
  {
   "cell_type": "code",
   "execution_count": 48,
   "id": "9e02fd3a",
   "metadata": {},
   "outputs": [],
   "source": [
    "vocal_channel.set_index([pd.Index([\"Accuracy\", \"F1-Score (Weighted-Average)\",\"fpr\", \"tpr\", \"auc\"])], inplace = True)"
   ]
  },
  {
   "cell_type": "code",
   "execution_count": 49,
   "id": "e0eac661",
   "metadata": {},
   "outputs": [],
   "source": [
    "sex = pd.read_csv('finale_sex.csv')"
   ]
  },
  {
   "cell_type": "code",
   "execution_count": 50,
   "id": "3bbea1d8",
   "metadata": {},
   "outputs": [],
   "source": [
    "sex.set_index([pd.Index([\"Accuracy\", \"F1-Score (Weighted-Average)\",\"fpr\", \"tpr\", \"auc\"])], inplace = True)"
   ]
  },
  {
   "cell_type": "code",
   "execution_count": 51,
   "id": "a9c630ad",
   "metadata": {},
   "outputs": [],
   "source": [
    "emotional_intensity = pd.read_csv('finale_emotional_intensity.csv')"
   ]
  },
  {
   "cell_type": "code",
   "execution_count": 52,
   "id": "b68e62f4",
   "metadata": {},
   "outputs": [],
   "source": [
    "emotional_intensity.set_index([pd.Index([\"Accuracy\", \"F1-Score (Weighted-Average)\",\"fpr\", \"tpr\", \"auc\"])], \n",
    "                              inplace = True)"
   ]
  },
  {
   "cell_type": "code",
   "execution_count": 53,
   "id": "a500358a",
   "metadata": {},
   "outputs": [],
   "source": [
    "emotion = pd.read_csv('finale_emotion.csv')"
   ]
  },
  {
   "cell_type": "code",
   "execution_count": 54,
   "id": "3774ea2b",
   "metadata": {},
   "outputs": [],
   "source": [
    "emotion.set_index([pd.Index([\"Accuracy\", \"F1-Score (Weighted-Average)\"])],inplace = True)"
   ]
  },
  {
   "cell_type": "markdown",
   "id": "0054c729",
   "metadata": {},
   "source": [
    "# IMPORTS FILES CSV_Simone"
   ]
  },
  {
   "cell_type": "code",
   "execution_count": 3,
   "id": "420ab806",
   "metadata": {},
   "outputs": [],
   "source": [
    "vocal_channel_s = pd.read_csv(\"finale_vocalchannel_s.csv\")"
   ]
  },
  {
   "cell_type": "code",
   "execution_count": 4,
   "id": "40233105",
   "metadata": {},
   "outputs": [],
   "source": [
    "vocal_channel_s.set_index([pd.Index([\"fpr\", \"tpr\", \"auc\"])], inplace = True)"
   ]
  },
  {
   "cell_type": "code",
   "execution_count": 5,
   "id": "e8e4b90d",
   "metadata": {},
   "outputs": [],
   "source": [
    "sex_s = pd.read_csv(\"finale_sex_s.csv\")"
   ]
  },
  {
   "cell_type": "code",
   "execution_count": 6,
   "id": "9a8fd5bc",
   "metadata": {},
   "outputs": [],
   "source": [
    "sex_s.set_index([pd.Index([\"fpr\", \"tpr\", \"auc\"])], inplace = True)"
   ]
  },
  {
   "cell_type": "code",
   "execution_count": 7,
   "id": "0e436e99",
   "metadata": {},
   "outputs": [],
   "source": [
    "emotional_intensity_s = pd.read_csv(\"finale_emotionalintensity_s.csv\")"
   ]
  },
  {
   "cell_type": "code",
   "execution_count": 8,
   "id": "0def14d4",
   "metadata": {},
   "outputs": [],
   "source": [
    "emotional_intensity_s.set_index([pd.Index([\"fpr\", \"tpr\", \"auc\"])], inplace = True)"
   ]
  },
  {
   "cell_type": "code",
   "execution_count": null,
   "id": "4277da7c",
   "metadata": {},
   "outputs": [],
   "source": []
  },
  {
   "cell_type": "code",
   "execution_count": null,
   "id": "cad74416",
   "metadata": {},
   "outputs": [],
   "source": []
  },
  {
   "cell_type": "code",
   "execution_count": 55,
   "id": "846d8073",
   "metadata": {},
   "outputs": [
    {
     "data": {
      "text/html": [
       "<div>\n",
       "<style scoped>\n",
       "    .dataframe tbody tr th:only-of-type {\n",
       "        vertical-align: middle;\n",
       "    }\n",
       "\n",
       "    .dataframe tbody tr th {\n",
       "        vertical-align: top;\n",
       "    }\n",
       "\n",
       "    .dataframe thead th {\n",
       "        text-align: right;\n",
       "    }\n",
       "</style>\n",
       "<table border=\"1\" class=\"dataframe\">\n",
       "  <thead>\n",
       "    <tr style=\"text-align: right;\">\n",
       "      <th></th>\n",
       "      <th>LG</th>\n",
       "      <th>RF</th>\n",
       "      <th>DTB</th>\n",
       "      <th>AB</th>\n",
       "    </tr>\n",
       "  </thead>\n",
       "  <tbody>\n",
       "    <tr>\n",
       "      <th>Accuracy</th>\n",
       "      <td>None</td>\n",
       "      <td>None</td>\n",
       "      <td>None</td>\n",
       "      <td>None</td>\n",
       "    </tr>\n",
       "    <tr>\n",
       "      <th>F1-Score (Weighted-Average)</th>\n",
       "      <td>None</td>\n",
       "      <td>None</td>\n",
       "      <td>None</td>\n",
       "      <td>None</td>\n",
       "    </tr>\n",
       "  </tbody>\n",
       "</table>\n",
       "</div>"
      ],
      "text/plain": [
       "                               LG    RF   DTB    AB\n",
       "Accuracy                     None  None  None  None\n",
       "F1-Score (Weighted-Average)  None  None  None  None"
      ]
     },
     "execution_count": 55,
     "metadata": {},
     "output_type": "execute_result"
    }
   ],
   "source": [
    "# vocal_channel\n",
    "\n",
    "vocal_channel_metrics_b = pd.DataFrame(columns=[\"LG\", \"RF\", \"DTB\", \"AB\"], \n",
    "                       index=[\"Accuracy\", \"F1-Score (Weighted-Average)\"])\n",
    "vocal_channel_metrics_b.loc[\"Accuracy\"] = [None, None, None, None]\n",
    "vocal_channel_metrics_b.loc[\"F1-Score (Weighted-Average)\"] = [None, None, None, None]\n",
    "vocal_channel_metrics_b"
   ]
  },
  {
   "cell_type": "code",
   "execution_count": 56,
   "id": "cdc618d6",
   "metadata": {},
   "outputs": [
    {
     "data": {
      "text/html": [
       "<div>\n",
       "<style scoped>\n",
       "    .dataframe tbody tr th:only-of-type {\n",
       "        vertical-align: middle;\n",
       "    }\n",
       "\n",
       "    .dataframe tbody tr th {\n",
       "        vertical-align: top;\n",
       "    }\n",
       "\n",
       "    .dataframe thead th {\n",
       "        text-align: right;\n",
       "    }\n",
       "</style>\n",
       "<table border=\"1\" class=\"dataframe\">\n",
       "  <thead>\n",
       "    <tr style=\"text-align: right;\">\n",
       "      <th></th>\n",
       "      <th>LG</th>\n",
       "      <th>RF</th>\n",
       "      <th>DTB</th>\n",
       "      <th>AB</th>\n",
       "    </tr>\n",
       "  </thead>\n",
       "  <tbody>\n",
       "    <tr>\n",
       "      <th>Accuracy</th>\n",
       "      <td>0.9759615384615384</td>\n",
       "      <td>0.9631410256410255</td>\n",
       "      <td>0.9503205128205128</td>\n",
       "      <td>0.9775641025641024</td>\n",
       "    </tr>\n",
       "    <tr>\n",
       "      <th>F1-Score (Weighted-Average)</th>\n",
       "      <td>0.9760108359217332</td>\n",
       "      <td>0.963258010748313</td>\n",
       "      <td>0.9505499509142166</td>\n",
       "      <td>0.9776146153443396</td>\n",
       "    </tr>\n",
       "  </tbody>\n",
       "</table>\n",
       "</div>"
      ],
      "text/plain": [
       "                                             LG                  RF  \\\n",
       "Accuracy                     0.9759615384615384  0.9631410256410255   \n",
       "F1-Score (Weighted-Average)  0.9760108359217332   0.963258010748313   \n",
       "\n",
       "                                            DTB                  AB  \n",
       "Accuracy                     0.9503205128205128  0.9775641025641024  \n",
       "F1-Score (Weighted-Average)  0.9505499509142166  0.9776146153443396  "
      ]
     },
     "execution_count": 56,
     "metadata": {},
     "output_type": "execute_result"
    }
   ],
   "source": [
    "vocal_channel_metrics_b = vocal_channel.head(2)\n",
    "vocal_channel_metrics_b"
   ]
  },
  {
   "cell_type": "code",
   "execution_count": null,
   "id": "1dd7e2e6",
   "metadata": {},
   "outputs": [],
   "source": []
  },
  {
   "cell_type": "code",
   "execution_count": null,
   "id": "4ffdd485",
   "metadata": {},
   "outputs": [],
   "source": []
  },
  {
   "cell_type": "code",
   "execution_count": 57,
   "id": "e79387e2",
   "metadata": {},
   "outputs": [
    {
     "data": {
      "text/html": [
       "<div>\n",
       "<style scoped>\n",
       "    .dataframe tbody tr th:only-of-type {\n",
       "        vertical-align: middle;\n",
       "    }\n",
       "\n",
       "    .dataframe tbody tr th {\n",
       "        vertical-align: top;\n",
       "    }\n",
       "\n",
       "    .dataframe thead th {\n",
       "        text-align: right;\n",
       "    }\n",
       "</style>\n",
       "<table border=\"1\" class=\"dataframe\">\n",
       "  <thead>\n",
       "    <tr style=\"text-align: right;\">\n",
       "      <th></th>\n",
       "      <th>LG</th>\n",
       "      <th>RF</th>\n",
       "      <th>DTB</th>\n",
       "      <th>AB</th>\n",
       "    </tr>\n",
       "  </thead>\n",
       "  <tbody>\n",
       "    <tr>\n",
       "      <th>Accuracy</th>\n",
       "      <td>None</td>\n",
       "      <td>None</td>\n",
       "      <td>None</td>\n",
       "      <td>None</td>\n",
       "    </tr>\n",
       "    <tr>\n",
       "      <th>F1-Score (Weighted-Average)</th>\n",
       "      <td>None</td>\n",
       "      <td>None</td>\n",
       "      <td>None</td>\n",
       "      <td>None</td>\n",
       "    </tr>\n",
       "  </tbody>\n",
       "</table>\n",
       "</div>"
      ],
      "text/plain": [
       "                               LG    RF   DTB    AB\n",
       "Accuracy                     None  None  None  None\n",
       "F1-Score (Weighted-Average)  None  None  None  None"
      ]
     },
     "execution_count": 57,
     "metadata": {},
     "output_type": "execute_result"
    }
   ],
   "source": [
    "# sex\n",
    "\n",
    "sex_metrics_b = pd.DataFrame(columns=[\"LG\", \"RF\", \"DTB\", \"AB\"], \n",
    "                       index=[\"Accuracy\", \"F1-Score (Weighted-Average)\"])\n",
    "sex_metrics_b.loc[\"Accuracy\"] = [None, None, None, None]\n",
    "sex_metrics_b.loc[\"F1-Score (Weighted-Average)\"] = [None, None, None, None]\n",
    "sex_metrics_b"
   ]
  },
  {
   "cell_type": "code",
   "execution_count": 58,
   "id": "d759e370",
   "metadata": {},
   "outputs": [
    {
     "data": {
      "text/html": [
       "<div>\n",
       "<style scoped>\n",
       "    .dataframe tbody tr th:only-of-type {\n",
       "        vertical-align: middle;\n",
       "    }\n",
       "\n",
       "    .dataframe tbody tr th {\n",
       "        vertical-align: top;\n",
       "    }\n",
       "\n",
       "    .dataframe thead th {\n",
       "        text-align: right;\n",
       "    }\n",
       "</style>\n",
       "<table border=\"1\" class=\"dataframe\">\n",
       "  <thead>\n",
       "    <tr style=\"text-align: right;\">\n",
       "      <th></th>\n",
       "      <th>LG</th>\n",
       "      <th>RF</th>\n",
       "      <th>DTB</th>\n",
       "      <th>AB</th>\n",
       "    </tr>\n",
       "  </thead>\n",
       "  <tbody>\n",
       "    <tr>\n",
       "      <th>Accuracy</th>\n",
       "      <td>0.8509615384615384</td>\n",
       "      <td>0.8269230769230769</td>\n",
       "      <td>0.8173076923076923</td>\n",
       "      <td>0.8846153846153846</td>\n",
       "    </tr>\n",
       "    <tr>\n",
       "      <th>F1-Score (Weighted-Average)</th>\n",
       "      <td>0.8477230086986185</td>\n",
       "      <td>0.8221715588486749</td>\n",
       "      <td>0.8126876125675405</td>\n",
       "      <td>0.8833099579242637</td>\n",
       "    </tr>\n",
       "  </tbody>\n",
       "</table>\n",
       "</div>"
      ],
      "text/plain": [
       "                                             LG                  RF  \\\n",
       "Accuracy                     0.8509615384615384  0.8269230769230769   \n",
       "F1-Score (Weighted-Average)  0.8477230086986185  0.8221715588486749   \n",
       "\n",
       "                                            DTB                  AB  \n",
       "Accuracy                     0.8173076923076923  0.8846153846153846  \n",
       "F1-Score (Weighted-Average)  0.8126876125675405  0.8833099579242637  "
      ]
     },
     "execution_count": 58,
     "metadata": {},
     "output_type": "execute_result"
    }
   ],
   "source": [
    "sex_metrics_b = sex.head(2)\n",
    "sex_metrics_b"
   ]
  },
  {
   "cell_type": "code",
   "execution_count": null,
   "id": "5890cd68",
   "metadata": {},
   "outputs": [],
   "source": []
  },
  {
   "cell_type": "code",
   "execution_count": null,
   "id": "b500c5a5",
   "metadata": {},
   "outputs": [],
   "source": []
  },
  {
   "cell_type": "code",
   "execution_count": 59,
   "id": "e2aa939f",
   "metadata": {},
   "outputs": [
    {
     "data": {
      "text/html": [
       "<div>\n",
       "<style scoped>\n",
       "    .dataframe tbody tr th:only-of-type {\n",
       "        vertical-align: middle;\n",
       "    }\n",
       "\n",
       "    .dataframe tbody tr th {\n",
       "        vertical-align: top;\n",
       "    }\n",
       "\n",
       "    .dataframe thead th {\n",
       "        text-align: right;\n",
       "    }\n",
       "</style>\n",
       "<table border=\"1\" class=\"dataframe\">\n",
       "  <thead>\n",
       "    <tr style=\"text-align: right;\">\n",
       "      <th></th>\n",
       "      <th>LG</th>\n",
       "      <th>RF</th>\n",
       "      <th>DTB</th>\n",
       "      <th>AB</th>\n",
       "    </tr>\n",
       "  </thead>\n",
       "  <tbody>\n",
       "    <tr>\n",
       "      <th>Accuracy</th>\n",
       "      <td>None</td>\n",
       "      <td>None</td>\n",
       "      <td>None</td>\n",
       "      <td>None</td>\n",
       "    </tr>\n",
       "    <tr>\n",
       "      <th>F1-Score (Weighted-Average)</th>\n",
       "      <td>None</td>\n",
       "      <td>None</td>\n",
       "      <td>None</td>\n",
       "      <td>None</td>\n",
       "    </tr>\n",
       "  </tbody>\n",
       "</table>\n",
       "</div>"
      ],
      "text/plain": [
       "                               LG    RF   DTB    AB\n",
       "Accuracy                     None  None  None  None\n",
       "F1-Score (Weighted-Average)  None  None  None  None"
      ]
     },
     "execution_count": 59,
     "metadata": {},
     "output_type": "execute_result"
    }
   ],
   "source": [
    "# emotional_intensity\n",
    "\n",
    "emotional_intensity_metrics_b = pd.DataFrame(columns=[\"LG\", \"RF\", \"DTB\", \"AB\"], \n",
    "                       index=[\"Accuracy\", \"F1-Score (Weighted-Average)\"])\n",
    "emotional_intensity_metrics_b.loc[\"Accuracy\"] = [None, None, None, None]\n",
    "emotional_intensity_metrics_b.loc[\"F1-Score (Weighted-Average)\"] = [None, None, None, None]\n",
    "emotional_intensity_metrics_b"
   ]
  },
  {
   "cell_type": "code",
   "execution_count": 60,
   "id": "911b2bf0",
   "metadata": {},
   "outputs": [
    {
     "data": {
      "text/html": [
       "<div>\n",
       "<style scoped>\n",
       "    .dataframe tbody tr th:only-of-type {\n",
       "        vertical-align: middle;\n",
       "    }\n",
       "\n",
       "    .dataframe tbody tr th {\n",
       "        vertical-align: top;\n",
       "    }\n",
       "\n",
       "    .dataframe thead th {\n",
       "        text-align: right;\n",
       "    }\n",
       "</style>\n",
       "<table border=\"1\" class=\"dataframe\">\n",
       "  <thead>\n",
       "    <tr style=\"text-align: right;\">\n",
       "      <th></th>\n",
       "      <th>LG</th>\n",
       "      <th>RF</th>\n",
       "      <th>DTB</th>\n",
       "      <th>AB</th>\n",
       "    </tr>\n",
       "  </thead>\n",
       "  <tbody>\n",
       "    <tr>\n",
       "      <th>Accuracy</th>\n",
       "      <td>0.7740384615384616</td>\n",
       "      <td>0.7339743589743589</td>\n",
       "      <td>0.7419871794871795</td>\n",
       "      <td>0.7419871794871795</td>\n",
       "    </tr>\n",
       "    <tr>\n",
       "      <th>F1-Score (Weighted-Average)</th>\n",
       "      <td>0.7738835600396468</td>\n",
       "      <td>0.7341473114668992</td>\n",
       "      <td>0.7393379603510937</td>\n",
       "      <td>0.7390116489187432</td>\n",
       "    </tr>\n",
       "  </tbody>\n",
       "</table>\n",
       "</div>"
      ],
      "text/plain": [
       "                                             LG                  RF  \\\n",
       "Accuracy                     0.7740384615384616  0.7339743589743589   \n",
       "F1-Score (Weighted-Average)  0.7738835600396468  0.7341473114668992   \n",
       "\n",
       "                                            DTB                  AB  \n",
       "Accuracy                     0.7419871794871795  0.7419871794871795  \n",
       "F1-Score (Weighted-Average)  0.7393379603510937  0.7390116489187432  "
      ]
     },
     "execution_count": 60,
     "metadata": {},
     "output_type": "execute_result"
    }
   ],
   "source": [
    "emotional_intensity_metrics_b = emotional_intensity.head(2)\n",
    "emotional_intensity_metrics_b"
   ]
  },
  {
   "cell_type": "code",
   "execution_count": null,
   "id": "3fcf1703",
   "metadata": {},
   "outputs": [],
   "source": []
  },
  {
   "cell_type": "code",
   "execution_count": 61,
   "id": "bd4e3265",
   "metadata": {
    "scrolled": false
   },
   "outputs": [
    {
     "data": {
      "text/html": [
       "<div>\n",
       "<style scoped>\n",
       "    .dataframe tbody tr th:only-of-type {\n",
       "        vertical-align: middle;\n",
       "    }\n",
       "\n",
       "    .dataframe tbody tr th {\n",
       "        vertical-align: top;\n",
       "    }\n",
       "\n",
       "    .dataframe thead th {\n",
       "        text-align: right;\n",
       "    }\n",
       "</style>\n",
       "<table border=\"1\" class=\"dataframe\">\n",
       "  <thead>\n",
       "    <tr style=\"text-align: right;\">\n",
       "      <th></th>\n",
       "      <th>LG</th>\n",
       "      <th>RF</th>\n",
       "      <th>DTB</th>\n",
       "      <th>AB</th>\n",
       "    </tr>\n",
       "  </thead>\n",
       "  <tbody>\n",
       "    <tr>\n",
       "      <th>Accuracy</th>\n",
       "      <td>None</td>\n",
       "      <td>None</td>\n",
       "      <td>None</td>\n",
       "      <td>None</td>\n",
       "    </tr>\n",
       "    <tr>\n",
       "      <th>F1-Score (Weighted-Average)</th>\n",
       "      <td>None</td>\n",
       "      <td>None</td>\n",
       "      <td>None</td>\n",
       "      <td>None</td>\n",
       "    </tr>\n",
       "  </tbody>\n",
       "</table>\n",
       "</div>"
      ],
      "text/plain": [
       "                               LG    RF   DTB    AB\n",
       "Accuracy                     None  None  None  None\n",
       "F1-Score (Weighted-Average)  None  None  None  None"
      ]
     },
     "execution_count": 61,
     "metadata": {},
     "output_type": "execute_result"
    }
   ],
   "source": [
    "# emotion\n",
    "\n",
    "emotion_metrics_b = pd.DataFrame(columns=[\"LG\", \"RF\", \"DTB\", \"AB\"], \n",
    "                       index=[\"Accuracy\", \"F1-Score (Weighted-Average)\"])\n",
    "emotion_metrics_b.loc[\"Accuracy\"] = [None, None, None, None]\n",
    "emotion_metrics_b.loc[\"F1-Score (Weighted-Average)\"] = [None, None, None, None]\n",
    "emotion_metrics_b"
   ]
  },
  {
   "cell_type": "code",
   "execution_count": 62,
   "id": "a13de84c",
   "metadata": {},
   "outputs": [
    {
     "data": {
      "text/html": [
       "<div>\n",
       "<style scoped>\n",
       "    .dataframe tbody tr th:only-of-type {\n",
       "        vertical-align: middle;\n",
       "    }\n",
       "\n",
       "    .dataframe tbody tr th {\n",
       "        vertical-align: top;\n",
       "    }\n",
       "\n",
       "    .dataframe thead th {\n",
       "        text-align: right;\n",
       "    }\n",
       "</style>\n",
       "<table border=\"1\" class=\"dataframe\">\n",
       "  <thead>\n",
       "    <tr style=\"text-align: right;\">\n",
       "      <th></th>\n",
       "      <th>LG</th>\n",
       "      <th>RF</th>\n",
       "      <th>DTB</th>\n",
       "      <th>AB</th>\n",
       "    </tr>\n",
       "  </thead>\n",
       "  <tbody>\n",
       "    <tr>\n",
       "      <th>Accuracy</th>\n",
       "      <td>0.490385</td>\n",
       "      <td>0.418269</td>\n",
       "      <td>0.410256</td>\n",
       "      <td>0.350962</td>\n",
       "    </tr>\n",
       "    <tr>\n",
       "      <th>F1-Score (Weighted-Average)</th>\n",
       "      <td>0.434597</td>\n",
       "      <td>0.377902</td>\n",
       "      <td>0.385086</td>\n",
       "      <td>0.332695</td>\n",
       "    </tr>\n",
       "  </tbody>\n",
       "</table>\n",
       "</div>"
      ],
      "text/plain": [
       "                                   LG        RF       DTB        AB\n",
       "Accuracy                     0.490385  0.418269  0.410256  0.350962\n",
       "F1-Score (Weighted-Average)  0.434597  0.377902  0.385086  0.332695"
      ]
     },
     "execution_count": 62,
     "metadata": {},
     "output_type": "execute_result"
    }
   ],
   "source": [
    "emotion_metrics_b = emotion.head()\n",
    "emotion_metrics_b"
   ]
  },
  {
   "cell_type": "code",
   "execution_count": null,
   "id": "58d061f8",
   "metadata": {},
   "outputs": [],
   "source": []
  },
  {
   "cell_type": "markdown",
   "id": "15585885",
   "metadata": {},
   "source": [
    "### DataFrame per Simone"
   ]
  },
  {
   "cell_type": "code",
   "execution_count": 15,
   "id": "6115e186",
   "metadata": {},
   "outputs": [
    {
     "data": {
      "text/html": [
       "<div>\n",
       "<style scoped>\n",
       "    .dataframe tbody tr th:only-of-type {\n",
       "        vertical-align: middle;\n",
       "    }\n",
       "\n",
       "    .dataframe tbody tr th {\n",
       "        vertical-align: top;\n",
       "    }\n",
       "\n",
       "    .dataframe thead th {\n",
       "        text-align: right;\n",
       "    }\n",
       "</style>\n",
       "<table border=\"1\" class=\"dataframe\">\n",
       "  <thead>\n",
       "    <tr style=\"text-align: right;\">\n",
       "      <th></th>\n",
       "      <th>SVM</th>\n",
       "      <th>GB</th>\n",
       "    </tr>\n",
       "  </thead>\n",
       "  <tbody>\n",
       "    <tr>\n",
       "      <th>Accuracy</th>\n",
       "      <td>0.975962</td>\n",
       "      <td>0.982372</td>\n",
       "    </tr>\n",
       "    <tr>\n",
       "      <th>F1-Score (Weighted-Average)</th>\n",
       "      <td>0.976011</td>\n",
       "      <td>0.982401</td>\n",
       "    </tr>\n",
       "  </tbody>\n",
       "</table>\n",
       "</div>"
      ],
      "text/plain": [
       "                                  SVM        GB\n",
       "Accuracy                     0.975962  0.982372\n",
       "F1-Score (Weighted-Average)  0.976011  0.982401"
      ]
     },
     "execution_count": 15,
     "metadata": {},
     "output_type": "execute_result"
    }
   ],
   "source": [
    "# vocal_channel\n",
    "\n",
    "vocal_channel_metrics_s = pd.DataFrame(columns=[\"SVM\", \"GB\"], \n",
    "                       index=[\"Accuracy\", \"F1-Score (Weighted-Average)\"])\n",
    "vocal_channel_metrics_s.loc[\"Accuracy\"] = [0.975962, 0.982372]\n",
    "vocal_channel_metrics_s.loc[\"F1-Score (Weighted-Average)\"] = [0.976011, 0.982401]\n",
    "vocal_channel_metrics_s"
   ]
  },
  {
   "cell_type": "code",
   "execution_count": 16,
   "id": "5c2e601e",
   "metadata": {},
   "outputs": [
    {
     "data": {
      "text/html": [
       "<div>\n",
       "<style scoped>\n",
       "    .dataframe tbody tr th:only-of-type {\n",
       "        vertical-align: middle;\n",
       "    }\n",
       "\n",
       "    .dataframe tbody tr th {\n",
       "        vertical-align: top;\n",
       "    }\n",
       "\n",
       "    .dataframe thead th {\n",
       "        text-align: right;\n",
       "    }\n",
       "</style>\n",
       "<table border=\"1\" class=\"dataframe\">\n",
       "  <thead>\n",
       "    <tr style=\"text-align: right;\">\n",
       "      <th></th>\n",
       "      <th>SVM</th>\n",
       "      <th>GB</th>\n",
       "    </tr>\n",
       "  </thead>\n",
       "  <tbody>\n",
       "    <tr>\n",
       "      <th>Accuracy</th>\n",
       "      <td>0.897436</td>\n",
       "      <td>0.876603</td>\n",
       "    </tr>\n",
       "    <tr>\n",
       "      <th>F1-Score (Weighted-Average)</th>\n",
       "      <td>0.896479</td>\n",
       "      <td>0.875075</td>\n",
       "    </tr>\n",
       "  </tbody>\n",
       "</table>\n",
       "</div>"
      ],
      "text/plain": [
       "                                  SVM        GB\n",
       "Accuracy                     0.897436  0.876603\n",
       "F1-Score (Weighted-Average)  0.896479  0.875075"
      ]
     },
     "execution_count": 16,
     "metadata": {},
     "output_type": "execute_result"
    }
   ],
   "source": [
    "# sex\n",
    "\n",
    "sex_metrics_s = pd.DataFrame(columns=[\"SVM\", \"GB\"], \n",
    "                       index=[\"Accuracy\", \"F1-Score (Weighted-Average)\"])\n",
    "sex_metrics_s.loc[\"Accuracy\"] = [0.897436, 0.876603]\n",
    "sex_metrics_s.loc[\"F1-Score (Weighted-Average)\"] = [0.896479, 0.875075]\n",
    "sex_metrics_s"
   ]
  },
  {
   "cell_type": "code",
   "execution_count": 17,
   "id": "1a9567f9",
   "metadata": {},
   "outputs": [
    {
     "data": {
      "text/html": [
       "<div>\n",
       "<style scoped>\n",
       "    .dataframe tbody tr th:only-of-type {\n",
       "        vertical-align: middle;\n",
       "    }\n",
       "\n",
       "    .dataframe tbody tr th {\n",
       "        vertical-align: top;\n",
       "    }\n",
       "\n",
       "    .dataframe thead th {\n",
       "        text-align: right;\n",
       "    }\n",
       "</style>\n",
       "<table border=\"1\" class=\"dataframe\">\n",
       "  <thead>\n",
       "    <tr style=\"text-align: right;\">\n",
       "      <th></th>\n",
       "      <th>SVM</th>\n",
       "      <th>GB</th>\n",
       "    </tr>\n",
       "  </thead>\n",
       "  <tbody>\n",
       "    <tr>\n",
       "      <th>Accuracy</th>\n",
       "      <td>0.758013</td>\n",
       "      <td>0.746795</td>\n",
       "    </tr>\n",
       "    <tr>\n",
       "      <th>F1-Score (Weighted-Average)</th>\n",
       "      <td>0.758341</td>\n",
       "      <td>0.747146</td>\n",
       "    </tr>\n",
       "  </tbody>\n",
       "</table>\n",
       "</div>"
      ],
      "text/plain": [
       "                                  SVM        GB\n",
       "Accuracy                     0.758013  0.746795\n",
       "F1-Score (Weighted-Average)  0.758341  0.747146"
      ]
     },
     "execution_count": 17,
     "metadata": {},
     "output_type": "execute_result"
    }
   ],
   "source": [
    "# emotional_intensity\n",
    "\n",
    "emotional_intensity_metrics_s = pd.DataFrame(columns=[\"SVM\", \"GB\"], \n",
    "                       index=[\"Accuracy\", \"F1-Score (Weighted-Average)\"])\n",
    "emotional_intensity_metrics_s.loc[\"Accuracy\"] = [0.758013, 0.746795]\n",
    "emotional_intensity_metrics_s.loc[\"F1-Score (Weighted-Average)\"] = [0.758341, 0.747146]\n",
    "emotional_intensity_metrics_s"
   ]
  },
  {
   "cell_type": "code",
   "execution_count": 18,
   "id": "16b90be9",
   "metadata": {
    "scrolled": true
   },
   "outputs": [
    {
     "data": {
      "text/html": [
       "<div>\n",
       "<style scoped>\n",
       "    .dataframe tbody tr th:only-of-type {\n",
       "        vertical-align: middle;\n",
       "    }\n",
       "\n",
       "    .dataframe tbody tr th {\n",
       "        vertical-align: top;\n",
       "    }\n",
       "\n",
       "    .dataframe thead th {\n",
       "        text-align: right;\n",
       "    }\n",
       "</style>\n",
       "<table border=\"1\" class=\"dataframe\">\n",
       "  <thead>\n",
       "    <tr style=\"text-align: right;\">\n",
       "      <th></th>\n",
       "      <th>SVM</th>\n",
       "      <th>GB</th>\n",
       "    </tr>\n",
       "  </thead>\n",
       "  <tbody>\n",
       "    <tr>\n",
       "      <th>Accuracy</th>\n",
       "      <td>0.496795</td>\n",
       "      <td>0.479167</td>\n",
       "    </tr>\n",
       "    <tr>\n",
       "      <th>F1-Score (Weighted-Average)</th>\n",
       "      <td>0.470739</td>\n",
       "      <td>0.460462</td>\n",
       "    </tr>\n",
       "  </tbody>\n",
       "</table>\n",
       "</div>"
      ],
      "text/plain": [
       "                                  SVM        GB\n",
       "Accuracy                     0.496795  0.479167\n",
       "F1-Score (Weighted-Average)  0.470739  0.460462"
      ]
     },
     "execution_count": 18,
     "metadata": {},
     "output_type": "execute_result"
    }
   ],
   "source": [
    "# emotion\n",
    "\n",
    "emotion_metrics_s = pd.DataFrame(columns=[\"SVM\", \"GB\"], \n",
    "                       index=[\"Accuracy\", \"F1-Score (Weighted-Average)\"])\n",
    "emotion_metrics_s.loc[\"Accuracy\"] = [0.496795, 0.479167]\n",
    "emotion_metrics_s.loc[\"F1-Score (Weighted-Average)\"] = [0.470739, 0.460462]\n",
    "emotion_metrics_s"
   ]
  },
  {
   "cell_type": "markdown",
   "id": "4a805774",
   "metadata": {},
   "source": [
    "# ROC"
   ]
  },
  {
   "cell_type": "markdown",
   "id": "32e10141",
   "metadata": {},
   "source": [
    "Per costruire le ROC servono FPR e TPR, che si calcolano a partire dal vettore di probabilità:"
   ]
  },
  {
   "cell_type": "code",
   "execution_count": 22,
   "id": "5e011c58",
   "metadata": {},
   "outputs": [
    {
     "ename": "NameError",
     "evalue": "name 'nb' is not defined",
     "output_type": "error",
     "traceback": [
      "\u001b[0;31m---------------------------------------------------------------------------\u001b[0m",
      "\u001b[0;31mNameError\u001b[0m                                 Traceback (most recent call last)",
      "\u001b[0;32m<ipython-input-22-d546e5b60127>\u001b[0m in \u001b[0;36m<module>\u001b[0;34m\u001b[0m\n\u001b[0;32m----> 1\u001b[0;31m \u001b[0my_pred_proba\u001b[0m \u001b[0;34m=\u001b[0m \u001b[0mnb\u001b[0m\u001b[0;34m.\u001b[0m\u001b[0mpredict_proba\u001b[0m\u001b[0;34m(\u001b[0m\u001b[0mX_test\u001b[0m\u001b[0;34m)\u001b[0m\u001b[0;34m[\u001b[0m\u001b[0;34m:\u001b[0m\u001b[0;34m:\u001b[0m\u001b[0;34m,\u001b[0m\u001b[0;36m1\u001b[0m\u001b[0;34m]\u001b[0m\u001b[0;34m\u001b[0m\u001b[0;34m\u001b[0m\u001b[0m\n\u001b[0m\u001b[1;32m      2\u001b[0m \u001b[0mfpr\u001b[0m\u001b[0;34m,\u001b[0m \u001b[0mtpr\u001b[0m\u001b[0;34m,\u001b[0m \u001b[0m_\u001b[0m \u001b[0;34m=\u001b[0m \u001b[0mroc_curve\u001b[0m\u001b[0;34m(\u001b[0m\u001b[0my_test\u001b[0m\u001b[0;34m,\u001b[0m  \u001b[0my_pred_proba\u001b[0m\u001b[0;34m,\u001b[0m \u001b[0mpos_label\u001b[0m\u001b[0;34m=\u001b[0m\u001b[0;32mNone\u001b[0m\u001b[0;34m)\u001b[0m \u001b[0;31m#pos_label va inizializzato (leggi sotto)\u001b[0m\u001b[0;34m\u001b[0m\u001b[0;34m\u001b[0m\u001b[0m\n",
      "\u001b[0;31mNameError\u001b[0m: name 'nb' is not defined"
     ]
    }
   ],
   "source": [
    "y_pred_proba = model.predict_proba(X_test)[::,1]\n",
    "fpr, tpr, _ = roc_curve(y_test,  y_pred_proba, pos_label=None) #pos_label va inizializzato (leggi sotto)"
   ]
  },
  {
   "cell_type": "markdown",
   "id": "5c6527d3",
   "metadata": {},
   "source": [
    "NB: pos_label è la classe che vogliamo dichiarare come positive. Se non ci sono differenze importanti nella precision/recall dei modelli, penso si possa scegliere liberamente una delle due (ad es. per \"vocal_channel\" si prende o \"speech\" o \"song\"). Scegliete quella che preferite ma segnatevela da qualche parte (va riportata nel Latex)."
   ]
  },
  {
   "cell_type": "markdown",
   "id": "f8f8cb9a",
   "metadata": {},
   "source": [
    "Per l'AUC:"
   ]
  },
  {
   "cell_type": "code",
   "execution_count": null,
   "id": "d6b956fe",
   "metadata": {},
   "outputs": [],
   "source": [
    "auc = roc_auc_score(y_test, y_pred_proba)"
   ]
  },
  {
   "cell_type": "markdown",
   "id": "58dd0f1c",
   "metadata": {},
   "source": [
    "Creo di nuovo un DataFrame per ogni target in cui le colonne sono i modelli e le righe fpr, tpr, e auc.\n",
    "\n",
    "Per ogni target, copiate e incollate sul vostro jupyter il DataFrame che contiene i vostri modelli. Sostituite quindi i valori None (che uso come placeholders) con i valori corrispondenti. Assicuratevi sempre di salvare i DataFrame con gli stessi nomi che uso qui. Quando finite, caricate semplicemente il vostro file su GitHub."
   ]
  },
  {
   "cell_type": "markdown",
   "id": "2d2d8681",
   "metadata": {},
   "source": [
    "## DataFrame per Blerta"
   ]
  },
  {
   "cell_type": "code",
   "execution_count": 24,
   "id": "e12f0e1e",
   "metadata": {},
   "outputs": [
    {
     "data": {
      "text/html": [
       "<div>\n",
       "<style scoped>\n",
       "    .dataframe tbody tr th:only-of-type {\n",
       "        vertical-align: middle;\n",
       "    }\n",
       "\n",
       "    .dataframe tbody tr th {\n",
       "        vertical-align: top;\n",
       "    }\n",
       "\n",
       "    .dataframe thead th {\n",
       "        text-align: right;\n",
       "    }\n",
       "</style>\n",
       "<table border=\"1\" class=\"dataframe\">\n",
       "  <thead>\n",
       "    <tr style=\"text-align: right;\">\n",
       "      <th></th>\n",
       "      <th>LG</th>\n",
       "      <th>RF</th>\n",
       "      <th>DTB</th>\n",
       "      <th>AB</th>\n",
       "    </tr>\n",
       "  </thead>\n",
       "  <tbody>\n",
       "    <tr>\n",
       "      <th>fpr</th>\n",
       "      <td>None</td>\n",
       "      <td>None</td>\n",
       "      <td>None</td>\n",
       "      <td>None</td>\n",
       "    </tr>\n",
       "    <tr>\n",
       "      <th>tpr</th>\n",
       "      <td>None</td>\n",
       "      <td>None</td>\n",
       "      <td>None</td>\n",
       "      <td>None</td>\n",
       "    </tr>\n",
       "    <tr>\n",
       "      <th>auc</th>\n",
       "      <td>None</td>\n",
       "      <td>None</td>\n",
       "      <td>None</td>\n",
       "      <td>None</td>\n",
       "    </tr>\n",
       "  </tbody>\n",
       "</table>\n",
       "</div>"
      ],
      "text/plain": [
       "       LG    RF   DTB    AB\n",
       "fpr  None  None  None  None\n",
       "tpr  None  None  None  None\n",
       "auc  None  None  None  None"
      ]
     },
     "execution_count": 24,
     "metadata": {},
     "output_type": "execute_result"
    }
   ],
   "source": [
    "# vocal_channel   \n",
    "\n",
    "#pos_label = speech\n",
    "\n",
    "vocal_channel_roc_b = pd.DataFrame(columns=[\"LG\", \"RF\", \"DTB\", \"AB\"], \n",
    "                       index=[\"fpr\", \"tpr\", \"auc\"])\n",
    "vocal_channel_roc_b.loc[\"fpr\"] = [None, None, None, None]\n",
    "vocal_channel_roc_b.loc[\"tpr\"] = [None, None, None, None]\n",
    "vocal_channel_roc_b.loc[\"auc\"] = [None, None, None, None]\n",
    "vocal_channel_roc_b"
   ]
  },
  {
   "cell_type": "code",
   "execution_count": 63,
   "id": "2a6638bd",
   "metadata": {},
   "outputs": [
    {
     "data": {
      "text/html": [
       "<div>\n",
       "<style scoped>\n",
       "    .dataframe tbody tr th:only-of-type {\n",
       "        vertical-align: middle;\n",
       "    }\n",
       "\n",
       "    .dataframe tbody tr th {\n",
       "        vertical-align: top;\n",
       "    }\n",
       "\n",
       "    .dataframe thead th {\n",
       "        text-align: right;\n",
       "    }\n",
       "</style>\n",
       "<table border=\"1\" class=\"dataframe\">\n",
       "  <thead>\n",
       "    <tr style=\"text-align: right;\">\n",
       "      <th></th>\n",
       "      <th>LG</th>\n",
       "      <th>RF</th>\n",
       "      <th>DTB</th>\n",
       "      <th>AB</th>\n",
       "    </tr>\n",
       "  </thead>\n",
       "  <tbody>\n",
       "    <tr>\n",
       "      <th>fpr</th>\n",
       "      <td>[0.         0.         0.         0.00378788 0...</td>\n",
       "      <td>[0.         0.         0.         0.00378788 0...</td>\n",
       "      <td>[0.         0.         0.         0.         0...</td>\n",
       "      <td>[0.         0.         0.         0.00378788 0...</td>\n",
       "    </tr>\n",
       "    <tr>\n",
       "      <th>tpr</th>\n",
       "      <td>[0.         0.00277778 0.84444444 0.84444444 0...</td>\n",
       "      <td>[0.         0.00277778 0.78055556 0.78055556 0...</td>\n",
       "      <td>[0.         0.19444444 0.31111111 0.31944444 0...</td>\n",
       "      <td>[0.         0.00277778 0.90833333 0.90833333 0...</td>\n",
       "    </tr>\n",
       "    <tr>\n",
       "      <th>auc</th>\n",
       "      <td>0.9985690235690236</td>\n",
       "      <td>0.9966540404040405</td>\n",
       "      <td>0.9950494528619529</td>\n",
       "      <td>0.9977693602693603</td>\n",
       "    </tr>\n",
       "  </tbody>\n",
       "</table>\n",
       "</div>"
      ],
      "text/plain": [
       "                                                    LG  \\\n",
       "fpr  [0.         0.         0.         0.00378788 0...   \n",
       "tpr  [0.         0.00277778 0.84444444 0.84444444 0...   \n",
       "auc                                 0.9985690235690236   \n",
       "\n",
       "                                                    RF  \\\n",
       "fpr  [0.         0.         0.         0.00378788 0...   \n",
       "tpr  [0.         0.00277778 0.78055556 0.78055556 0...   \n",
       "auc                                 0.9966540404040405   \n",
       "\n",
       "                                                   DTB  \\\n",
       "fpr  [0.         0.         0.         0.         0...   \n",
       "tpr  [0.         0.19444444 0.31111111 0.31944444 0...   \n",
       "auc                                 0.9950494528619529   \n",
       "\n",
       "                                                    AB  \n",
       "fpr  [0.         0.         0.         0.00378788 0...  \n",
       "tpr  [0.         0.00277778 0.90833333 0.90833333 0...  \n",
       "auc                                 0.9977693602693603  "
      ]
     },
     "execution_count": 63,
     "metadata": {},
     "output_type": "execute_result"
    }
   ],
   "source": [
    "vocal_channel_roc_b = vocal_channel.tail(3)\n",
    "vocal_channel_roc_b"
   ]
  },
  {
   "cell_type": "code",
   "execution_count": null,
   "id": "2e5ce216",
   "metadata": {},
   "outputs": [],
   "source": []
  },
  {
   "cell_type": "code",
   "execution_count": 25,
   "id": "060b83b2",
   "metadata": {},
   "outputs": [
    {
     "data": {
      "text/html": [
       "<div>\n",
       "<style scoped>\n",
       "    .dataframe tbody tr th:only-of-type {\n",
       "        vertical-align: middle;\n",
       "    }\n",
       "\n",
       "    .dataframe tbody tr th {\n",
       "        vertical-align: top;\n",
       "    }\n",
       "\n",
       "    .dataframe thead th {\n",
       "        text-align: right;\n",
       "    }\n",
       "</style>\n",
       "<table border=\"1\" class=\"dataframe\">\n",
       "  <thead>\n",
       "    <tr style=\"text-align: right;\">\n",
       "      <th></th>\n",
       "      <th>LG</th>\n",
       "      <th>RF</th>\n",
       "      <th>DTB</th>\n",
       "      <th>AB</th>\n",
       "    </tr>\n",
       "  </thead>\n",
       "  <tbody>\n",
       "    <tr>\n",
       "      <th>fpr</th>\n",
       "      <td>None</td>\n",
       "      <td>None</td>\n",
       "      <td>None</td>\n",
       "      <td>None</td>\n",
       "    </tr>\n",
       "    <tr>\n",
       "      <th>tpr</th>\n",
       "      <td>None</td>\n",
       "      <td>None</td>\n",
       "      <td>None</td>\n",
       "      <td>None</td>\n",
       "    </tr>\n",
       "    <tr>\n",
       "      <th>auc</th>\n",
       "      <td>None</td>\n",
       "      <td>None</td>\n",
       "      <td>None</td>\n",
       "      <td>None</td>\n",
       "    </tr>\n",
       "  </tbody>\n",
       "</table>\n",
       "</div>"
      ],
      "text/plain": [
       "       LG    RF   DTB    AB\n",
       "fpr  None  None  None  None\n",
       "tpr  None  None  None  None\n",
       "auc  None  None  None  None"
      ]
     },
     "execution_count": 25,
     "metadata": {},
     "output_type": "execute_result"
    }
   ],
   "source": [
    "# sex\n",
    "\n",
    "#pos_label = M\n",
    "\n",
    "sex_roc_b = pd.DataFrame(columns=[\"LG\", \"RF\", \"DTB\", \"AB\"], \n",
    "                       index=[\"fpr\", \"tpr\", \"auc\"])\n",
    "sex_roc_b.loc[\"fpr\"] = [None, None, None, None]\n",
    "sex_roc_b.loc[\"tpr\"] = [None, None, None, None]\n",
    "sex_roc_b.loc[\"auc\"] = [None, None, None, None]\n",
    "sex_roc_b"
   ]
  },
  {
   "cell_type": "code",
   "execution_count": 64,
   "id": "6a77d904",
   "metadata": {},
   "outputs": [
    {
     "data": {
      "text/html": [
       "<div>\n",
       "<style scoped>\n",
       "    .dataframe tbody tr th:only-of-type {\n",
       "        vertical-align: middle;\n",
       "    }\n",
       "\n",
       "    .dataframe tbody tr th {\n",
       "        vertical-align: top;\n",
       "    }\n",
       "\n",
       "    .dataframe thead th {\n",
       "        text-align: right;\n",
       "    }\n",
       "</style>\n",
       "<table border=\"1\" class=\"dataframe\">\n",
       "  <thead>\n",
       "    <tr style=\"text-align: right;\">\n",
       "      <th></th>\n",
       "      <th>LG</th>\n",
       "      <th>RF</th>\n",
       "      <th>DTB</th>\n",
       "      <th>AB</th>\n",
       "    </tr>\n",
       "  </thead>\n",
       "  <tbody>\n",
       "    <tr>\n",
       "      <th>fpr</th>\n",
       "      <td>[0.         0.         0.         0.00320513 0...</td>\n",
       "      <td>[0.         0.         0.         0.00378788 0...</td>\n",
       "      <td>[0.         0.01282051 0.01282051 0.01282051 0...</td>\n",
       "      <td>[0.         0.         0.         0.00320513 0...</td>\n",
       "    </tr>\n",
       "    <tr>\n",
       "      <th>tpr</th>\n",
       "      <td>[0.         0.00320513 0.85897436 0.85897436 0...</td>\n",
       "      <td>[0.         0.00277778 0.78055556 0.78055556 0...</td>\n",
       "      <td>[0.         0.41666667 0.41987179 0.43910256 0...</td>\n",
       "      <td>[0.         0.00320513 0.63141026 0.63141026 0...</td>\n",
       "    </tr>\n",
       "    <tr>\n",
       "      <th>auc</th>\n",
       "      <td>0.9927576429980276</td>\n",
       "      <td>0.9966540404040405</td>\n",
       "      <td>0.9541522846811309</td>\n",
       "      <td>0.9890183267587114</td>\n",
       "    </tr>\n",
       "  </tbody>\n",
       "</table>\n",
       "</div>"
      ],
      "text/plain": [
       "                                                    LG  \\\n",
       "fpr  [0.         0.         0.         0.00320513 0...   \n",
       "tpr  [0.         0.00320513 0.85897436 0.85897436 0...   \n",
       "auc                                 0.9927576429980276   \n",
       "\n",
       "                                                    RF  \\\n",
       "fpr  [0.         0.         0.         0.00378788 0...   \n",
       "tpr  [0.         0.00277778 0.78055556 0.78055556 0...   \n",
       "auc                                 0.9966540404040405   \n",
       "\n",
       "                                                   DTB  \\\n",
       "fpr  [0.         0.01282051 0.01282051 0.01282051 0...   \n",
       "tpr  [0.         0.41666667 0.41987179 0.43910256 0...   \n",
       "auc                                 0.9541522846811309   \n",
       "\n",
       "                                                    AB  \n",
       "fpr  [0.         0.         0.         0.00320513 0...  \n",
       "tpr  [0.         0.00320513 0.63141026 0.63141026 0...  \n",
       "auc                                 0.9890183267587114  "
      ]
     },
     "execution_count": 64,
     "metadata": {},
     "output_type": "execute_result"
    }
   ],
   "source": [
    "sex_roc_b = sex.tail(3)\n",
    "sex_roc_b"
   ]
  },
  {
   "cell_type": "code",
   "execution_count": null,
   "id": "26d33184",
   "metadata": {},
   "outputs": [],
   "source": []
  },
  {
   "cell_type": "code",
   "execution_count": 26,
   "id": "b2054709",
   "metadata": {},
   "outputs": [
    {
     "data": {
      "text/html": [
       "<div>\n",
       "<style scoped>\n",
       "    .dataframe tbody tr th:only-of-type {\n",
       "        vertical-align: middle;\n",
       "    }\n",
       "\n",
       "    .dataframe tbody tr th {\n",
       "        vertical-align: top;\n",
       "    }\n",
       "\n",
       "    .dataframe thead th {\n",
       "        text-align: right;\n",
       "    }\n",
       "</style>\n",
       "<table border=\"1\" class=\"dataframe\">\n",
       "  <thead>\n",
       "    <tr style=\"text-align: right;\">\n",
       "      <th></th>\n",
       "      <th>LG</th>\n",
       "      <th>RF</th>\n",
       "      <th>DTB</th>\n",
       "      <th>AB</th>\n",
       "    </tr>\n",
       "  </thead>\n",
       "  <tbody>\n",
       "    <tr>\n",
       "      <th>fpr</th>\n",
       "      <td>None</td>\n",
       "      <td>None</td>\n",
       "      <td>None</td>\n",
       "      <td>None</td>\n",
       "    </tr>\n",
       "    <tr>\n",
       "      <th>tpr</th>\n",
       "      <td>None</td>\n",
       "      <td>None</td>\n",
       "      <td>None</td>\n",
       "      <td>None</td>\n",
       "    </tr>\n",
       "    <tr>\n",
       "      <th>auc</th>\n",
       "      <td>None</td>\n",
       "      <td>None</td>\n",
       "      <td>None</td>\n",
       "      <td>None</td>\n",
       "    </tr>\n",
       "  </tbody>\n",
       "</table>\n",
       "</div>"
      ],
      "text/plain": [
       "       LG    RF   DTB    AB\n",
       "fpr  None  None  None  None\n",
       "tpr  None  None  None  None\n",
       "auc  None  None  None  None"
      ]
     },
     "execution_count": 26,
     "metadata": {},
     "output_type": "execute_result"
    }
   ],
   "source": [
    "# emotional_intensity\n",
    "\n",
    "#pos_label = normal\n",
    "\n",
    "emotional_intensity_roc_b = pd.DataFrame(columns=[\"LG\", \"RF\", \"DTB\", \"AB\"], \n",
    "                       index=[\"fpr\", \"tpr\", \"auc\"])\n",
    "emotional_intensity_roc_b.loc[\"fpr\"] = [None, None, None, None]\n",
    "emotional_intensity_roc_b.loc[\"tpr\"] = [None, None, None, None]\n",
    "emotional_intensity_roc_b.loc[\"auc\"] = [None, None, None, None]\n",
    "emotional_intensity_roc_b"
   ]
  },
  {
   "cell_type": "code",
   "execution_count": 65,
   "id": "c891a5f2",
   "metadata": {},
   "outputs": [
    {
     "data": {
      "text/html": [
       "<div>\n",
       "<style scoped>\n",
       "    .dataframe tbody tr th:only-of-type {\n",
       "        vertical-align: middle;\n",
       "    }\n",
       "\n",
       "    .dataframe tbody tr th {\n",
       "        vertical-align: top;\n",
       "    }\n",
       "\n",
       "    .dataframe thead th {\n",
       "        text-align: right;\n",
       "    }\n",
       "</style>\n",
       "<table border=\"1\" class=\"dataframe\">\n",
       "  <thead>\n",
       "    <tr style=\"text-align: right;\">\n",
       "      <th></th>\n",
       "      <th>LG</th>\n",
       "      <th>RF</th>\n",
       "      <th>DTB</th>\n",
       "      <th>AB</th>\n",
       "    </tr>\n",
       "  </thead>\n",
       "  <tbody>\n",
       "    <tr>\n",
       "      <th>fpr</th>\n",
       "      <td>[0.         0.         0.         0.00347222 0...</td>\n",
       "      <td>[0.         0.         0.         0.00347222 0...</td>\n",
       "      <td>[0.         0.01282051 0.01282051 0.01282051 0...</td>\n",
       "      <td>[0.         0.         0.         0.00347222 0...</td>\n",
       "    </tr>\n",
       "    <tr>\n",
       "      <th>tpr</th>\n",
       "      <td>[0.         0.00297619 0.07142857 0.07142857 0...</td>\n",
       "      <td>[0.         0.12797619 0.14583333 0.14583333 0...</td>\n",
       "      <td>[0.         0.41666667 0.41987179 0.43910256 0...</td>\n",
       "      <td>[0.         0.00297619 0.13095238 0.13095238 0...</td>\n",
       "    </tr>\n",
       "    <tr>\n",
       "      <th>auc</th>\n",
       "      <td>0.8625475363756614</td>\n",
       "      <td>0.8385623346560847</td>\n",
       "      <td>0.9541522846811309</td>\n",
       "      <td>0.8230406746031746</td>\n",
       "    </tr>\n",
       "  </tbody>\n",
       "</table>\n",
       "</div>"
      ],
      "text/plain": [
       "                                                    LG  \\\n",
       "fpr  [0.         0.         0.         0.00347222 0...   \n",
       "tpr  [0.         0.00297619 0.07142857 0.07142857 0...   \n",
       "auc                                 0.8625475363756614   \n",
       "\n",
       "                                                    RF  \\\n",
       "fpr  [0.         0.         0.         0.00347222 0...   \n",
       "tpr  [0.         0.12797619 0.14583333 0.14583333 0...   \n",
       "auc                                 0.8385623346560847   \n",
       "\n",
       "                                                   DTB  \\\n",
       "fpr  [0.         0.01282051 0.01282051 0.01282051 0...   \n",
       "tpr  [0.         0.41666667 0.41987179 0.43910256 0...   \n",
       "auc                                 0.9541522846811309   \n",
       "\n",
       "                                                    AB  \n",
       "fpr  [0.         0.         0.         0.00347222 0...  \n",
       "tpr  [0.         0.00297619 0.13095238 0.13095238 0...  \n",
       "auc                                 0.8230406746031746  "
      ]
     },
     "execution_count": 65,
     "metadata": {},
     "output_type": "execute_result"
    }
   ],
   "source": [
    "emotional_intensity_roc_b = emotional_intensity.tail(3)\n",
    "emotional_intensity_roc_b"
   ]
  },
  {
   "cell_type": "code",
   "execution_count": null,
   "id": "ac4e35e3",
   "metadata": {},
   "outputs": [],
   "source": []
  },
  {
   "cell_type": "markdown",
   "id": "a248045e",
   "metadata": {},
   "source": [
    "## DataFrame per Simone"
   ]
  },
  {
   "cell_type": "code",
   "execution_count": 9,
   "id": "f579390b",
   "metadata": {
    "scrolled": true
   },
   "outputs": [
    {
     "data": {
      "text/html": [
       "<div>\n",
       "<style scoped>\n",
       "    .dataframe tbody tr th:only-of-type {\n",
       "        vertical-align: middle;\n",
       "    }\n",
       "\n",
       "    .dataframe tbody tr th {\n",
       "        vertical-align: top;\n",
       "    }\n",
       "\n",
       "    .dataframe thead th {\n",
       "        text-align: right;\n",
       "    }\n",
       "</style>\n",
       "<table border=\"1\" class=\"dataframe\">\n",
       "  <thead>\n",
       "    <tr style=\"text-align: right;\">\n",
       "      <th></th>\n",
       "      <th>SVM</th>\n",
       "      <th>GB</th>\n",
       "    </tr>\n",
       "  </thead>\n",
       "  <tbody>\n",
       "    <tr>\n",
       "      <th>fpr</th>\n",
       "      <td>None</td>\n",
       "      <td>None</td>\n",
       "    </tr>\n",
       "    <tr>\n",
       "      <th>tpr</th>\n",
       "      <td>None</td>\n",
       "      <td>None</td>\n",
       "    </tr>\n",
       "    <tr>\n",
       "      <th>auc</th>\n",
       "      <td>None</td>\n",
       "      <td>None</td>\n",
       "    </tr>\n",
       "  </tbody>\n",
       "</table>\n",
       "</div>"
      ],
      "text/plain": [
       "      SVM    GB\n",
       "fpr  None  None\n",
       "tpr  None  None\n",
       "auc  None  None"
      ]
     },
     "execution_count": 9,
     "metadata": {},
     "output_type": "execute_result"
    }
   ],
   "source": [
    "# vocal_channel\n",
    "\n",
    "vocal_channel_roc_s = pd.DataFrame(columns=[\"SVM\", \"GB\"], \n",
    "                       index=[\"fpr\", \"tpr\", \"auc\"])\n",
    "vocal_channel_roc_s.loc[\"fpr\"] = [None, None]\n",
    "vocal_channel_roc_s.loc[\"tpr\"] = [None, None]\n",
    "vocal_channel_roc_s.loc[\"auc\"] = [None, None]\n",
    "vocal_channel_roc_s"
   ]
  },
  {
   "cell_type": "code",
   "execution_count": 10,
   "id": "2d716fa2",
   "metadata": {},
   "outputs": [
    {
     "data": {
      "text/html": [
       "<div>\n",
       "<style scoped>\n",
       "    .dataframe tbody tr th:only-of-type {\n",
       "        vertical-align: middle;\n",
       "    }\n",
       "\n",
       "    .dataframe tbody tr th {\n",
       "        vertical-align: top;\n",
       "    }\n",
       "\n",
       "    .dataframe thead th {\n",
       "        text-align: right;\n",
       "    }\n",
       "</style>\n",
       "<table border=\"1\" class=\"dataframe\">\n",
       "  <thead>\n",
       "    <tr style=\"text-align: right;\">\n",
       "      <th></th>\n",
       "      <th>SVM</th>\n",
       "      <th>GB</th>\n",
       "    </tr>\n",
       "  </thead>\n",
       "  <tbody>\n",
       "    <tr>\n",
       "      <th>fpr</th>\n",
       "      <td>[0.         0.         0.         0.00378788 0...</td>\n",
       "      <td>[0.         0.         0.         0.00378788 0...</td>\n",
       "    </tr>\n",
       "    <tr>\n",
       "      <th>tpr</th>\n",
       "      <td>[0.         0.08333333 0.81666667 0.81666667 0...</td>\n",
       "      <td>[0.         0.00277778 0.69722222 0.69722222 0...</td>\n",
       "    </tr>\n",
       "    <tr>\n",
       "      <th>auc</th>\n",
       "      <td>0.9985269360269361</td>\n",
       "      <td>0.9980534511784512</td>\n",
       "    </tr>\n",
       "  </tbody>\n",
       "</table>\n",
       "</div>"
      ],
      "text/plain": [
       "                                                   SVM  \\\n",
       "fpr  [0.         0.         0.         0.00378788 0...   \n",
       "tpr  [0.         0.08333333 0.81666667 0.81666667 0...   \n",
       "auc                                 0.9985269360269361   \n",
       "\n",
       "                                                    GB  \n",
       "fpr  [0.         0.         0.         0.00378788 0...  \n",
       "tpr  [0.         0.00277778 0.69722222 0.69722222 0...  \n",
       "auc                                 0.9980534511784512  "
      ]
     },
     "execution_count": 10,
     "metadata": {},
     "output_type": "execute_result"
    }
   ],
   "source": [
    "vocal_channel_roc_s = vocal_channel_s\n",
    "vocal_channel_roc_s"
   ]
  },
  {
   "cell_type": "code",
   "execution_count": 11,
   "id": "48ff460b",
   "metadata": {
    "scrolled": true
   },
   "outputs": [
    {
     "data": {
      "text/html": [
       "<div>\n",
       "<style scoped>\n",
       "    .dataframe tbody tr th:only-of-type {\n",
       "        vertical-align: middle;\n",
       "    }\n",
       "\n",
       "    .dataframe tbody tr th {\n",
       "        vertical-align: top;\n",
       "    }\n",
       "\n",
       "    .dataframe thead th {\n",
       "        text-align: right;\n",
       "    }\n",
       "</style>\n",
       "<table border=\"1\" class=\"dataframe\">\n",
       "  <thead>\n",
       "    <tr style=\"text-align: right;\">\n",
       "      <th></th>\n",
       "      <th>SVM</th>\n",
       "      <th>GB</th>\n",
       "    </tr>\n",
       "  </thead>\n",
       "  <tbody>\n",
       "    <tr>\n",
       "      <th>fpr</th>\n",
       "      <td>None</td>\n",
       "      <td>None</td>\n",
       "    </tr>\n",
       "    <tr>\n",
       "      <th>tpr</th>\n",
       "      <td>None</td>\n",
       "      <td>None</td>\n",
       "    </tr>\n",
       "    <tr>\n",
       "      <th>auc</th>\n",
       "      <td>None</td>\n",
       "      <td>None</td>\n",
       "    </tr>\n",
       "  </tbody>\n",
       "</table>\n",
       "</div>"
      ],
      "text/plain": [
       "      SVM    GB\n",
       "fpr  None  None\n",
       "tpr  None  None\n",
       "auc  None  None"
      ]
     },
     "execution_count": 11,
     "metadata": {},
     "output_type": "execute_result"
    }
   ],
   "source": [
    "# sex\n",
    "\n",
    "sex_roc_s = pd.DataFrame(columns=[\"SVM\", \"GB\"], \n",
    "                       index=[\"fpr\", \"tpr\", \"auc\"])\n",
    "sex_roc_s.loc[\"fpr\"] = [None, None]\n",
    "sex_roc_s.loc[\"tpr\"] = [None, None]\n",
    "sex_roc_s.loc[\"auc\"] = [None, None]\n",
    "sex_roc_s"
   ]
  },
  {
   "cell_type": "code",
   "execution_count": 12,
   "id": "4815226d",
   "metadata": {},
   "outputs": [
    {
     "data": {
      "text/html": [
       "<div>\n",
       "<style scoped>\n",
       "    .dataframe tbody tr th:only-of-type {\n",
       "        vertical-align: middle;\n",
       "    }\n",
       "\n",
       "    .dataframe tbody tr th {\n",
       "        vertical-align: top;\n",
       "    }\n",
       "\n",
       "    .dataframe thead th {\n",
       "        text-align: right;\n",
       "    }\n",
       "</style>\n",
       "<table border=\"1\" class=\"dataframe\">\n",
       "  <thead>\n",
       "    <tr style=\"text-align: right;\">\n",
       "      <th></th>\n",
       "      <th>SVM</th>\n",
       "      <th>GB</th>\n",
       "    </tr>\n",
       "  </thead>\n",
       "  <tbody>\n",
       "    <tr>\n",
       "      <th>fpr</th>\n",
       "      <td>[0.         0.         0.         0.00320513 0...</td>\n",
       "      <td>[0.         0.         0.         0.00320513 0...</td>\n",
       "    </tr>\n",
       "    <tr>\n",
       "      <th>tpr</th>\n",
       "      <td>[0.         0.00320513 0.61217949 0.61217949 0...</td>\n",
       "      <td>[0.         0.00320513 0.61858974 0.61858974 0...</td>\n",
       "    </tr>\n",
       "    <tr>\n",
       "      <th>auc</th>\n",
       "      <td>0.9886279585798817</td>\n",
       "      <td>0.9887204142011835</td>\n",
       "    </tr>\n",
       "  </tbody>\n",
       "</table>\n",
       "</div>"
      ],
      "text/plain": [
       "                                                   SVM  \\\n",
       "fpr  [0.         0.         0.         0.00320513 0...   \n",
       "tpr  [0.         0.00320513 0.61217949 0.61217949 0...   \n",
       "auc                                 0.9886279585798817   \n",
       "\n",
       "                                                    GB  \n",
       "fpr  [0.         0.         0.         0.00320513 0...  \n",
       "tpr  [0.         0.00320513 0.61858974 0.61858974 0...  \n",
       "auc                                 0.9887204142011835  "
      ]
     },
     "execution_count": 12,
     "metadata": {},
     "output_type": "execute_result"
    }
   ],
   "source": [
    "sex_roc_s = sex_s\n",
    "sex_s"
   ]
  },
  {
   "cell_type": "code",
   "execution_count": 13,
   "id": "5271bf7e",
   "metadata": {},
   "outputs": [
    {
     "data": {
      "text/html": [
       "<div>\n",
       "<style scoped>\n",
       "    .dataframe tbody tr th:only-of-type {\n",
       "        vertical-align: middle;\n",
       "    }\n",
       "\n",
       "    .dataframe tbody tr th {\n",
       "        vertical-align: top;\n",
       "    }\n",
       "\n",
       "    .dataframe thead th {\n",
       "        text-align: right;\n",
       "    }\n",
       "</style>\n",
       "<table border=\"1\" class=\"dataframe\">\n",
       "  <thead>\n",
       "    <tr style=\"text-align: right;\">\n",
       "      <th></th>\n",
       "      <th>SVM</th>\n",
       "      <th>GB</th>\n",
       "    </tr>\n",
       "  </thead>\n",
       "  <tbody>\n",
       "    <tr>\n",
       "      <th>fpr</th>\n",
       "      <td>None</td>\n",
       "      <td>None</td>\n",
       "    </tr>\n",
       "    <tr>\n",
       "      <th>tpr</th>\n",
       "      <td>None</td>\n",
       "      <td>None</td>\n",
       "    </tr>\n",
       "    <tr>\n",
       "      <th>auc</th>\n",
       "      <td>None</td>\n",
       "      <td>None</td>\n",
       "    </tr>\n",
       "  </tbody>\n",
       "</table>\n",
       "</div>"
      ],
      "text/plain": [
       "      SVM    GB\n",
       "fpr  None  None\n",
       "tpr  None  None\n",
       "auc  None  None"
      ]
     },
     "execution_count": 13,
     "metadata": {},
     "output_type": "execute_result"
    }
   ],
   "source": [
    "# emotional_intensity\n",
    "\n",
    "emotional_intensity_roc_s = pd.DataFrame(columns=[\"SVM\", \"GB\"], \n",
    "                       index=[\"fpr\", \"tpr\", \"auc\"])\n",
    "emotional_intensity_roc_s.loc[\"fpr\"] = [None, None]\n",
    "emotional_intensity_roc_s.loc[\"tpr\"] = [None, None]\n",
    "emotional_intensity_roc_s.loc[\"auc\"] = [None, None]\n",
    "emotional_intensity_roc_s"
   ]
  },
  {
   "cell_type": "code",
   "execution_count": 14,
   "id": "3dde2c11",
   "metadata": {},
   "outputs": [
    {
     "data": {
      "text/html": [
       "<div>\n",
       "<style scoped>\n",
       "    .dataframe tbody tr th:only-of-type {\n",
       "        vertical-align: middle;\n",
       "    }\n",
       "\n",
       "    .dataframe tbody tr th {\n",
       "        vertical-align: top;\n",
       "    }\n",
       "\n",
       "    .dataframe thead th {\n",
       "        text-align: right;\n",
       "    }\n",
       "</style>\n",
       "<table border=\"1\" class=\"dataframe\">\n",
       "  <thead>\n",
       "    <tr style=\"text-align: right;\">\n",
       "      <th></th>\n",
       "      <th>SVM</th>\n",
       "      <th>GB</th>\n",
       "    </tr>\n",
       "  </thead>\n",
       "  <tbody>\n",
       "    <tr>\n",
       "      <th>fpr</th>\n",
       "      <td>[0.         0.         0.         0.00347222 0...</td>\n",
       "      <td>[0.         0.         0.         0.00347222 0...</td>\n",
       "    </tr>\n",
       "    <tr>\n",
       "      <th>tpr</th>\n",
       "      <td>[0.         0.00297619 0.03571429 0.03571429 0...</td>\n",
       "      <td>[0.         0.00297619 0.05059524 0.05059524 0...</td>\n",
       "    </tr>\n",
       "    <tr>\n",
       "      <th>auc</th>\n",
       "      <td>0.845413773148148</td>\n",
       "      <td>0.8520688657407408</td>\n",
       "    </tr>\n",
       "  </tbody>\n",
       "</table>\n",
       "</div>"
      ],
      "text/plain": [
       "                                                   SVM  \\\n",
       "fpr  [0.         0.         0.         0.00347222 0...   \n",
       "tpr  [0.         0.00297619 0.03571429 0.03571429 0...   \n",
       "auc                                  0.845413773148148   \n",
       "\n",
       "                                                    GB  \n",
       "fpr  [0.         0.         0.         0.00347222 0...  \n",
       "tpr  [0.         0.00297619 0.05059524 0.05059524 0...  \n",
       "auc                                 0.8520688657407408  "
      ]
     },
     "execution_count": 14,
     "metadata": {},
     "output_type": "execute_result"
    }
   ],
   "source": [
    "emotional_intensity_roc_s = emotional_intensity_s\n",
    "emotional_intensity_roc_s\n"
   ]
  }
 ],
 "metadata": {
  "kernelspec": {
   "display_name": "Python 3 (ipykernel)",
   "language": "python",
   "name": "python3"
  },
  "language_info": {
   "codemirror_mode": {
    "name": "ipython",
    "version": 3
   },
   "file_extension": ".py",
   "mimetype": "text/x-python",
   "name": "python",
   "nbconvert_exporter": "python",
   "pygments_lexer": "ipython3",
   "version": "3.9.12"
  }
 },
 "nbformat": 4,
 "nbformat_minor": 5
}
