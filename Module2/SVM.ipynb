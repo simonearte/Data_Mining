{
 "cells": [
  {
   "cell_type": "markdown",
   "id": "e2780d42",
   "metadata": {},
   "source": [
    "# Imports"
   ]
  },
  {
   "cell_type": "code",
   "execution_count": 1,
   "id": "ce8c6e50",
   "metadata": {},
   "outputs": [],
   "source": [
    "import pandas as pd\n",
    "import numpy as np\n",
    "import matplotlib.pyplot as plt\n",
    "import seaborn as sns\n",
    "\n",
    "sns.set_style(\"whitegrid\", {'grid.linestyle': '--'})\n",
    "sns.set_style({'font.family':'serif', 'font.serif':'Computer Modern'})\n",
    "sns.set_context(font_scale=2, rc={\"font.size\":10,\"axes.titlesize\":20,\"axes.labelsize\":15})\n",
    "\n",
    "from collections import defaultdict\n",
    "\n",
    "from sklearn.model_selection import train_test_split, cross_val_score \n",
    "from sklearn.metrics import accuracy_score, f1_score, classification_report\n",
    "from sklearn.metrics import roc_curve, auc, roc_auc_score\n",
    "\n",
    "from sklearn.decomposition import PCA\n",
    "from sklearn.preprocessing import MinMaxScaler\n",
    "\n",
    "df_train = pd.read_csv(\"C:/Users/Utente/OneDrive/Desktop/UNIPI - DS for Business Informatics/Data Mining_2/Progetto/df_train_processed.csv\")\n",
    "df_test = pd.read_csv(\"C:/Users/Utente/OneDrive/Desktop/UNIPI - DS for Business Informatics/Data Mining_2/Progetto/df_test_processed.csv\")\n",
    "\n",
    "from sklearn.model_selection import RandomizedSearchCV\n",
    "\n",
    "from sklearn.svm import SVC"
   ]
  },
  {
   "cell_type": "code",
   "execution_count": 40,
   "id": "239e7739",
   "metadata": {},
   "outputs": [],
   "source": [
    "from sklearn.metrics import roc_curve, auc"
   ]
  },
  {
   "cell_type": "markdown",
   "id": "f9b50324",
   "metadata": {},
   "source": [
    "# Standardization"
   ]
  },
  {
   "cell_type": "markdown",
   "id": "82c58599",
   "metadata": {},
   "source": [
    "## Train set"
   ]
  },
  {
   "cell_type": "code",
   "execution_count": 2,
   "id": "bbcc937b",
   "metadata": {},
   "outputs": [],
   "source": [
    "df_train_num = df_train.select_dtypes(include=\"number\").drop('actor', axis=1)\n",
    "df_train_cat = df_train.select_dtypes(include=['object'])\n",
    "\n",
    "scaler = MinMaxScaler()\n",
    "df_train_num_scaled = pd.DataFrame(scaler.fit_transform(df_train_num), columns=df_train_num.columns)\n",
    "df_train = pd.concat([df_train_num_scaled, df_train_cat], axis=1)"
   ]
  },
  {
   "cell_type": "markdown",
   "id": "8a1a2bc3",
   "metadata": {},
   "source": [
    "## Test set"
   ]
  },
  {
   "cell_type": "code",
   "execution_count": 3,
   "id": "33bab675",
   "metadata": {},
   "outputs": [],
   "source": [
    "df_test_num = df_test.select_dtypes(include=\"number\").drop('actor', axis=1)\n",
    "df_test_cat = df_test.select_dtypes(include=['object'])\n",
    "\n",
    "scaler = MinMaxScaler()\n",
    "df_test_num_scaled = pd.DataFrame(scaler.fit_transform(df_test_num), columns=df_test_num.columns)\n",
    "df_test = pd.concat([df_test_num_scaled, df_test_cat], axis=1)"
   ]
  },
  {
   "cell_type": "markdown",
   "id": "7494286e",
   "metadata": {},
   "source": [
    "# Trasformation"
   ]
  },
  {
   "cell_type": "code",
   "execution_count": 4,
   "id": "40ec833f",
   "metadata": {},
   "outputs": [],
   "source": [
    "def label_encoder(array, label):\n",
    "    new_array = np.zeros(len(array))\n",
    "    for i in range(len(array)):\n",
    "        if array[i] == label:\n",
    "            new_array[i] = 1\n",
    "    return new_array"
   ]
  },
  {
   "cell_type": "markdown",
   "id": "a3212cc5",
   "metadata": {},
   "source": [
    "## Vocal_channel"
   ]
  },
  {
   "cell_type": "code",
   "execution_count": 5,
   "id": "949e6ff1",
   "metadata": {},
   "outputs": [],
   "source": [
    "df_train_model_vc = df_train.copy()"
   ]
  },
  {
   "cell_type": "code",
   "execution_count": 6,
   "id": "157ff84d",
   "metadata": {},
   "outputs": [],
   "source": [
    "df_test_model_vc = df_test.copy()"
   ]
  },
  {
   "cell_type": "code",
   "execution_count": 7,
   "id": "8b05fd1a",
   "metadata": {},
   "outputs": [],
   "source": [
    "X_train_vc = df_train_model_vc.drop(\"vocal_channel\", axis=1)\n",
    "X_train_vc = np.array(pd.get_dummies(X_train_vc))\n",
    "y_train_vc = label_encoder(df_train_model_vc[\"vocal_channel\"], 'speech')"
   ]
  },
  {
   "cell_type": "code",
   "execution_count": 8,
   "id": "35066237",
   "metadata": {},
   "outputs": [],
   "source": [
    "X_test_vc = df_test_model_vc.drop(\"vocal_channel\", axis=1)\n",
    "X_test_vc = np.array(pd.get_dummies(X_test_vc))\n",
    "y_test_vc = label_encoder(df_test_model_vc[\"vocal_channel\"], 'speech') "
   ]
  },
  {
   "cell_type": "markdown",
   "id": "43193179",
   "metadata": {},
   "source": [
    "## Sex"
   ]
  },
  {
   "cell_type": "code",
   "execution_count": 9,
   "id": "97cdbf08",
   "metadata": {},
   "outputs": [],
   "source": [
    "df_train_model_s = df_train.copy()"
   ]
  },
  {
   "cell_type": "code",
   "execution_count": 10,
   "id": "61e5dbca",
   "metadata": {},
   "outputs": [],
   "source": [
    "df_test_model_s = df_test.copy()"
   ]
  },
  {
   "cell_type": "code",
   "execution_count": 11,
   "id": "de30f1ea",
   "metadata": {},
   "outputs": [],
   "source": [
    "X_train_s = df_train_model_s.drop(\"sex\", axis=1)\n",
    "X_train_s = np.array(pd.get_dummies(X_train_s))\n",
    "y_train_s = label_encoder(df_train_model_s[\"sex\"], 'M')"
   ]
  },
  {
   "cell_type": "code",
   "execution_count": 12,
   "id": "6d2e4237",
   "metadata": {},
   "outputs": [],
   "source": [
    "X_test_s = df_test_model_s.drop(\"sex\", axis=1)\n",
    "X_test_s = np.array(pd.get_dummies(X_test_s))\n",
    "y_test_s = label_encoder(df_test_model_s[\"sex\"], 'M')"
   ]
  },
  {
   "cell_type": "markdown",
   "id": "34b757f5",
   "metadata": {},
   "source": [
    "## Emotional_intensity"
   ]
  },
  {
   "cell_type": "code",
   "execution_count": 13,
   "id": "40cdae81",
   "metadata": {},
   "outputs": [],
   "source": [
    "df_train_model_ei = df_train.copy()"
   ]
  },
  {
   "cell_type": "code",
   "execution_count": 14,
   "id": "4f1f0107",
   "metadata": {},
   "outputs": [],
   "source": [
    "df_test_model_ei = df_test.copy()"
   ]
  },
  {
   "cell_type": "code",
   "execution_count": 15,
   "id": "f7acb1d3",
   "metadata": {},
   "outputs": [],
   "source": [
    "X_train_ei = df_train_model_ei.drop(\"emotional_intensity\", axis=1)\n",
    "X_train_ei = np.array(pd.get_dummies(X_train_ei))\n",
    "y_train_ei = label_encoder(df_train_model_ei[\"emotional_intensity\"], 'normal')"
   ]
  },
  {
   "cell_type": "code",
   "execution_count": 16,
   "id": "acfdb133",
   "metadata": {},
   "outputs": [],
   "source": [
    "X_test_ei = df_test_model_ei.drop(\"emotional_intensity\", axis=1)\n",
    "X_test_ei = np.array(pd.get_dummies(X_test_ei))\n",
    "y_test_ei = label_encoder(df_test_model_ei[\"emotional_intensity\"], 'normal')"
   ]
  },
  {
   "cell_type": "markdown",
   "id": "10ff403e",
   "metadata": {},
   "source": [
    "## Emotion"
   ]
  },
  {
   "cell_type": "code",
   "execution_count": 17,
   "id": "5d21dd18",
   "metadata": {},
   "outputs": [],
   "source": [
    "df_train_model_e = df_train.copy()"
   ]
  },
  {
   "cell_type": "code",
   "execution_count": 18,
   "id": "4b0be9ea",
   "metadata": {},
   "outputs": [],
   "source": [
    "df_test_model_e = df_test.copy()"
   ]
  },
  {
   "cell_type": "code",
   "execution_count": 19,
   "id": "ebf77932",
   "metadata": {},
   "outputs": [],
   "source": [
    "def label_encoder_e(array):\n",
    "    new_array = np.zeros(len(array))\n",
    "    for i in range(len(array)):\n",
    "        if array[i] == \"calm\":\n",
    "            new_array[i] = 1\n",
    "        elif array[i] == \"happy\":\n",
    "            new_array[i] = 2\n",
    "        elif array[i] == \"sad\":\n",
    "            new_array[i] = 3\n",
    "        elif array[i] == \"angry\":\n",
    "            new_array[i] = 4\n",
    "        elif array[i] == \"fearful\":\n",
    "            new_array[i] = 5\n",
    "        elif array[i] == \"disgust\":\n",
    "            new_array[i] = 6\n",
    "        elif array[i] == \"surprised\":\n",
    "            new_array[i] = 7\n",
    "    return new_array\n",
    " "
   ]
  },
  {
   "cell_type": "code",
   "execution_count": 20,
   "id": "e53589fc",
   "metadata": {},
   "outputs": [],
   "source": [
    "X_train_e = df_train_model_e.drop(\"emotion\", axis=1)\n",
    "X_train_e = np.array(pd.get_dummies(X_train_e))\n",
    "y_train_e = label_encoder_e(df_train_model_e[\"emotion\"])"
   ]
  },
  {
   "cell_type": "code",
   "execution_count": 21,
   "id": "d1f30543",
   "metadata": {},
   "outputs": [],
   "source": [
    "X_test_e = df_test_model_e.drop(\"emotion\", axis=1)\n",
    "X_test_e = np.array(pd.get_dummies(X_test_e))\n",
    "y_test_e = label_encoder_e(df_test_model_e[\"emotion\"])"
   ]
  },
  {
   "cell_type": "markdown",
   "id": "0e456b08",
   "metadata": {},
   "source": [
    "# Modelli - Non linear"
   ]
  },
  {
   "cell_type": "markdown",
   "id": "45d5020f",
   "metadata": {},
   "source": [
    "## Sex"
   ]
  },
  {
   "cell_type": "code",
   "execution_count": 23,
   "id": "ccea6588",
   "metadata": {},
   "outputs": [
    {
     "name": "stdout",
     "output_type": "stream",
     "text": [
      "              precision    recall  f1-score   support\n",
      "\n",
      "         0.0       0.99      0.81      0.89       312\n",
      "         1.0       0.84      0.99      0.91       312\n",
      "\n",
      "    accuracy                           0.90       624\n",
      "   macro avg       0.92      0.90      0.90       624\n",
      "weighted avg       0.92      0.90      0.90       624\n",
      "\n",
      "Best C value: 0.521400828799969\n",
      "Best kernel: rbf\n",
      "Best gamma value: 0.055908101825122285\n"
     ]
    }
   ],
   "source": [
    "C_range = np.logspace(-4, 4, 100)\n",
    "gamma_range = np.logspace(-4, 4, 100) # possibile gamma range\n",
    "kernel_type = ['rbf', 'poly'] # possibile kernel type\n",
    "param_grid = {'C': C_range,\n",
    "              'gamma': gamma_range,\n",
    "              'kernel': kernel_type}\n",
    "\n",
    "clf = SVC()\n",
    "random_search = RandomizedSearchCV(clf, param_distributions=param_grid, n_iter=200, random_state=42, n_jobs=-1)\n",
    "random_search.fit(X_train_s, y_train_s)\n",
    "\n",
    "best_clf = random_search.best_estimator_ # seleziono il miglior modello trovato dalla random search\n",
    "best_clf.fit(X_train_s, y_train_s) \n",
    "\n",
    "y_pred = best_clf.predict(X_test_s)\n",
    "\n",
    "print(classification_report(y_test_s, y_pred))\n",
    "\n",
    "print(\"Best C value:\", random_search.best_params_['C'])\n",
    "print(\"Best kernel:\", random_search.best_params_['kernel'])\n",
    "print(\"Best gamma value:\", random_search.best_params_['gamma'])"
   ]
  },
  {
   "cell_type": "code",
   "execution_count": 36,
   "id": "1381b0c0",
   "metadata": {},
   "outputs": [
    {
     "name": "stderr",
     "output_type": "stream",
     "text": [
      "C:\\Users\\Utente\\anaconda3\\lib\\site-packages\\sklearn\\model_selection\\_search.py:292: UserWarning: The total space of parameters 64 is smaller than n_iter=200. Running 64 iterations. For exhaustive searches, use GridSearchCV.\n",
      "  warnings.warn(\n"
     ]
    },
    {
     "name": "stdout",
     "output_type": "stream",
     "text": [
      "              precision    recall  f1-score   support\n",
      "\n",
      "         0.0       0.99      0.80      0.89       312\n",
      "         1.0       0.83      0.99      0.91       312\n",
      "\n",
      "    accuracy                           0.90       624\n",
      "   macro avg       0.91      0.90      0.90       624\n",
      "weighted avg       0.91      0.90      0.90       624\n",
      "\n",
      "Best C value: 0.7\n",
      "Best kernel: rbf\n",
      "Best gamma value: 0.1\n"
     ]
    }
   ],
   "source": [
    "C_range = [0.1,0.2,0.3,0.4,0.5,0.6,0.7,0.8]\n",
    "gamma_range = [0.1,0.2,0.3,0.4,0.5,0.6,0.7,0.8] # possibile gamma range\n",
    "kernel_type = ['rbf'] # possibile kernel type\n",
    "param_grid = {'C': C_range,\n",
    "              'gamma': gamma_range,\n",
    "              'kernel': kernel_type}\n",
    "\n",
    "clf = SVC()\n",
    "random_search = RandomizedSearchCV(clf, param_distributions=param_grid, n_iter=200, random_state=42, n_jobs=-1)\n",
    "random_search.fit(X_train_s, y_train_s)\n",
    "\n",
    "best_clf = random_search.best_estimator_ # seleziono il miglior modello trovato dalla random search\n",
    "best_clf.fit(X_train_s, y_train_s) \n",
    "\n",
    "y_pred = best_clf.predict(X_test_s)\n",
    "\n",
    "print(classification_report(y_test_s, y_pred))\n",
    "\n",
    "print(\"Best C value:\", random_search.best_params_['C'])\n",
    "print(\"Best kernel:\", random_search.best_params_['kernel'])\n",
    "print(\"Best gamma value:\", random_search.best_params_['gamma'])"
   ]
  },
  {
   "cell_type": "markdown",
   "id": "eecd56f5",
   "metadata": {},
   "source": [
    "## Vocal_channel"
   ]
  },
  {
   "cell_type": "code",
   "execution_count": 28,
   "id": "0eeb07c6",
   "metadata": {
    "scrolled": true
   },
   "outputs": [
    {
     "name": "stdout",
     "output_type": "stream",
     "text": [
      "              precision    recall  f1-score   support\n",
      "\n",
      "         0.0       0.96      0.99      0.97       264\n",
      "         1.0       0.99      0.97      0.98       360\n",
      "\n",
      "    accuracy                           0.98       624\n",
      "   macro avg       0.97      0.98      0.98       624\n",
      "weighted avg       0.98      0.98      0.98       624\n",
      "\n",
      "Best C value: 95.45484566618347\n",
      "Best kernel: rbf\n",
      "Best gamma value: 0.0006428073117284319\n"
     ]
    }
   ],
   "source": [
    "C_range = np.logspace(-4, 4, 100)\n",
    "gamma_range = np.logspace(-4, 4, 100) # possibile gamma range\n",
    "kernel_type = ['rbf', 'poly'] # possibile kernel type\n",
    "param_grid = {'C': C_range,\n",
    "              'gamma': gamma_range,\n",
    "              'kernel': kernel_type}\n",
    "\n",
    "clf = SVC()\n",
    "random_search = RandomizedSearchCV(clf, param_distributions=param_grid, n_iter=200, random_state=42, n_jobs=-1)\n",
    "random_search.fit(X_train_vc, y_train_vc)\n",
    "\n",
    "best_clf = random_search.best_estimator_ # seleziono il miglior modello trovato dalla random search\n",
    "best_clf.fit(X_train_vc, y_train_vc) \n",
    "\n",
    "y_pred = best_clf.predict(X_test_vc)\n",
    "\n",
    "print(classification_report(y_test_vc, y_pred))\n",
    "\n",
    "print(\"Best C value:\", random_search.best_params_['C'])\n",
    "print(\"Best kernel:\", random_search.best_params_['kernel'])\n",
    "print(\"Best gamma value:\", random_search.best_params_['gamma'])"
   ]
  },
  {
   "cell_type": "code",
   "execution_count": 37,
   "id": "96b2f024",
   "metadata": {},
   "outputs": [
    {
     "name": "stderr",
     "output_type": "stream",
     "text": [
      "C:\\Users\\Utente\\anaconda3\\lib\\site-packages\\sklearn\\model_selection\\_search.py:292: UserWarning: The total space of parameters 72 is smaller than n_iter=200. Running 72 iterations. For exhaustive searches, use GridSearchCV.\n",
      "  warnings.warn(\n"
     ]
    },
    {
     "name": "stdout",
     "output_type": "stream",
     "text": [
      "              precision    recall  f1-score   support\n",
      "\n",
      "         0.0       0.97      0.96      0.96       264\n",
      "         1.0       0.97      0.97      0.97       360\n",
      "\n",
      "    accuracy                           0.97       624\n",
      "   macro avg       0.97      0.97      0.97       624\n",
      "weighted avg       0.97      0.97      0.97       624\n",
      "\n",
      "Best C value: 55\n",
      "Best kernel: rbf\n",
      "Best gamma value: 0.1\n"
     ]
    }
   ],
   "source": [
    "C_range = [55,65,75,85,95,105,115,125,135]\n",
    "gamma_range = [0.1,0.2,0.3,0.4,0.5,0.6,0.7,0.8] # possibile gamma range\n",
    "kernel_type = [\"rbf\"] # possibile kernel type\n",
    "param_grid = {'C': C_range,\n",
    "              'gamma': gamma_range,\n",
    "              'kernel': kernel_type}\n",
    "\n",
    "clf = SVC()\n",
    "random_search = RandomizedSearchCV(clf, param_distributions=param_grid, n_iter=200, random_state=42, n_jobs=-1)\n",
    "random_search.fit(X_train_vc, y_train_vc)\n",
    "\n",
    "best_clf = random_search.best_estimator_ # seleziono il miglior modello trovato dalla random search\n",
    "best_clf.fit(X_train_vc, y_train_vc) \n",
    "\n",
    "y_pred = best_clf.predict(X_test_vc)\n",
    "\n",
    "print(classification_report(y_test_vc, y_pred))\n",
    "\n",
    "print(\"Best C value:\", random_search.best_params_['C'])\n",
    "print(\"Best kernel:\", random_search.best_params_['kernel'])\n",
    "print(\"Best gamma value:\", random_search.best_params_['gamma'])"
   ]
  },
  {
   "cell_type": "markdown",
   "id": "95200ffa",
   "metadata": {},
   "source": [
    "## Emotional_intensity"
   ]
  },
  {
   "cell_type": "code",
   "execution_count": 29,
   "id": "bfb6ae63",
   "metadata": {},
   "outputs": [
    {
     "name": "stdout",
     "output_type": "stream",
     "text": [
      "              precision    recall  f1-score   support\n",
      "\n",
      "         0.0       0.72      0.77      0.75       288\n",
      "         1.0       0.79      0.75      0.77       336\n",
      "\n",
      "    accuracy                           0.76       624\n",
      "   macro avg       0.76      0.76      0.76       624\n",
      "weighted avg       0.76      0.76      0.76       624\n",
      "\n",
      "Best C value: 1072.2672220103254\n",
      "Best kernel: rbf\n",
      "Best gamma value: 0.0003053855508833416\n"
     ]
    }
   ],
   "source": [
    "C_range = np.logspace(-4, 4, 100)\n",
    "gamma_range = np.logspace(-4, 4, 100) # possibile gamma range\n",
    "kernel_type = ['rbf', 'poly'] # possibile kernel type\n",
    "param_grid = {'C': C_range,\n",
    "              'gamma': gamma_range,\n",
    "              'kernel': kernel_type}\n",
    "\n",
    "clf = SVC()\n",
    "random_search = RandomizedSearchCV(clf, param_distributions=param_grid, n_iter=200, random_state=42, n_jobs=-1)\n",
    "random_search.fit(X_train_ei, y_train_ei)\n",
    "\n",
    "best_clf = random_search.best_estimator_ # seleziono il miglior modello trovato dalla random search\n",
    "best_clf.fit(X_train_ei, y_train_ei) \n",
    "\n",
    "y_pred = best_clf.predict(X_test_ei)\n",
    "\n",
    "print(classification_report(y_test_ei, y_pred))\n",
    "\n",
    "print(\"Best C value:\", random_search.best_params_['C'])\n",
    "print(\"Best kernel:\", random_search.best_params_['kernel'])\n",
    "print(\"Best gamma value:\", random_search.best_params_['gamma'])"
   ]
  },
  {
   "cell_type": "code",
   "execution_count": 38,
   "id": "68ceb158",
   "metadata": {},
   "outputs": [
    {
     "name": "stderr",
     "output_type": "stream",
     "text": [
      "C:\\Users\\Utente\\anaconda3\\lib\\site-packages\\sklearn\\model_selection\\_search.py:292: UserWarning: The total space of parameters 80 is smaller than n_iter=200. Running 80 iterations. For exhaustive searches, use GridSearchCV.\n",
      "  warnings.warn(\n"
     ]
    },
    {
     "name": "stdout",
     "output_type": "stream",
     "text": [
      "              precision    recall  f1-score   support\n",
      "\n",
      "         0.0       0.64      0.86      0.73       288\n",
      "         1.0       0.83      0.58      0.69       336\n",
      "\n",
      "    accuracy                           0.71       624\n",
      "   macro avg       0.73      0.72      0.71       624\n",
      "weighted avg       0.74      0.71      0.71       624\n",
      "\n",
      "Best C value: 1042\n",
      "Best kernel: rbf\n",
      "Best gamma value: 0.1\n"
     ]
    }
   ],
   "source": [
    "C_range = [1042,1052,1062,1072,1082,1092,1102,1112,1122,1132]\n",
    "gamma_range = [0.1,0.2,0.3,0.4,0.5,0.6,0.7,0.8]\n",
    "kernel_type = ['rbf']\n",
    "param_grid = {'C': C_range,\n",
    "              'gamma': gamma_range,\n",
    "              'kernel': kernel_type}\n",
    "\n",
    "clf = SVC()\n",
    "random_search = RandomizedSearchCV(clf, param_distributions=param_grid, n_iter=200, random_state=42, n_jobs=-1)\n",
    "random_search.fit(X_train_ei, y_train_ei)\n",
    "\n",
    "best_clf = random_search.best_estimator_ # seleziono il miglior modello trovato dalla random search\n",
    "best_clf.fit(X_train_ei, y_train_ei) \n",
    "\n",
    "y_pred = best_clf.predict(X_test_ei)\n",
    "\n",
    "print(classification_report(y_test_ei, y_pred))\n",
    "\n",
    "print(\"Best C value:\", random_search.best_params_['C'])\n",
    "print(\"Best kernel:\", random_search.best_params_['kernel'])\n",
    "print(\"Best gamma value:\", random_search.best_params_['gamma'])"
   ]
  },
  {
   "cell_type": "markdown",
   "id": "f89afc0c",
   "metadata": {},
   "source": [
    "## Emotion "
   ]
  },
  {
   "cell_type": "code",
   "execution_count": 31,
   "id": "82915b30",
   "metadata": {},
   "outputs": [
    {
     "name": "stdout",
     "output_type": "stream",
     "text": [
      "              precision    recall  f1-score   support\n",
      "\n",
      "         0.0       0.41      0.65      0.50        48\n",
      "         1.0       0.54      0.71      0.61        96\n",
      "         2.0       0.46      0.32      0.38        96\n",
      "         3.0       0.57      0.22      0.32        96\n",
      "         4.0       0.51      0.89      0.64        96\n",
      "         5.0       0.59      0.28      0.38        96\n",
      "         6.0       0.49      0.56      0.52        48\n",
      "         7.0       0.45      0.46      0.45        48\n",
      "\n",
      "    accuracy                           0.50       624\n",
      "   macro avg       0.50      0.51      0.48       624\n",
      "weighted avg       0.51      0.50      0.47       624\n",
      "\n",
      "Best C value: 0.018307382802953697\n",
      "Best kernel: poly\n",
      "Best gamma value: 0.09770099572992257\n"
     ]
    }
   ],
   "source": [
    "C_range = np.logspace(-4, 4, 100)\n",
    "gamma_range = np.logspace(-4, 4, 100) # possibile gamma range\n",
    "kernel_type = ['rbf', 'poly'] # possibile kernel type\n",
    "class_w = [\"balanced\"]\n",
    "param_grid = {'C': C_range,\n",
    "              'gamma': gamma_range,\n",
    "              'kernel': kernel_type,\n",
    "                \"class_weight\": class_w}\n",
    "\n",
    "clf = SVC()\n",
    "random_search = RandomizedSearchCV(clf, param_distributions=param_grid, n_iter=200, random_state=42, n_jobs=-1)\n",
    "random_search.fit(X_train_e, y_train_e)\n",
    "\n",
    "best_clf = random_search.best_estimator_ # seleziono il miglior modello trovato dalla random search\n",
    "best_clf.fit(X_train_e, y_train_e) \n",
    "\n",
    "y_pred = best_clf.predict(X_test_e)\n",
    "\n",
    "print(classification_report(y_test_e, y_pred))\n",
    "\n",
    "print(\"Best C value:\", random_search.best_params_['C'])\n",
    "print(\"Best kernel:\", random_search.best_params_['kernel'])\n",
    "print(\"Best gamma value:\", random_search.best_params_['gamma'])"
   ]
  },
  {
   "cell_type": "code",
   "execution_count": 39,
   "id": "b0f9f22d",
   "metadata": {},
   "outputs": [
    {
     "name": "stderr",
     "output_type": "stream",
     "text": [
      "C:\\Users\\Utente\\anaconda3\\lib\\site-packages\\sklearn\\model_selection\\_search.py:292: UserWarning: The total space of parameters 64 is smaller than n_iter=200. Running 64 iterations. For exhaustive searches, use GridSearchCV.\n",
      "  warnings.warn(\n"
     ]
    },
    {
     "name": "stdout",
     "output_type": "stream",
     "text": [
      "              precision    recall  f1-score   support\n",
      "\n",
      "         0.0       0.35      0.75      0.48        48\n",
      "         1.0       0.54      0.65      0.59        96\n",
      "         2.0       0.61      0.24      0.34        96\n",
      "         3.0       0.50      0.22      0.30        96\n",
      "         4.0       0.43      0.83      0.57        96\n",
      "         5.0       0.69      0.28      0.40        96\n",
      "         6.0       0.43      0.44      0.43        48\n",
      "         7.0       0.44      0.50      0.47        48\n",
      "\n",
      "    accuracy                           0.47       624\n",
      "   macro avg       0.50      0.49      0.45       624\n",
      "weighted avg       0.52      0.47      0.45       624\n",
      "\n",
      "Best C value: 0.1\n",
      "Best kernel: poly\n",
      "Best gamma value: 0.1\n"
     ]
    }
   ],
   "source": [
    "C_range = [0.1,0.2,0.3,0.4,0.5,0.6,0.7,0.8]\n",
    "gamma_range = [0.1,0.2,0.3,0.4,0.5,0.6,0.7,0.8]\n",
    "kernel_type = [\"poly\"] # possibile kernel type\n",
    "class_w = [\"balanced\"]\n",
    "param_grid = {'C': C_range,\n",
    "              'gamma': gamma_range,\n",
    "              'kernel': kernel_type,\n",
    "                \"class_weight\": class_w}\n",
    "\n",
    "clf = SVC()\n",
    "random_search = RandomizedSearchCV(clf, param_distributions=param_grid, n_iter=200, random_state=42, n_jobs=-1)\n",
    "random_search.fit(X_train_e, y_train_e)\n",
    "\n",
    "best_clf = random_search.best_estimator_ # seleziono il miglior modello trovato dalla random search\n",
    "best_clf.fit(X_train_e, y_train_e) \n",
    "\n",
    "y_pred = best_clf.predict(X_test_e)\n",
    "\n",
    "print(classification_report(y_test_e, y_pred))\n",
    "\n",
    "print(\"Best C value:\", random_search.best_params_['C'])\n",
    "print(\"Best kernel:\", random_search.best_params_['kernel'])\n",
    "print(\"Best gamma value:\", random_search.best_params_['gamma'])"
   ]
  },
  {
   "cell_type": "markdown",
   "id": "2650daf6",
   "metadata": {},
   "source": [
    "# Metriche per la valutazione dei modelli "
   ]
  },
  {
   "cell_type": "markdown",
   "id": "585a48bb",
   "metadata": {},
   "source": [
    "## Sex"
   ]
  },
  {
   "cell_type": "code",
   "execution_count": 41,
   "id": "531b505c",
   "metadata": {},
   "outputs": [
    {
     "name": "stdout",
     "output_type": "stream",
     "text": [
      "Accuracy: 0.8974358974358975\n",
      "              precision    recall  f1-score   support\n",
      "\n",
      "         0.0   0.992063  0.801282  0.886525       312\n",
      "         1.0   0.833333  0.993590  0.906433       312\n",
      "\n",
      "    accuracy                       0.897436       624\n",
      "   macro avg   0.912698  0.897436  0.896479       624\n",
      "weighted avg   0.912698  0.897436  0.896479       624\n",
      "\n"
     ]
    }
   ],
   "source": [
    "C_value = 0.7\n",
    "gamma_value = 0.1\n",
    "kernel_type = \"rbf\"\n",
    "\n",
    "clf = SVC(C=C_value, gamma=gamma_value, kernel=kernel_type, probability=True)\n",
    "clf.fit(X_train_s, y_train_s)\n",
    "y_pred = clf.predict(X_test_s)\n",
    "\n",
    "print(\"Accuracy:\", accuracy_score(y_test_s, y_pred))\n",
    "print(classification_report(y_test_s, y_pred, digits=6))"
   ]
  },
  {
   "cell_type": "code",
   "execution_count": 42,
   "id": "7e1148e3",
   "metadata": {},
   "outputs": [
    {
     "name": "stdout",
     "output_type": "stream",
     "text": [
      "TPR: [0.         0.00320513 0.61217949 0.61217949 0.71794872 0.71794872\n",
      " 0.77564103 0.77564103 0.83974359 0.83974359 0.85897436 0.85897436\n",
      " 0.87179487 0.87179487 0.88461538 0.88461538 0.90705128 0.90705128\n",
      " 0.91346154 0.91346154 0.91987179 0.91987179 0.92628205 0.92628205\n",
      " 0.93269231 0.93269231 0.93589744 0.93589744 0.93910256 0.93910256\n",
      " 0.94230769 0.94230769 0.94871795 0.94871795 0.95512821 0.95512821\n",
      " 0.95833333 0.95833333 0.96153846 0.96153846 0.97435897 0.97435897\n",
      " 0.98397436 0.98397436 0.98717949 0.98717949 0.99038462 0.99038462\n",
      " 0.99358974 0.99358974 0.99679487 0.99679487 1.         1.        ]\n",
      "FPR: [0.         0.         0.         0.00320513 0.00320513 0.00641026\n",
      " 0.00641026 0.01282051 0.01282051 0.01602564 0.01602564 0.01923077\n",
      " 0.01923077 0.0224359  0.0224359  0.02564103 0.02564103 0.02884615\n",
      " 0.02884615 0.03205128 0.03205128 0.04166667 0.04166667 0.04807692\n",
      " 0.04807692 0.05769231 0.05769231 0.06089744 0.06089744 0.06730769\n",
      " 0.06730769 0.07051282 0.07051282 0.08012821 0.08012821 0.08333333\n",
      " 0.08333333 0.08974359 0.08974359 0.09294872 0.09294872 0.09935897\n",
      " 0.09935897 0.11858974 0.11858974 0.12179487 0.12179487 0.17948718\n",
      " 0.17948718 0.25       0.25       0.32692308 0.32692308 1.        ]\n",
      "AUC score: 0.9886279585798817\n"
     ]
    }
   ],
   "source": [
    "y_pred_proba = clf.predict_proba(X_test_s)[:, 1]\n",
    "fpr_s, tpr_s, _ = roc_curve(y_test_s, y_pred_proba, pos_label=1)\n",
    "auc_score_s = auc(fpr_s, tpr_s)\n",
    "\n",
    "print(\"TPR:\", tpr_s)\n",
    "print(\"FPR:\", fpr_s)\n",
    "print(\"AUC score:\", auc_score_s)"
   ]
  },
  {
   "cell_type": "code",
   "execution_count": 43,
   "id": "fdc803b6",
   "metadata": {},
   "outputs": [
    {
     "data": {
      "text/html": [
       "<div>\n",
       "<style scoped>\n",
       "    .dataframe tbody tr th:only-of-type {\n",
       "        vertical-align: middle;\n",
       "    }\n",
       "\n",
       "    .dataframe tbody tr th {\n",
       "        vertical-align: top;\n",
       "    }\n",
       "\n",
       "    .dataframe thead th {\n",
       "        text-align: right;\n",
       "    }\n",
       "</style>\n",
       "<table border=\"1\" class=\"dataframe\">\n",
       "  <thead>\n",
       "    <tr style=\"text-align: right;\">\n",
       "      <th></th>\n",
       "      <th>SVM</th>\n",
       "      <th>GB</th>\n",
       "    </tr>\n",
       "  </thead>\n",
       "  <tbody>\n",
       "    <tr>\n",
       "      <th>fpr</th>\n",
       "      <td>None</td>\n",
       "      <td>None</td>\n",
       "    </tr>\n",
       "    <tr>\n",
       "      <th>tpr</th>\n",
       "      <td>None</td>\n",
       "      <td>None</td>\n",
       "    </tr>\n",
       "    <tr>\n",
       "      <th>auc</th>\n",
       "      <td>None</td>\n",
       "      <td>None</td>\n",
       "    </tr>\n",
       "  </tbody>\n",
       "</table>\n",
       "</div>"
      ],
      "text/plain": [
       "      SVM    GB\n",
       "fpr  None  None\n",
       "tpr  None  None\n",
       "auc  None  None"
      ]
     },
     "execution_count": 43,
     "metadata": {},
     "output_type": "execute_result"
    }
   ],
   "source": [
    "sex_roc_s = pd.DataFrame(columns=[\"SVM\", \"GB\"], \n",
    "                       index=[\"fpr\", \"tpr\", \"auc\"])\n",
    "sex_roc_s.loc[\"fpr\"] = [None, None]\n",
    "sex_roc_s.loc[\"tpr\"] = [None, None]\n",
    "sex_roc_s.loc[\"auc\"] = [None, None]\n",
    "sex_roc_s"
   ]
  },
  {
   "cell_type": "code",
   "execution_count": 44,
   "id": "53b915f4",
   "metadata": {},
   "outputs": [],
   "source": [
    "sex_roc_s.loc[\"fpr\"] [0] = fpr_s\n",
    "sex_roc_s.loc[\"tpr\"] [0] = tpr_s\n",
    "sex_roc_s.loc[\"auc\"] [0] = auc_score_s\n",
    "\n",
    "sex_roc_s.to_csv(\"sex_roc.csv\", index=False) "
   ]
  },
  {
   "cell_type": "markdown",
   "id": "5a0ba954",
   "metadata": {},
   "source": [
    "## Vocal_channel"
   ]
  },
  {
   "cell_type": "code",
   "execution_count": 45,
   "id": "06f3e911",
   "metadata": {},
   "outputs": [
    {
     "name": "stdout",
     "output_type": "stream",
     "text": [
      "Accuracy: 0.9759615384615384\n",
      "              precision    recall  f1-score   support\n",
      "\n",
      "         0.0   0.956044  0.988636  0.972067       264\n",
      "         1.0   0.991453  0.966667  0.978903       360\n",
      "\n",
      "    accuracy                       0.975962       624\n",
      "   macro avg   0.973748  0.977652  0.975485       624\n",
      "weighted avg   0.976472  0.975962  0.976011       624\n",
      "\n"
     ]
    }
   ],
   "source": [
    "C_value = 95.45484566618347\n",
    "gamma_value = 0.0006428073117284319\n",
    "kernel_type = 'rbf'\n",
    "\n",
    "clf = SVC(C=C_value, gamma=gamma_value, kernel=kernel_type, probability=True)\n",
    "clf.fit(X_train_vc, y_train_vc)\n",
    "y_pred = clf.predict(X_test_vc)\n",
    "\n",
    "print(\"Accuracy:\", accuracy_score(y_test_vc, y_pred))\n",
    "print(classification_report(y_test_vc, y_pred, digits=6))"
   ]
  },
  {
   "cell_type": "code",
   "execution_count": 46,
   "id": "52ddec35",
   "metadata": {},
   "outputs": [
    {
     "name": "stdout",
     "output_type": "stream",
     "text": [
      "TPR: [0.         0.08333333 0.81666667 0.81666667 0.95       0.95\n",
      " 0.96666667 0.96666667 0.98055556 0.98055556 0.98611111 0.98611111\n",
      " 0.99444444 0.99444444 0.99722222 0.99722222 1.         1.\n",
      " 1.        ]\n",
      "FPR: [0.         0.         0.         0.00378788 0.00378788 0.00757576\n",
      " 0.00757576 0.01136364 0.01136364 0.02272727 0.02272727 0.03787879\n",
      " 0.03787879 0.04166667 0.04166667 0.04545455 0.04545455 0.97727273\n",
      " 1.        ]\n",
      "AUC score: 0.9985269360269361\n"
     ]
    }
   ],
   "source": [
    "y_pred_proba = clf.predict_proba(X_test_vc)[:, 1]\n",
    "fpr_v, tpr_v, _ = roc_curve(y_test_vc, y_pred_proba, pos_label=1)\n",
    "auc_score_v = auc(fpr_v, tpr_v)\n",
    "\n",
    "print(\"TPR:\", tpr_v)\n",
    "print(\"FPR:\", fpr_v)\n",
    "print(\"AUC score:\", auc_score_v)"
   ]
  },
  {
   "cell_type": "code",
   "execution_count": 47,
   "id": "a060834e",
   "metadata": {},
   "outputs": [
    {
     "data": {
      "text/html": [
       "<div>\n",
       "<style scoped>\n",
       "    .dataframe tbody tr th:only-of-type {\n",
       "        vertical-align: middle;\n",
       "    }\n",
       "\n",
       "    .dataframe tbody tr th {\n",
       "        vertical-align: top;\n",
       "    }\n",
       "\n",
       "    .dataframe thead th {\n",
       "        text-align: right;\n",
       "    }\n",
       "</style>\n",
       "<table border=\"1\" class=\"dataframe\">\n",
       "  <thead>\n",
       "    <tr style=\"text-align: right;\">\n",
       "      <th></th>\n",
       "      <th>SVM</th>\n",
       "      <th>GB</th>\n",
       "    </tr>\n",
       "  </thead>\n",
       "  <tbody>\n",
       "    <tr>\n",
       "      <th>fpr</th>\n",
       "      <td>None</td>\n",
       "      <td>None</td>\n",
       "    </tr>\n",
       "    <tr>\n",
       "      <th>tpr</th>\n",
       "      <td>None</td>\n",
       "      <td>None</td>\n",
       "    </tr>\n",
       "    <tr>\n",
       "      <th>auc</th>\n",
       "      <td>None</td>\n",
       "      <td>None</td>\n",
       "    </tr>\n",
       "  </tbody>\n",
       "</table>\n",
       "</div>"
      ],
      "text/plain": [
       "      SVM    GB\n",
       "fpr  None  None\n",
       "tpr  None  None\n",
       "auc  None  None"
      ]
     },
     "execution_count": 47,
     "metadata": {},
     "output_type": "execute_result"
    }
   ],
   "source": [
    "# vocal_channel\n",
    "\n",
    "vocal_channel_roc_s = pd.DataFrame(columns=[\"SVM\", \"GB\"],\n",
    "                       index=[\"fpr\", \"tpr\", \"auc\"], )\n",
    "vocal_channel_roc_s.loc[\"fpr\"] = [None, None]\n",
    "vocal_channel_roc_s.loc[\"tpr\"] = [None, None]\n",
    "vocal_channel_roc_s.loc[\"auc\"] = [None, None]\n",
    "vocal_channel_roc_s"
   ]
  },
  {
   "cell_type": "code",
   "execution_count": 48,
   "id": "f873aa55",
   "metadata": {},
   "outputs": [],
   "source": [
    "vocal_channel_roc_s.loc[\"fpr\"] [0] = fpr_v\n",
    "vocal_channel_roc_s.loc[\"tpr\"] [0] = tpr_v\n",
    "vocal_channel_roc_s.loc[\"auc\"] [0] = auc_score_v\n",
    "\n",
    "vocal_channel_roc_s.to_csv(\"vocal_channel_roc.csv\", index = False) "
   ]
  },
  {
   "cell_type": "markdown",
   "id": "9afd498e",
   "metadata": {},
   "source": [
    "## Emotional_intensity"
   ]
  },
  {
   "cell_type": "code",
   "execution_count": 49,
   "id": "fe03551a",
   "metadata": {},
   "outputs": [
    {
     "name": "stdout",
     "output_type": "stream",
     "text": [
      "Accuracy: 0.7580128205128205\n",
      "              precision    recall  f1-score   support\n",
      "\n",
      "         0.0   0.724590  0.767361  0.745363       288\n",
      "         1.0   0.789969  0.750000  0.769466       336\n",
      "\n",
      "    accuracy                       0.758013       624\n",
      "   macro avg   0.757279  0.758681  0.757414       624\n",
      "weighted avg   0.759794  0.758013  0.758341       624\n",
      "\n"
     ]
    }
   ],
   "source": [
    "C_value =  1072.2672220103254\n",
    "gamma_value = 0.0003053855508833416\n",
    "kernel_type = 'rbf'\n",
    "\n",
    "clf = SVC(C=C_value, gamma=gamma_value, kernel=kernel_type, probability=True)\n",
    "clf.fit(X_train_ei, y_train_ei)\n",
    "y_pred = clf.predict(X_test_ei)\n",
    "\n",
    "print(\"Accuracy:\", accuracy_score(y_test_ei, y_pred))\n",
    "print(classification_report(y_test_ei, y_pred, digits=6))"
   ]
  },
  {
   "cell_type": "code",
   "execution_count": 50,
   "id": "d765ce67",
   "metadata": {},
   "outputs": [
    {
     "name": "stdout",
     "output_type": "stream",
     "text": [
      "TPR: [0.         0.00297619 0.03571429 0.03571429 0.08928571 0.08928571\n",
      " 0.27380952 0.27380952 0.36309524 0.36309524 0.37202381 0.37202381\n",
      " 0.375      0.375      0.38988095 0.38988095 0.41369048 0.41369048\n",
      " 0.42559524 0.42559524 0.44940476 0.44940476 0.45833333 0.45833333\n",
      " 0.46130952 0.46130952 0.46428571 0.46428571 0.48809524 0.48809524\n",
      " 0.5        0.5        0.50297619 0.50297619 0.52678571 0.52678571\n",
      " 0.5327381  0.5327381  0.54166667 0.54166667 0.54761905 0.54761905\n",
      " 0.55654762 0.55654762 0.55952381 0.55952381 0.56547619 0.56547619\n",
      " 0.58630952 0.58630952 0.5922619  0.5922619  0.60714286 0.60714286\n",
      " 0.61904762 0.61904762 0.62202381 0.62202381 0.625      0.625\n",
      " 0.64285714 0.64285714 0.6547619  0.6547619  0.6577381  0.6577381\n",
      " 0.66369048 0.66369048 0.67261905 0.67261905 0.68154762 0.68154762\n",
      " 0.70238095 0.70238095 0.70833333 0.70833333 0.71428571 0.71428571\n",
      " 0.7172619  0.7172619  0.72619048 0.72619048 0.72916667 0.72916667\n",
      " 0.73214286 0.73214286 0.73511905 0.73511905 0.74702381 0.74702381\n",
      " 0.75297619 0.75595238 0.75892857 0.75892857 0.76190476 0.76190476\n",
      " 0.76488095 0.76488095 0.76785714 0.76785714 0.77083333 0.77083333\n",
      " 0.77380952 0.77380952 0.77678571 0.77678571 0.7797619  0.7797619\n",
      " 0.7827381  0.7827381  0.78571429 0.78571429 0.78869048 0.78869048\n",
      " 0.79166667 0.79166667 0.79761905 0.79761905 0.80059524 0.80059524\n",
      " 0.80357143 0.80357143 0.80654762 0.80654762 0.80952381 0.80952381\n",
      " 0.8125     0.8125     0.81845238 0.81845238 0.83630952 0.83630952\n",
      " 0.83928571 0.83928571 0.8452381  0.8452381  0.84821429 0.84821429\n",
      " 0.85416667 0.85416667 0.85714286 0.85714286 0.86011905 0.86011905\n",
      " 0.875      0.875      0.88988095 0.88988095 0.89583333 0.89583333\n",
      " 0.90178571 0.90178571 0.9077381  0.9077381  0.91369048 0.91369048\n",
      " 0.91964286 0.91964286 0.92261905 0.92261905 0.92559524 0.92559524\n",
      " 0.93154762 0.93154762 0.93452381 0.93452381 0.9375     0.9375\n",
      " 0.94047619 0.94047619 0.94345238 0.94345238 0.94940476 0.94940476\n",
      " 0.95238095 0.95238095 0.95535714 0.95535714 0.96428571 0.96428571\n",
      " 0.9672619  0.9672619  0.97321429 0.97321429 0.97619048 0.97619048\n",
      " 0.97916667 0.97916667 0.98214286 0.98214286 0.98511905 0.98511905\n",
      " 0.98809524 0.98809524 0.99107143 0.99107143 0.99404762 0.99404762\n",
      " 0.99702381 0.99702381 1.         1.        ]\n",
      "FPR: [0.         0.         0.         0.00347222 0.00347222 0.00694444\n",
      " 0.00694444 0.01041667 0.01041667 0.02083333 0.02083333 0.02430556\n",
      " 0.02430556 0.02777778 0.02777778 0.03125    0.03125    0.03472222\n",
      " 0.03472222 0.03819444 0.03819444 0.04166667 0.04166667 0.04513889\n",
      " 0.04513889 0.05208333 0.05208333 0.0625     0.0625     0.06944444\n",
      " 0.06944444 0.07986111 0.07986111 0.08333333 0.08333333 0.08680556\n",
      " 0.08680556 0.09027778 0.09027778 0.09375    0.09375    0.09722222\n",
      " 0.09722222 0.10069444 0.10069444 0.11111111 0.11111111 0.11458333\n",
      " 0.11458333 0.11805556 0.11805556 0.12152778 0.12152778 0.125\n",
      " 0.125      0.14236111 0.14236111 0.14583333 0.14583333 0.14930556\n",
      " 0.14930556 0.15625    0.15625    0.16319444 0.16319444 0.16666667\n",
      " 0.16666667 0.17361111 0.17361111 0.18055556 0.18055556 0.18402778\n",
      " 0.18402778 0.19097222 0.19097222 0.19444444 0.19444444 0.19791667\n",
      " 0.19791667 0.20138889 0.20138889 0.20486111 0.20486111 0.20833333\n",
      " 0.20833333 0.21180556 0.21180556 0.22916667 0.22916667 0.23263889\n",
      " 0.23263889 0.23958333 0.23958333 0.25347222 0.25347222 0.26041667\n",
      " 0.26041667 0.27083333 0.27083333 0.27777778 0.27777778 0.28125\n",
      " 0.28125    0.28472222 0.28472222 0.29513889 0.29513889 0.29861111\n",
      " 0.29861111 0.30208333 0.30208333 0.30902778 0.30902778 0.31597222\n",
      " 0.31597222 0.31944444 0.31944444 0.32291667 0.32291667 0.32638889\n",
      " 0.32638889 0.33333333 0.33333333 0.34027778 0.34027778 0.34375\n",
      " 0.34375    0.35416667 0.35416667 0.36111111 0.36111111 0.375\n",
      " 0.375      0.37847222 0.37847222 0.38194444 0.38194444 0.38541667\n",
      " 0.38541667 0.38888889 0.38888889 0.39583333 0.39583333 0.40277778\n",
      " 0.40277778 0.40625    0.40625    0.40972222 0.40972222 0.41319444\n",
      " 0.41319444 0.42708333 0.42708333 0.43402778 0.43402778 0.45486111\n",
      " 0.45486111 0.46527778 0.46527778 0.47569444 0.47569444 0.48958333\n",
      " 0.48958333 0.49305556 0.49305556 0.49652778 0.49652778 0.51736111\n",
      " 0.51736111 0.53125    0.53125    0.53472222 0.53472222 0.53819444\n",
      " 0.53819444 0.54513889 0.54513889 0.55208333 0.55208333 0.60069444\n",
      " 0.60069444 0.62847222 0.62847222 0.64236111 0.64236111 0.68402778\n",
      " 0.68402778 0.69791667 0.69791667 0.73958333 0.73958333 0.77777778\n",
      " 0.77777778 0.80902778 0.80902778 0.87152778 0.87152778 0.88888889\n",
      " 0.88888889 0.90625    0.90625    1.        ]\n",
      "AUC score: 0.845413773148148\n"
     ]
    }
   ],
   "source": [
    "y_pred_proba = clf.predict_proba(X_test_ei)[:, 1]\n",
    "fpr_ei, tpr_ei, _ = roc_curve(y_test_ei, y_pred_proba, pos_label=1)\n",
    "auc_score_ei = auc(fpr_ei, tpr_ei)\n",
    "\n",
    "print(\"TPR:\", tpr_ei)\n",
    "print(\"FPR:\", fpr_ei)\n",
    "print(\"AUC score:\", auc_score_ei)"
   ]
  },
  {
   "cell_type": "code",
   "execution_count": 51,
   "id": "82dff30b",
   "metadata": {},
   "outputs": [
    {
     "data": {
      "text/html": [
       "<div>\n",
       "<style scoped>\n",
       "    .dataframe tbody tr th:only-of-type {\n",
       "        vertical-align: middle;\n",
       "    }\n",
       "\n",
       "    .dataframe tbody tr th {\n",
       "        vertical-align: top;\n",
       "    }\n",
       "\n",
       "    .dataframe thead th {\n",
       "        text-align: right;\n",
       "    }\n",
       "</style>\n",
       "<table border=\"1\" class=\"dataframe\">\n",
       "  <thead>\n",
       "    <tr style=\"text-align: right;\">\n",
       "      <th></th>\n",
       "      <th>SVM</th>\n",
       "      <th>GB</th>\n",
       "    </tr>\n",
       "  </thead>\n",
       "  <tbody>\n",
       "    <tr>\n",
       "      <th>fpr</th>\n",
       "      <td>None</td>\n",
       "      <td>None</td>\n",
       "    </tr>\n",
       "    <tr>\n",
       "      <th>tpr</th>\n",
       "      <td>None</td>\n",
       "      <td>None</td>\n",
       "    </tr>\n",
       "    <tr>\n",
       "      <th>auc</th>\n",
       "      <td>None</td>\n",
       "      <td>None</td>\n",
       "    </tr>\n",
       "  </tbody>\n",
       "</table>\n",
       "</div>"
      ],
      "text/plain": [
       "      SVM    GB\n",
       "fpr  None  None\n",
       "tpr  None  None\n",
       "auc  None  None"
      ]
     },
     "execution_count": 51,
     "metadata": {},
     "output_type": "execute_result"
    }
   ],
   "source": [
    "# emotional_intensity\n",
    "\n",
    "emotional_intensity_roc_s = pd.DataFrame(columns=[\"SVM\", \"GB\"], \n",
    "                       index=[\"fpr\", \"tpr\", \"auc\"])\n",
    "emotional_intensity_roc_s.loc[\"fpr\"] = [None, None]\n",
    "emotional_intensity_roc_s.loc[\"tpr\"] = [None, None]\n",
    "emotional_intensity_roc_s.loc[\"auc\"] = [None, None]\n",
    "emotional_intensity_roc_s"
   ]
  },
  {
   "cell_type": "code",
   "execution_count": 52,
   "id": "4e5ecfb4",
   "metadata": {},
   "outputs": [],
   "source": [
    "emotional_intensity_roc_s.loc[\"fpr\"] [0] = fpr_ei\n",
    "emotional_intensity_roc_s.loc[\"tpr\"] [0] = tpr_ei\n",
    "emotional_intensity_roc_s.loc[\"auc\"] [0] = auc_score_ei\n",
    "\n",
    "emotional_intensity_roc_s.to_csv(\"emotional_intensity_roc.csv\", index=False) "
   ]
  },
  {
   "cell_type": "markdown",
   "id": "4ea1f2ac",
   "metadata": {},
   "source": [
    "## Emotion"
   ]
  },
  {
   "cell_type": "code",
   "execution_count": 53,
   "id": "7cd350ae",
   "metadata": {},
   "outputs": [
    {
     "name": "stdout",
     "output_type": "stream",
     "text": [
      "Accuracy: 0.4967948717948718\n",
      "              precision    recall  f1-score   support\n",
      "\n",
      "         0.0   0.428571  0.625000  0.508475        48\n",
      "         1.0   0.511111  0.718750  0.597403        96\n",
      "         2.0   0.514706  0.364583  0.426829        96\n",
      "         3.0   0.525000  0.218750  0.308824        96\n",
      "         4.0   0.494048  0.864583  0.628788        96\n",
      "         5.0   0.619048  0.270833  0.376812        96\n",
      "         6.0   0.470588  0.500000  0.484848        48\n",
      "         7.0   0.440000  0.458333  0.448980        48\n",
      "\n",
      "    accuracy                       0.496795       624\n",
      "   macro avg   0.500384  0.502604  0.472620       624\n",
      "weighted avg   0.512845  0.496795  0.470739       624\n",
      "\n"
     ]
    }
   ],
   "source": [
    "C_value = 0.018307382802953697\n",
    "gamma_value =  0.09770099572992257\n",
    "class_w = \"balanced\"\n",
    "kernel_type = 'poly'\n",
    "\n",
    "clf = SVC(C=C_value, gamma=gamma_value, kernel=kernel_type, probability=True)\n",
    "clf.fit(X_train_e, y_train_e)\n",
    "y_pred = clf.predict(X_test_e)\n",
    "\n",
    "print(\"Accuracy:\", accuracy_score(y_test_e, y_pred))\n",
    "print(classification_report(y_test_e, y_pred, digits=6))"
   ]
  },
  {
   "cell_type": "code",
   "execution_count": null,
   "id": "4f8a8da3",
   "metadata": {},
   "outputs": [],
   "source": []
  }
 ],
 "metadata": {
  "kernelspec": {
   "display_name": "Python 3 (ipykernel)",
   "language": "python",
   "name": "python3"
  },
  "language_info": {
   "codemirror_mode": {
    "name": "ipython",
    "version": 3
   },
   "file_extension": ".py",
   "mimetype": "text/x-python",
   "name": "python",
   "nbconvert_exporter": "python",
   "pygments_lexer": "ipython3",
   "version": "3.9.12"
  }
 },
 "nbformat": 4,
 "nbformat_minor": 5
}
