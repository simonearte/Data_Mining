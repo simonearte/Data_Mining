{
 "cells": [
  {
   "cell_type": "markdown",
   "id": "684417ce",
   "metadata": {},
   "source": [
    "# Imports"
   ]
  },
  {
   "cell_type": "code",
   "execution_count": 1,
   "id": "76dc3ad2",
   "metadata": {},
   "outputs": [],
   "source": [
    "import pandas as pd\n",
    "import numpy as np\n",
    "import matplotlib.pyplot as plt\n",
    "import seaborn as sns\n",
    "sns.set_style(\"whitegrid\", {'grid.linestyle': '--'})\n",
    "sns.set_style({'font.family':'serif', 'font.serif':'Computer Modern'})\n",
    "sns.set_context(font_scale=2, rc={\"font.size\":10,\"axes.titlesize\":20,\"axes.labelsize\":15})\n",
    "from collections import defaultdict\n",
    "from sklearn.model_selection import train_test_split, cross_val_score \n",
    "from sklearn.metrics import accuracy_score, f1_score, classification_report\n",
    "from sklearn.metrics import roc_curve, auc, roc_auc_score\n",
    "from sklearn.decomposition import PCA\n",
    "from sklearn.preprocessing import MinMaxScaler\n",
    "from sklearn.model_selection import RandomizedSearchCV\n",
    "from sklearn.metrics import classification_report\n",
    "from scipy.stats import randint\n",
    "\n",
    "from xgboost import XGBClassifier\n",
    "from lightgbm import LGBMClassifier\n",
    "from sklearn.ensemble import HistGradientBoostingClassifier\n",
    "\n",
    "df_train = pd.read_csv(\"C:/Users/Utente/OneDrive/Desktop/UNIPI - DS for Business Informatics/Data Mining_2/Progetto/df_train_processed.csv\")\n",
    "df_test = pd.read_csv(\"C:/Users/Utente/OneDrive/Desktop/UNIPI - DS for Business Informatics/Data Mining_2/Progetto/df_test_processed.csv\")"
   ]
  },
  {
   "cell_type": "code",
   "execution_count": 32,
   "id": "a96564d3",
   "metadata": {},
   "outputs": [],
   "source": [
    "from sklearn.metrics import roc_curve, auc"
   ]
  },
  {
   "cell_type": "markdown",
   "id": "d8024957",
   "metadata": {},
   "source": [
    "# Standardization"
   ]
  },
  {
   "cell_type": "markdown",
   "id": "63e73b67",
   "metadata": {},
   "source": [
    "## Train"
   ]
  },
  {
   "cell_type": "code",
   "execution_count": 2,
   "id": "a7a2844e",
   "metadata": {},
   "outputs": [],
   "source": [
    "df_train_num = df_train.select_dtypes(include=\"number\").drop('actor', axis=1)\n",
    "df_train_cat = df_train.select_dtypes(include=['object'])\n",
    "\n",
    "scaler = MinMaxScaler()\n",
    "df_train_num_scaled = pd.DataFrame(scaler.fit_transform(df_train_num), columns=df_train_num.columns)\n",
    "df_train = pd.concat([df_train_num_scaled, df_train_cat], axis=1)"
   ]
  },
  {
   "cell_type": "markdown",
   "id": "f4a1055c",
   "metadata": {},
   "source": [
    "## Test"
   ]
  },
  {
   "cell_type": "code",
   "execution_count": 3,
   "id": "49beb701",
   "metadata": {},
   "outputs": [],
   "source": [
    "df_test_num = df_test.select_dtypes(include=\"number\").drop('actor', axis=1)\n",
    "df_test_cat = df_test.select_dtypes(include=['object'])\n",
    "\n",
    "scaler = MinMaxScaler()\n",
    "df_test_num_scaled = pd.DataFrame(scaler.fit_transform(df_test_num), columns=df_test_num.columns)\n",
    "df_test = pd.concat([df_test_num_scaled, df_test_cat], axis=1)"
   ]
  },
  {
   "cell_type": "markdown",
   "id": "b706a19f",
   "metadata": {},
   "source": [
    "# Trasformation "
   ]
  },
  {
   "cell_type": "code",
   "execution_count": 4,
   "id": "78404c55",
   "metadata": {},
   "outputs": [],
   "source": [
    "def label_encoder(array, label):\n",
    "    new_array = np.zeros(len(array))\n",
    "    for i in range(len(array)):\n",
    "        if array[i] == label:\n",
    "            new_array[i] = 1\n",
    "    return new_array"
   ]
  },
  {
   "cell_type": "markdown",
   "id": "45ba2950",
   "metadata": {},
   "source": [
    "## Vocal_channel"
   ]
  },
  {
   "cell_type": "code",
   "execution_count": 5,
   "id": "0e9104ac",
   "metadata": {},
   "outputs": [],
   "source": [
    "df_train_model_vc = df_train.copy()"
   ]
  },
  {
   "cell_type": "code",
   "execution_count": 6,
   "id": "8f691636",
   "metadata": {},
   "outputs": [],
   "source": [
    "df_test_model_vc = df_test.copy()"
   ]
  },
  {
   "cell_type": "code",
   "execution_count": 7,
   "id": "81033fab",
   "metadata": {},
   "outputs": [],
   "source": [
    "X_train_vc = df_train_model_vc.drop(\"vocal_channel\", axis=1)\n",
    "X_train_vc = np.array(pd.get_dummies(X_train_vc))\n",
    "y_train_vc = label_encoder(df_train_model_vc[\"vocal_channel\"], 'speech')"
   ]
  },
  {
   "cell_type": "code",
   "execution_count": 8,
   "id": "9502a4b0",
   "metadata": {},
   "outputs": [],
   "source": [
    "X_test_vc = df_test_model_vc.drop(\"vocal_channel\", axis=1)\n",
    "X_test_vc = np.array(pd.get_dummies(X_test_vc))\n",
    "y_test_vc = label_encoder(df_test_model_vc[\"vocal_channel\"], 'speech') "
   ]
  },
  {
   "cell_type": "markdown",
   "id": "122431af",
   "metadata": {},
   "source": [
    "## Sex"
   ]
  },
  {
   "cell_type": "code",
   "execution_count": 9,
   "id": "f95b59c2",
   "metadata": {},
   "outputs": [],
   "source": [
    "df_train_model_s = df_train.copy()"
   ]
  },
  {
   "cell_type": "code",
   "execution_count": 10,
   "id": "92984aae",
   "metadata": {},
   "outputs": [],
   "source": [
    "df_test_model_s = df_test.copy()"
   ]
  },
  {
   "cell_type": "code",
   "execution_count": 11,
   "id": "b03f75cf",
   "metadata": {},
   "outputs": [],
   "source": [
    "X_train_s = df_train_model_s.drop(\"sex\", axis=1)\n",
    "X_train_s = np.array(pd.get_dummies(X_train_s))\n",
    "y_train_s = label_encoder(df_train_model_s[\"sex\"], 'M')"
   ]
  },
  {
   "cell_type": "code",
   "execution_count": 12,
   "id": "61fa1550",
   "metadata": {},
   "outputs": [],
   "source": [
    "X_test_s = df_test_model_s.drop(\"sex\", axis=1)\n",
    "X_test_s = np.array(pd.get_dummies(X_test_s))\n",
    "y_test_s = label_encoder(df_test_model_s[\"sex\"], 'M')"
   ]
  },
  {
   "cell_type": "markdown",
   "id": "f30c1121",
   "metadata": {},
   "source": [
    "## Emotional_intensity"
   ]
  },
  {
   "cell_type": "code",
   "execution_count": 13,
   "id": "05b92292",
   "metadata": {},
   "outputs": [],
   "source": [
    "df_train_model_ei = df_train.copy()"
   ]
  },
  {
   "cell_type": "code",
   "execution_count": 14,
   "id": "4d5586e4",
   "metadata": {},
   "outputs": [],
   "source": [
    "df_test_model_ei = df_test.copy()"
   ]
  },
  {
   "cell_type": "code",
   "execution_count": 15,
   "id": "c0a8f6d2",
   "metadata": {},
   "outputs": [],
   "source": [
    "X_train_ei = df_train_model_ei.drop(\"emotional_intensity\", axis=1)\n",
    "X_train_ei = np.array(pd.get_dummies(X_train_ei))\n",
    "y_train_ei = label_encoder(df_train_model_ei[\"emotional_intensity\"], 'normal')"
   ]
  },
  {
   "cell_type": "code",
   "execution_count": 16,
   "id": "ae51a551",
   "metadata": {},
   "outputs": [],
   "source": [
    "X_test_ei = df_test_model_ei.drop(\"emotional_intensity\", axis=1)\n",
    "X_test_ei = np.array(pd.get_dummies(X_test_ei))\n",
    "y_test_ei = label_encoder(df_test_model_ei[\"emotional_intensity\"], 'normal')"
   ]
  },
  {
   "cell_type": "markdown",
   "id": "e90c543a",
   "metadata": {},
   "source": [
    "## Emotion"
   ]
  },
  {
   "cell_type": "code",
   "execution_count": 17,
   "id": "625e9328",
   "metadata": {},
   "outputs": [],
   "source": [
    "df_train_model_e = df_train.copy()"
   ]
  },
  {
   "cell_type": "code",
   "execution_count": 18,
   "id": "77bf3d6b",
   "metadata": {},
   "outputs": [],
   "source": [
    "df_test_model_e = df_test.copy()"
   ]
  },
  {
   "cell_type": "code",
   "execution_count": 19,
   "id": "31cbbeb3",
   "metadata": {},
   "outputs": [],
   "source": [
    "def label_encoder_e(array):\n",
    "    new_array = np.zeros(len(array))\n",
    "    for i in range(len(array)):\n",
    "        if array[i] == \"calm\":\n",
    "            new_array[i] = 1\n",
    "        elif array[i] == \"happy\":\n",
    "            new_array[i] = 2\n",
    "        elif array[i] == \"sad\":\n",
    "            new_array[i] = 3\n",
    "        elif array[i] == \"angry\":\n",
    "            new_array[i] = 4\n",
    "        elif array[i] == \"fearful\":\n",
    "            new_array[i] = 5\n",
    "        elif array[i] == \"disgust\":\n",
    "            new_array[i] = 6\n",
    "        elif array[i] == \"surprised\":\n",
    "            new_array[i] = 7\n",
    "    return new_array"
   ]
  },
  {
   "cell_type": "code",
   "execution_count": 20,
   "id": "20c7bd99",
   "metadata": {},
   "outputs": [],
   "source": [
    "X_train_e = df_train_model_e.drop(\"emotion\", axis=1)\n",
    "X_train_e = np.array(pd.get_dummies(X_train_e))\n",
    "y_train_e = label_encoder_e(df_train_model_e[\"emotion\"])"
   ]
  },
  {
   "cell_type": "code",
   "execution_count": 21,
   "id": "cf17e5e8",
   "metadata": {},
   "outputs": [],
   "source": [
    "X_test_e = df_test_model_e.drop(\"emotion\", axis=1)\n",
    "X_test_e = np.array(pd.get_dummies(X_test_e))\n",
    "y_test_e = label_encoder_e(df_test_model_e[\"emotion\"])"
   ]
  },
  {
   "cell_type": "markdown",
   "id": "833ece4f",
   "metadata": {},
   "source": [
    "# Modelli "
   ]
  },
  {
   "cell_type": "markdown",
   "id": "8e3a9b45",
   "metadata": {},
   "source": [
    "## Sex"
   ]
  },
  {
   "cell_type": "code",
   "execution_count": 24,
   "id": "1d2cc903",
   "metadata": {},
   "outputs": [
    {
     "name": "stdout",
     "output_type": "stream",
     "text": [
      "Best parameters: {'boosting_type': 'goss', 'learning_rate': 0.1, 'max_depth': 55, 'n_estimators': 392, 'num_leaves': 41}\n",
      "              precision    recall  f1-score   support\n",
      "\n",
      "         0.0       0.99      0.76      0.86       312\n",
      "         1.0       0.80      0.99      0.89       312\n",
      "\n",
      "    accuracy                           0.88       624\n",
      "   macro avg       0.90      0.88      0.87       624\n",
      "weighted avg       0.90      0.88      0.87       624\n",
      "\n"
     ]
    }
   ],
   "source": [
    "param_distribs = {\n",
    "    'boosting_type': ['gbdt','goss',\"dart\"], #gbdt, traditional Gradient Boosting Decision Tree,\n",
    "                                            #dart, Dropouts meet Multiple Additive Regression Trees\n",
    "                                                # random forest\n",
    "    'n_estimators': randint(low=50, high=500),\n",
    "    'max_depth': list(range(2,200)),\n",
    "    'learning_rate':[0.0001, 0.001, 0.01, 0.1, 1.0],\n",
    "    'num_leaves': randint(low=5, high=50), # max number of leaves in one tree\n",
    "    \n",
    "}\n",
    "\n",
    "clf = LGBMClassifier()\n",
    "\n",
    "random_search = RandomizedSearchCV(clf, param_distributions=param_distribs, n_iter=75, cv=5, random_state=42, n_jobs=-1)\n",
    "random_search.fit(X_train_s, y_train_s)\n",
    "\n",
    "best_clf = random_search.best_estimator_ \n",
    "best_clf.fit(X_train_s, y_train_s)\n",
    "\n",
    "y_pred = best_clf.predict(X_test_s)\n",
    "\n",
    "print(\"Best parameters:\", random_search.best_params_)\n",
    "print(classification_report(y_test_s, y_pred))\n"
   ]
  },
  {
   "cell_type": "code",
   "execution_count": 26,
   "id": "2a1dd551",
   "metadata": {},
   "outputs": [
    {
     "name": "stdout",
     "output_type": "stream",
     "text": [
      "Best parameters: {'num_leaves': 21, 'n_estimators': 422, 'max_depth': 45, 'learning_rate': 0.3, 'boosting_type': 'goss'}\n",
      "              precision    recall  f1-score   support\n",
      "\n",
      "         0.0       0.98      0.77      0.86       312\n",
      "         1.0       0.81      0.99      0.89       312\n",
      "\n",
      "    accuracy                           0.88       624\n",
      "   macro avg       0.90      0.88      0.88       624\n",
      "weighted avg       0.90      0.88      0.88       624\n",
      "\n"
     ]
    }
   ],
   "source": [
    "param_distribs = {\n",
    "    'boosting_type': [\"goss\"], \n",
    "    'n_estimators': [342,352,362,372,382,392,402,412,422,432],\n",
    "    'max_depth': [25,35,45,55,65,75,85,95],\n",
    "    'learning_rate':[0.1,0.2,0.3,0.4,0.5,0.6,0.7,0.8,0.9],\n",
    "    'num_leaves': [11,21,31,41,51,61,71,81], \n",
    "}\n",
    "\n",
    "clf = LGBMClassifier()\n",
    "\n",
    "random_search = RandomizedSearchCV(clf, param_distributions=param_distribs, n_iter=75, cv=5, random_state=42, n_jobs=-1)\n",
    "random_search.fit(X_train_s, y_train_s)\n",
    "\n",
    "best_clf = random_search.best_estimator_ \n",
    "best_clf.fit(X_train_s, y_train_s)\n",
    "\n",
    "y_pred = best_clf.predict(X_test_s)\n",
    "\n",
    "print(\"Best parameters:\", random_search.best_params_)\n",
    "print(classification_report(y_test_s, y_pred))"
   ]
  },
  {
   "cell_type": "markdown",
   "id": "8cc35f9a",
   "metadata": {},
   "source": [
    "# Vocal_channel"
   ]
  },
  {
   "cell_type": "code",
   "execution_count": 27,
   "id": "f6ef1d70",
   "metadata": {},
   "outputs": [
    {
     "name": "stdout",
     "output_type": "stream",
     "text": [
      "Best parameters: {'boosting_type': 'goss', 'learning_rate': 0.1, 'max_depth': 191, 'n_estimators': 345, 'num_leaves': 25}\n",
      "              precision    recall  f1-score   support\n",
      "\n",
      "         0.0       0.97      0.99      0.98       264\n",
      "         1.0       0.99      0.97      0.98       360\n",
      "\n",
      "    accuracy                           0.98       624\n",
      "   macro avg       0.98      0.98      0.98       624\n",
      "weighted avg       0.98      0.98      0.98       624\n",
      "\n"
     ]
    }
   ],
   "source": [
    "param_distribs = {\n",
    "    'boosting_type': ['gbdt','goss',\"dart\"], \n",
    "    'n_estimators': randint(low=50, high=500),\n",
    "    'max_depth': list(range(2,200)),\n",
    "    'learning_rate':[0.0001, 0.001, 0.01, 0.1, 1.0],\n",
    "    'num_leaves': randint(low=5, high=50),\n",
    "    \n",
    "}\n",
    "\n",
    "clf = LGBMClassifier()\n",
    "\n",
    "random_search = RandomizedSearchCV(clf, param_distributions=param_distribs, n_iter=75, cv=5, random_state=42, n_jobs=-1)\n",
    "random_search.fit(X_train_vc, y_train_vc)\n",
    "\n",
    "best_clf = random_search.best_estimator_ \n",
    "best_clf.fit(X_train_vc, y_train_vc)\n",
    "\n",
    "y_pred = best_clf.predict(X_test_vc)\n",
    "\n",
    "print(\"Best parameters:\", random_search.best_params_)\n",
    "print(classification_report(y_test_vc, y_pred))"
   ]
  },
  {
   "cell_type": "code",
   "execution_count": 29,
   "id": "cdf4e68f",
   "metadata": {},
   "outputs": [
    {
     "name": "stdout",
     "output_type": "stream",
     "text": [
      "Best parameters: {'num_leaves': 20, 'n_estimators': 395, 'max_depth': 191, 'learning_rate': 0.1, 'boosting_type': 'goss'}\n",
      "              precision    recall  f1-score   support\n",
      "\n",
      "         0.0       0.95      0.99      0.97       264\n",
      "         1.0       0.99      0.96      0.98       360\n",
      "\n",
      "    accuracy                           0.98       624\n",
      "   macro avg       0.97      0.98      0.98       624\n",
      "weighted avg       0.98      0.98      0.98       624\n",
      "\n"
     ]
    }
   ],
   "source": [
    "param_distribs = {\n",
    "    'boosting_type': ['goss'], \n",
    "    'n_estimators': [305,315,325,335,345,355,365,375,385,395,405],\n",
    "    'max_depth': [121,131,141,151,161,171,181,191,200],\n",
    "    'learning_rate':[0.1,0.2,0.3,0.4,0.5,0.6,0.7,0.8,0.9],\n",
    "    'num_leaves': [20,22,24,26,28,30,32,34,36,38],\n",
    "    \n",
    "}\n",
    "\n",
    "clf = LGBMClassifier()\n",
    "\n",
    "random_search = RandomizedSearchCV(clf, param_distributions=param_distribs, n_iter=75, cv=5, random_state=42, n_jobs=-1)\n",
    "random_search.fit(X_train_vc, y_train_vc)\n",
    "\n",
    "best_clf = random_search.best_estimator_ \n",
    "best_clf.fit(X_train_vc, y_train_vc)\n",
    "\n",
    "y_pred = best_clf.predict(X_test_vc)\n",
    "\n",
    "print(\"Best parameters:\", random_search.best_params_)\n",
    "print(classification_report(y_test_vc, y_pred))"
   ]
  },
  {
   "cell_type": "markdown",
   "id": "6beca0bc",
   "metadata": {},
   "source": [
    "## Emotional_intensity"
   ]
  },
  {
   "cell_type": "code",
   "execution_count": 28,
   "id": "25c7e710",
   "metadata": {},
   "outputs": [
    {
     "name": "stdout",
     "output_type": "stream",
     "text": [
      "Best parameters: {'boosting_type': 'gbdt', 'learning_rate': 0.1, 'max_depth': 34, 'n_estimators': 447, 'num_leaves': 25}\n",
      "              precision    recall  f1-score   support\n",
      "\n",
      "         0.0       0.70      0.77      0.73       288\n",
      "         1.0       0.78      0.72      0.75       336\n",
      "\n",
      "    accuracy                           0.74       624\n",
      "   macro avg       0.74      0.75      0.74       624\n",
      "weighted avg       0.75      0.74      0.74       624\n",
      "\n"
     ]
    }
   ],
   "source": [
    "param_distribs = {\n",
    "    'boosting_type': ['gbdt','goss',\"dart\"], \n",
    "    'n_estimators': randint(low=50, high=500),\n",
    "    'max_depth': list(range(2,200)),\n",
    "    'learning_rate':[0.0001, 0.001, 0.01, 0.1, 1.0],\n",
    "    'num_leaves': randint(low=5, high=50),\n",
    "    \n",
    "}\n",
    "\n",
    "clf = LGBMClassifier()\n",
    "\n",
    "random_search = RandomizedSearchCV(clf, param_distributions=param_distribs, n_iter=75, cv=5, random_state=42, n_jobs=-1)\n",
    "random_search.fit(X_train_ei, y_train_ei)\n",
    "\n",
    "best_clf = random_search.best_estimator_ \n",
    "best_clf.fit(X_train_ei, y_train_ei)\n",
    "\n",
    "y_pred = best_clf.predict(X_test_ei)\n",
    "\n",
    "print(\"Best parameters:\", random_search.best_params_)\n",
    "print(classification_report(y_test_ei, y_pred))"
   ]
  },
  {
   "cell_type": "code",
   "execution_count": 30,
   "id": "ca273db8",
   "metadata": {},
   "outputs": [
    {
     "name": "stdout",
     "output_type": "stream",
     "text": [
      "Best parameters: {'num_leaves': 16, 'n_estimators': 467, 'max_depth': 64, 'learning_rate': 0.2, 'boosting_type': 'gbdt'}\n",
      "              precision    recall  f1-score   support\n",
      "\n",
      "         0.0       0.70      0.78      0.74       288\n",
      "         1.0       0.79      0.72      0.75       336\n",
      "\n",
      "    accuracy                           0.75       624\n",
      "   macro avg       0.75      0.75      0.75       624\n",
      "weighted avg       0.75      0.75      0.75       624\n",
      "\n"
     ]
    }
   ],
   "source": [
    "param_distribs = {\n",
    "    'boosting_type': ['gbdt'], \n",
    "    'n_estimators': [407,417,427,437,447,457,467,477,487,497],\n",
    "    'max_depth': [4,14,24,34,44,54,64,74],\n",
    "    'learning_rate':[0.1,0.2,0.3,0.4,0.5,0.6,0.7,0.8,0.9],\n",
    "    'num_leaves': [14,16,18,20,22,24,26,28,30,32,34,36,38],\n",
    "    \n",
    "}\n",
    "\n",
    "clf = LGBMClassifier()\n",
    "\n",
    "random_search = RandomizedSearchCV(clf, param_distributions=param_distribs, n_iter=75, cv=5, random_state=42, n_jobs=-1)\n",
    "random_search.fit(X_train_ei, y_train_ei)\n",
    "\n",
    "best_clf = random_search.best_estimator_ \n",
    "best_clf.fit(X_train_ei, y_train_ei)\n",
    "\n",
    "y_pred = best_clf.predict(X_test_ei)\n",
    "\n",
    "print(\"Best parameters:\", random_search.best_params_)\n",
    "print(classification_report(y_test_ei, y_pred))"
   ]
  },
  {
   "cell_type": "markdown",
   "id": "00c5245c",
   "metadata": {},
   "source": [
    "# Emotion"
   ]
  },
  {
   "cell_type": "code",
   "execution_count": 31,
   "id": "953951b3",
   "metadata": {},
   "outputs": [
    {
     "name": "stdout",
     "output_type": "stream",
     "text": [
      "Best parameters: {'boosting_type': 'goss', 'learning_rate': 0.1, 'max_depth': 55, 'n_estimators': 392, 'num_leaves': 41}\n",
      "              precision    recall  f1-score   support\n",
      "\n",
      "         0.0       0.50      0.15      0.23        48\n",
      "         1.0       0.54      0.68      0.60        96\n",
      "         2.0       0.42      0.43      0.42        96\n",
      "         3.0       0.37      0.40      0.38        96\n",
      "         4.0       0.52      0.83      0.64        96\n",
      "         5.0       0.57      0.35      0.44        96\n",
      "         6.0       0.49      0.35      0.41        48\n",
      "         7.0       0.41      0.35      0.38        48\n",
      "\n",
      "    accuracy                           0.48       624\n",
      "   macro avg       0.48      0.44      0.44       624\n",
      "weighted avg       0.48      0.48      0.46       624\n",
      "\n"
     ]
    }
   ],
   "source": [
    "param_distribs = {\n",
    "    'boosting_type': ['gbdt','goss',\"dart\"], \n",
    "    'n_estimators': randint(low=50, high=500),\n",
    "    'max_depth': list(range(2,200)),\n",
    "    'learning_rate':[0.0001, 0.001, 0.01, 0.1, 1.0],\n",
    "    'num_leaves': randint(low=5, high=50),\n",
    "    \n",
    "}\n",
    "\n",
    "clf = LGBMClassifier()\n",
    "\n",
    "random_search = RandomizedSearchCV(clf, param_distributions=param_distribs, n_iter=75, cv=5, random_state=42, n_jobs=-1)\n",
    "random_search.fit(X_train_e, y_train_e)\n",
    "\n",
    "best_clf = random_search.best_estimator_ \n",
    "best_clf.fit(X_train_e, y_train_e)\n",
    "\n",
    "y_pred = best_clf.predict(X_test_e)\n",
    "\n",
    "print(\"Best parameters:\", random_search.best_params_)\n",
    "print(classification_report(y_test_e, y_pred))"
   ]
  },
  {
   "cell_type": "code",
   "execution_count": 45,
   "id": "e313ab0f",
   "metadata": {},
   "outputs": [
    {
     "name": "stdout",
     "output_type": "stream",
     "text": [
      "Best parameters: {'num_leaves': 49, 'n_estimators': 432, 'max_depth': 35, 'learning_rate': 0.1, 'boosting_type': 'goss'}\n",
      "              precision    recall  f1-score   support\n",
      "\n",
      "         0.0       0.52      0.23      0.32        48\n",
      "         1.0       0.53      0.68      0.59        96\n",
      "         2.0       0.35      0.46      0.40        96\n",
      "         3.0       0.38      0.34      0.36        96\n",
      "         4.0       0.53      0.75      0.62        96\n",
      "         5.0       0.56      0.33      0.42        96\n",
      "         6.0       0.56      0.40      0.46        48\n",
      "         7.0       0.44      0.35      0.39        48\n",
      "\n",
      "    accuracy                           0.47       624\n",
      "   macro avg       0.48      0.44      0.44       624\n",
      "weighted avg       0.48      0.47      0.46       624\n",
      "\n"
     ]
    }
   ],
   "source": [
    "param_distribs = {\n",
    "    'boosting_type': [\"goss\"], \n",
    "    'n_estimators': [352,362,372,382,392,402,412,422,432,442],\n",
    "    'max_depth': [25,35,45,55,65,75,85,95,105],\n",
    "    'learning_rate':[0.1,0.2,0.3,0.4,0.5,0.6,0.7,0.8,0.9],\n",
    "    'num_leaves': [31,33,35,37,39,41,43,45,47,49],\n",
    "    \n",
    "}\n",
    "\n",
    "clf = LGBMClassifier()\n",
    "\n",
    "random_search = RandomizedSearchCV(clf, param_distributions=param_distribs, n_iter=75, cv=5, random_state=42, n_jobs=-1)\n",
    "random_search.fit(X_train_e, y_train_e)\n",
    "\n",
    "best_clf = random_search.best_estimator_ \n",
    "best_clf.fit(X_train_e, y_train_e)\n",
    "\n",
    "y_pred = best_clf.predict(X_test_e)\n",
    "\n",
    "print(\"Best parameters:\", random_search.best_params_)\n",
    "print(classification_report(y_test_e, y_pred))"
   ]
  },
  {
   "cell_type": "markdown",
   "id": "2325460e",
   "metadata": {},
   "source": [
    "# Metriche per la valutazione dei modelli"
   ]
  },
  {
   "cell_type": "markdown",
   "id": "53b02729",
   "metadata": {},
   "source": [
    "## Sex"
   ]
  },
  {
   "cell_type": "code",
   "execution_count": 33,
   "id": "45eb35a4",
   "metadata": {},
   "outputs": [
    {
     "name": "stdout",
     "output_type": "stream",
     "text": [
      "Accuracy: 0.8766025641025641\n",
      "              precision    recall  f1-score   support\n",
      "\n",
      "         0.0   0.983539  0.766026  0.861261       312\n",
      "         1.0   0.808399  0.987179  0.888889       312\n",
      "\n",
      "    accuracy                       0.876603       624\n",
      "   macro avg   0.895969  0.876603  0.875075       624\n",
      "weighted avg   0.895969  0.876603  0.875075       624\n",
      "\n"
     ]
    }
   ],
   "source": [
    "clf = LGBMClassifier(num_leaves = 21, n_estimators = 422, max_depth= 45, learning_rate= 0.3, boosting_type = \"goss\")\n",
    "clf.fit(X_train_s, y_train_s)\n",
    "y_pred = clf.predict(X_test_s)\n",
    "\n",
    "print(\"Accuracy:\", accuracy_score(y_test_s, y_pred))\n",
    "print(classification_report(y_test_s, y_pred, digits=6))"
   ]
  },
  {
   "cell_type": "code",
   "execution_count": 34,
   "id": "7c2cddad",
   "metadata": {},
   "outputs": [
    {
     "name": "stdout",
     "output_type": "stream",
     "text": [
      "TPR: [0.         0.00320513 0.61858974 0.61858974 0.82692308 0.82692308\n",
      " 0.90705128 0.90705128 0.92307692 0.92307692 0.92628205 0.92628205\n",
      " 0.93269231 0.93269231 0.93589744 0.93589744 0.93910256 0.93910256\n",
      " 0.94230769 0.94230769 0.94551282 0.94551282 0.94871795 0.94871795\n",
      " 0.95192308 0.95192308 0.95512821 0.95512821 0.95833333 0.95833333\n",
      " 0.96794872 0.96794872 0.97115385 0.97115385 0.9775641  0.9775641\n",
      " 0.98397436 0.98397436 0.98717949 0.98717949 0.99038462 0.99038462\n",
      " 0.99358974 0.99358974 0.99679487 0.99679487 1.         1.        ]\n",
      "FPR: [0.         0.         0.         0.00320513 0.00320513 0.00641026\n",
      " 0.00641026 0.00961538 0.00961538 0.02564103 0.02564103 0.02884615\n",
      " 0.02884615 0.03846154 0.03846154 0.04166667 0.04166667 0.04807692\n",
      " 0.04807692 0.05128205 0.05128205 0.06410256 0.06410256 0.07371795\n",
      " 0.07371795 0.07692308 0.07692308 0.08653846 0.08653846 0.10576923\n",
      " 0.10576923 0.13461538 0.13461538 0.17307692 0.17307692 0.17948718\n",
      " 0.17948718 0.18910256 0.18910256 0.23397436 0.23397436 0.25641026\n",
      " 0.25641026 0.33333333 0.33333333 0.36858974 0.36858974 1.        ]\n",
      "AUC score: 0.9887204142011835\n"
     ]
    }
   ],
   "source": [
    "y_pred_proba = clf.predict_proba(X_test_s)[:, 1]\n",
    "fpr_s, tpr_s, _ = roc_curve(y_test_s, y_pred_proba, pos_label=1)\n",
    "auc_score_s = auc(fpr_s, tpr_s)\n",
    "\n",
    "print(\"TPR:\", tpr_s)\n",
    "print(\"FPR:\", fpr_s)\n",
    "print(\"AUC score:\", auc_score_s)"
   ]
  },
  {
   "cell_type": "code",
   "execution_count": 35,
   "id": "631ea2e3",
   "metadata": {},
   "outputs": [
    {
     "data": {
      "text/html": [
       "<div>\n",
       "<style scoped>\n",
       "    .dataframe tbody tr th:only-of-type {\n",
       "        vertical-align: middle;\n",
       "    }\n",
       "\n",
       "    .dataframe tbody tr th {\n",
       "        vertical-align: top;\n",
       "    }\n",
       "\n",
       "    .dataframe thead th {\n",
       "        text-align: right;\n",
       "    }\n",
       "</style>\n",
       "<table border=\"1\" class=\"dataframe\">\n",
       "  <thead>\n",
       "    <tr style=\"text-align: right;\">\n",
       "      <th></th>\n",
       "      <th>SVM</th>\n",
       "      <th>GB</th>\n",
       "    </tr>\n",
       "  </thead>\n",
       "  <tbody>\n",
       "    <tr>\n",
       "      <th>fpr</th>\n",
       "      <td>None</td>\n",
       "      <td>None</td>\n",
       "    </tr>\n",
       "    <tr>\n",
       "      <th>tpr</th>\n",
       "      <td>None</td>\n",
       "      <td>None</td>\n",
       "    </tr>\n",
       "    <tr>\n",
       "      <th>auc</th>\n",
       "      <td>None</td>\n",
       "      <td>None</td>\n",
       "    </tr>\n",
       "  </tbody>\n",
       "</table>\n",
       "</div>"
      ],
      "text/plain": [
       "      SVM    GB\n",
       "fpr  None  None\n",
       "tpr  None  None\n",
       "auc  None  None"
      ]
     },
     "execution_count": 35,
     "metadata": {},
     "output_type": "execute_result"
    }
   ],
   "source": [
    "sex_roc_s = pd.DataFrame(columns=[\"SVM\", \"GB\"], \n",
    "                       index=[\"fpr\", \"tpr\", \"auc\"])\n",
    "sex_roc_s.loc[\"fpr\"] = [None, None]\n",
    "sex_roc_s.loc[\"tpr\"] = [None, None]\n",
    "sex_roc_s.loc[\"auc\"] = [None, None]\n",
    "sex_roc_s"
   ]
  },
  {
   "cell_type": "code",
   "execution_count": 36,
   "id": "6dd1c493",
   "metadata": {},
   "outputs": [],
   "source": [
    "sex_roc_s.loc[\"fpr\"] [1] = fpr_s\n",
    "sex_roc_s.loc[\"tpr\"] [1] = tpr_s\n",
    "sex_roc_s.loc[\"auc\"] [1] = auc_score_s\n",
    "\n",
    "sex_roc_s.to_csv(\"sex_roc_GB.csv\", index=False) "
   ]
  },
  {
   "cell_type": "markdown",
   "id": "c6306b8d",
   "metadata": {},
   "source": [
    "## Vocal_channel"
   ]
  },
  {
   "cell_type": "code",
   "execution_count": 37,
   "id": "7228b34a",
   "metadata": {},
   "outputs": [
    {
     "name": "stdout",
     "output_type": "stream",
     "text": [
      "Accuracy: 0.9823717948717948\n",
      "              precision    recall  f1-score   support\n",
      "\n",
      "         0.0   0.966790  0.992424  0.979439       264\n",
      "         1.0   0.994334  0.975000  0.984572       360\n",
      "\n",
      "    accuracy                       0.982372       624\n",
      "   macro avg   0.980562  0.983712  0.982006       624\n",
      "weighted avg   0.982681  0.982372  0.982401       624\n",
      "\n"
     ]
    }
   ],
   "source": [
    "clf = LGBMClassifier(num_leaves = 25, n_estimators = 345, max_depth= 191, learning_rate= 0.1, boosting_type = \"goss\")\n",
    "clf.fit(X_train_vc, y_train_vc)\n",
    "y_pred = clf.predict(X_test_vc)\n",
    "\n",
    "print(\"Accuracy:\", accuracy_score(y_test_vc, y_pred))\n",
    "print(classification_report(y_test_vc, y_pred, digits=6))"
   ]
  },
  {
   "cell_type": "code",
   "execution_count": 38,
   "id": "c6054d98",
   "metadata": {},
   "outputs": [
    {
     "name": "stdout",
     "output_type": "stream",
     "text": [
      "TPR: [0.         0.00277778 0.69722222 0.69722222 0.92777778 0.92777778\n",
      " 0.975      0.975      0.98055556 0.98055556 0.98333333 0.98333333\n",
      " 0.98611111 0.98611111 0.98888889 0.98888889 0.99166667 0.99166667\n",
      " 0.99722222 0.99722222 1.         1.        ]\n",
      "FPR: [0.         0.         0.         0.00378788 0.00378788 0.00757576\n",
      " 0.00757576 0.01136364 0.01136364 0.01515152 0.01515152 0.02272727\n",
      " 0.02272727 0.02651515 0.02651515 0.03787879 0.03787879 0.04166667\n",
      " 0.04166667 0.04924242 0.04924242 1.        ]\n",
      "AUC score: 0.9980534511784512\n"
     ]
    }
   ],
   "source": [
    "y_pred_proba = clf.predict_proba(X_test_vc)[:, 1]\n",
    "fpr_v, tpr_v, _ = roc_curve(y_test_vc, y_pred_proba, pos_label=1)\n",
    "auc_score_v = auc(fpr_v, tpr_v)\n",
    "\n",
    "print(\"TPR:\", tpr_v)\n",
    "print(\"FPR:\", fpr_v)\n",
    "print(\"AUC score:\", auc_score_v)"
   ]
  },
  {
   "cell_type": "code",
   "execution_count": 39,
   "id": "a60c5be2",
   "metadata": {},
   "outputs": [
    {
     "data": {
      "text/html": [
       "<div>\n",
       "<style scoped>\n",
       "    .dataframe tbody tr th:only-of-type {\n",
       "        vertical-align: middle;\n",
       "    }\n",
       "\n",
       "    .dataframe tbody tr th {\n",
       "        vertical-align: top;\n",
       "    }\n",
       "\n",
       "    .dataframe thead th {\n",
       "        text-align: right;\n",
       "    }\n",
       "</style>\n",
       "<table border=\"1\" class=\"dataframe\">\n",
       "  <thead>\n",
       "    <tr style=\"text-align: right;\">\n",
       "      <th></th>\n",
       "      <th>SVM</th>\n",
       "      <th>GB</th>\n",
       "    </tr>\n",
       "  </thead>\n",
       "  <tbody>\n",
       "    <tr>\n",
       "      <th>fpr</th>\n",
       "      <td>None</td>\n",
       "      <td>None</td>\n",
       "    </tr>\n",
       "    <tr>\n",
       "      <th>tpr</th>\n",
       "      <td>None</td>\n",
       "      <td>None</td>\n",
       "    </tr>\n",
       "    <tr>\n",
       "      <th>auc</th>\n",
       "      <td>None</td>\n",
       "      <td>None</td>\n",
       "    </tr>\n",
       "  </tbody>\n",
       "</table>\n",
       "</div>"
      ],
      "text/plain": [
       "      SVM    GB\n",
       "fpr  None  None\n",
       "tpr  None  None\n",
       "auc  None  None"
      ]
     },
     "execution_count": 39,
     "metadata": {},
     "output_type": "execute_result"
    }
   ],
   "source": [
    "# vocal_channel\n",
    "\n",
    "vocal_channel_roc_s = pd.DataFrame(columns=[\"SVM\", \"GB\"],\n",
    "                       index=[\"fpr\", \"tpr\", \"auc\"], )\n",
    "vocal_channel_roc_s.loc[\"fpr\"] = [None, None]\n",
    "vocal_channel_roc_s.loc[\"tpr\"] = [None, None]\n",
    "vocal_channel_roc_s.loc[\"auc\"] = [None, None]\n",
    "vocal_channel_roc_s"
   ]
  },
  {
   "cell_type": "code",
   "execution_count": 40,
   "id": "b53ef7b8",
   "metadata": {},
   "outputs": [],
   "source": [
    "vocal_channel_roc_s.loc[\"fpr\"] [1] = fpr_v\n",
    "vocal_channel_roc_s.loc[\"tpr\"] [1] = tpr_v\n",
    "vocal_channel_roc_s.loc[\"auc\"] [1] = auc_score_v\n",
    "\n",
    "vocal_channel_roc_s.to_csv(\"vocal_channel_roc_GB.csv\", index = False) "
   ]
  },
  {
   "cell_type": "markdown",
   "id": "5a20c8f8",
   "metadata": {},
   "source": [
    "## Emotional_intensity"
   ]
  },
  {
   "cell_type": "code",
   "execution_count": 41,
   "id": "1689d6e9",
   "metadata": {},
   "outputs": [
    {
     "name": "stdout",
     "output_type": "stream",
     "text": [
      "Accuracy: 0.7467948717948718\n",
      "              precision    recall  f1-score   support\n",
      "\n",
      "         0.0   0.704403  0.777778  0.739274       288\n",
      "         1.0   0.790850  0.720238  0.753894       336\n",
      "\n",
      "    accuracy                       0.746795       624\n",
      "   macro avg   0.747626  0.749008  0.746584       624\n",
      "weighted avg   0.750951  0.746795  0.747146       624\n",
      "\n"
     ]
    }
   ],
   "source": [
    "clf = LGBMClassifier(num_leaves = 16, n_estimators = 467, max_depth= 64, learning_rate= 0.2, boosting_type = \"gbdt\")\n",
    "clf.fit(X_train_ei, y_train_ei)\n",
    "y_pred = clf.predict(X_test_ei)\n",
    "\n",
    "print(\"Accuracy:\", accuracy_score(y_test_ei, y_pred))\n",
    "print(classification_report(y_test_ei, y_pred, digits=6))"
   ]
  },
  {
   "cell_type": "code",
   "execution_count": 42,
   "id": "bbf6b391",
   "metadata": {},
   "outputs": [
    {
     "name": "stdout",
     "output_type": "stream",
     "text": [
      "TPR: [0.         0.00297619 0.05059524 0.05059524 0.28571429 0.28571429\n",
      " 0.33333333 0.33333333 0.36011905 0.36011905 0.37797619 0.37797619\n",
      " 0.38988095 0.38988095 0.4077381  0.4077381  0.43154762 0.43154762\n",
      " 0.4375     0.4375     0.44047619 0.44047619 0.44642857 0.44642857\n",
      " 0.46428571 0.46428571 0.47321429 0.47321429 0.47916667 0.47916667\n",
      " 0.49404762 0.49404762 0.50297619 0.50297619 0.51190476 0.51190476\n",
      " 0.5297619  0.5297619  0.54761905 0.54761905 0.55357143 0.55357143\n",
      " 0.55654762 0.55654762 0.5625     0.5625     0.56547619 0.56547619\n",
      " 0.57142857 0.57142857 0.58035714 0.58035714 0.58928571 0.58928571\n",
      " 0.59821429 0.59821429 0.60119048 0.60119048 0.60416667 0.60416667\n",
      " 0.61309524 0.61309524 0.61904762 0.61904762 0.62202381 0.62202381\n",
      " 0.625      0.625      0.63690476 0.63690476 0.63988095 0.63988095\n",
      " 0.64285714 0.64285714 0.65178571 0.65178571 0.66071429 0.66071429\n",
      " 0.66666667 0.66666667 0.66964286 0.66964286 0.67857143 0.67857143\n",
      " 0.68154762 0.68154762 0.68452381 0.68452381 0.69940476 0.69940476\n",
      " 0.70238095 0.70238095 0.70833333 0.70833333 0.7172619  0.7172619\n",
      " 0.7202381  0.7202381  0.72321429 0.72321429 0.72619048 0.72619048\n",
      " 0.72916667 0.72916667 0.73214286 0.73214286 0.73511905 0.73511905\n",
      " 0.75297619 0.75297619 0.75892857 0.75892857 0.76190476 0.76190476\n",
      " 0.76488095 0.76488095 0.77380952 0.77380952 0.7797619  0.7797619\n",
      " 0.7827381  0.7827381  0.78869048 0.78869048 0.79761905 0.79761905\n",
      " 0.80357143 0.80357143 0.80654762 0.80654762 0.80952381 0.80952381\n",
      " 0.81547619 0.81547619 0.82142857 0.82142857 0.82738095 0.82738095\n",
      " 0.83333333 0.83333333 0.83630952 0.83630952 0.86011905 0.86011905\n",
      " 0.86309524 0.86309524 0.87797619 0.87797619 0.88392857 0.88392857\n",
      " 0.88988095 0.88988095 0.89880952 0.89880952 0.90178571 0.90178571\n",
      " 0.9047619  0.9047619  0.91071429 0.91071429 0.91666667 0.91666667\n",
      " 0.91964286 0.91964286 0.93452381 0.93452381 0.9375     0.9375\n",
      " 0.94047619 0.94047619 0.94642857 0.94642857 0.95238095 0.95238095\n",
      " 0.95535714 0.95535714 0.95833333 0.95833333 0.96130952 0.96130952\n",
      " 0.96428571 0.96428571 0.9672619  0.9672619  0.9702381  0.9702381\n",
      " 0.97321429 0.97321429 0.97916667 0.97916667 0.98511905 0.98511905\n",
      " 0.98809524 0.98809524 0.99107143 0.99107143 0.99404762 0.99404762\n",
      " 0.99702381 0.99702381 1.         1.        ]\n",
      "FPR: [0.         0.         0.         0.00347222 0.00347222 0.00694444\n",
      " 0.00694444 0.01388889 0.01388889 0.01736111 0.01736111 0.02083333\n",
      " 0.02083333 0.02777778 0.02777778 0.03125    0.03125    0.03472222\n",
      " 0.03472222 0.03819444 0.03819444 0.04166667 0.04166667 0.04513889\n",
      " 0.04513889 0.04861111 0.04861111 0.05208333 0.05208333 0.05555556\n",
      " 0.05555556 0.05902778 0.05902778 0.0625     0.0625     0.06597222\n",
      " 0.06597222 0.06944444 0.06944444 0.07291667 0.07291667 0.07986111\n",
      " 0.07986111 0.08333333 0.08333333 0.09375    0.09375    0.09722222\n",
      " 0.09722222 0.10069444 0.10069444 0.10416667 0.10416667 0.10763889\n",
      " 0.10763889 0.11111111 0.11111111 0.11458333 0.11458333 0.11805556\n",
      " 0.11805556 0.12152778 0.12152778 0.125      0.125      0.12847222\n",
      " 0.12847222 0.13541667 0.13541667 0.14583333 0.14583333 0.15277778\n",
      " 0.15277778 0.16319444 0.16319444 0.17013889 0.17013889 0.17361111\n",
      " 0.17361111 0.17708333 0.17708333 0.18055556 0.18055556 0.18402778\n",
      " 0.18402778 0.19097222 0.19097222 0.19791667 0.19791667 0.20486111\n",
      " 0.20486111 0.20833333 0.20833333 0.21527778 0.21527778 0.21875\n",
      " 0.21875    0.22222222 0.22222222 0.23263889 0.23263889 0.23611111\n",
      " 0.23611111 0.23958333 0.23958333 0.24305556 0.24305556 0.25\n",
      " 0.25       0.25694444 0.25694444 0.26041667 0.26041667 0.26388889\n",
      " 0.26388889 0.26736111 0.26736111 0.27430556 0.27430556 0.28125\n",
      " 0.28125    0.30208333 0.30208333 0.3125     0.3125     0.31944444\n",
      " 0.31944444 0.32638889 0.32638889 0.32986111 0.32986111 0.33333333\n",
      " 0.33333333 0.34027778 0.34027778 0.35416667 0.35416667 0.35763889\n",
      " 0.35763889 0.36458333 0.36458333 0.36805556 0.36805556 0.37152778\n",
      " 0.37152778 0.375      0.375      0.38194444 0.38194444 0.38888889\n",
      " 0.38888889 0.39583333 0.39583333 0.39930556 0.39930556 0.40277778\n",
      " 0.40277778 0.42013889 0.42013889 0.42708333 0.42708333 0.43402778\n",
      " 0.43402778 0.44791667 0.44791667 0.46527778 0.46527778 0.46875\n",
      " 0.46875    0.48263889 0.48263889 0.48958333 0.48958333 0.49652778\n",
      " 0.49652778 0.51041667 0.51041667 0.56597222 0.56597222 0.56944444\n",
      " 0.56944444 0.57986111 0.57986111 0.58333333 0.58333333 0.60416667\n",
      " 0.60416667 0.61805556 0.61805556 0.6875     0.6875     0.75\n",
      " 0.75       0.80208333 0.80208333 0.81944444 0.81944444 0.89236111\n",
      " 0.89236111 0.90277778 0.90277778 1.        ]\n",
      "AUC score: 0.8520688657407408\n"
     ]
    }
   ],
   "source": [
    "y_pred_proba = clf.predict_proba(X_test_ei)[:, 1]\n",
    "fpr_ei, tpr_ei, _ = roc_curve(y_test_ei, y_pred_proba, pos_label=1)\n",
    "auc_score_ei = auc(fpr_ei, tpr_ei)\n",
    "\n",
    "print(\"TPR:\", tpr_ei)\n",
    "print(\"FPR:\", fpr_ei)\n",
    "print(\"AUC score:\", auc_score_ei)"
   ]
  },
  {
   "cell_type": "code",
   "execution_count": 43,
   "id": "f3c48121",
   "metadata": {},
   "outputs": [
    {
     "data": {
      "text/html": [
       "<div>\n",
       "<style scoped>\n",
       "    .dataframe tbody tr th:only-of-type {\n",
       "        vertical-align: middle;\n",
       "    }\n",
       "\n",
       "    .dataframe tbody tr th {\n",
       "        vertical-align: top;\n",
       "    }\n",
       "\n",
       "    .dataframe thead th {\n",
       "        text-align: right;\n",
       "    }\n",
       "</style>\n",
       "<table border=\"1\" class=\"dataframe\">\n",
       "  <thead>\n",
       "    <tr style=\"text-align: right;\">\n",
       "      <th></th>\n",
       "      <th>SVM</th>\n",
       "      <th>GB</th>\n",
       "    </tr>\n",
       "  </thead>\n",
       "  <tbody>\n",
       "    <tr>\n",
       "      <th>fpr</th>\n",
       "      <td>None</td>\n",
       "      <td>None</td>\n",
       "    </tr>\n",
       "    <tr>\n",
       "      <th>tpr</th>\n",
       "      <td>None</td>\n",
       "      <td>None</td>\n",
       "    </tr>\n",
       "    <tr>\n",
       "      <th>auc</th>\n",
       "      <td>None</td>\n",
       "      <td>None</td>\n",
       "    </tr>\n",
       "  </tbody>\n",
       "</table>\n",
       "</div>"
      ],
      "text/plain": [
       "      SVM    GB\n",
       "fpr  None  None\n",
       "tpr  None  None\n",
       "auc  None  None"
      ]
     },
     "execution_count": 43,
     "metadata": {},
     "output_type": "execute_result"
    }
   ],
   "source": [
    "# emotional_intensity\n",
    "\n",
    "emotional_intensity_roc_s = pd.DataFrame(columns=[\"SVM\", \"GB\"], \n",
    "                       index=[\"fpr\", \"tpr\", \"auc\"])\n",
    "emotional_intensity_roc_s.loc[\"fpr\"] = [None, None]\n",
    "emotional_intensity_roc_s.loc[\"tpr\"] = [None, None]\n",
    "emotional_intensity_roc_s.loc[\"auc\"] = [None, None]\n",
    "emotional_intensity_roc_s"
   ]
  },
  {
   "cell_type": "code",
   "execution_count": 44,
   "id": "2a62c0ee",
   "metadata": {},
   "outputs": [],
   "source": [
    "emotional_intensity_roc_s.loc[\"fpr\"] [1] = fpr_ei\n",
    "emotional_intensity_roc_s.loc[\"tpr\"] [1] = tpr_ei\n",
    "emotional_intensity_roc_s.loc[\"auc\"] [1] = auc_score_ei\n",
    "\n",
    "emotional_intensity_roc_s.to_csv(\"emotional_intensity_roc_GB.csv\", index=False) "
   ]
  },
  {
   "cell_type": "markdown",
   "id": "312c894e",
   "metadata": {},
   "source": [
    "## Emotion "
   ]
  },
  {
   "cell_type": "code",
   "execution_count": 46,
   "id": "e9ab6cb6",
   "metadata": {},
   "outputs": [
    {
     "name": "stdout",
     "output_type": "stream",
     "text": [
      "Accuracy: 0.4791666666666667\n",
      "              precision    recall  f1-score   support\n",
      "\n",
      "         0.0   0.500000  0.145833  0.225806        48\n",
      "         1.0   0.541667  0.677083  0.601852        96\n",
      "         2.0   0.418367  0.427083  0.422680        96\n",
      "         3.0   0.372549  0.395833  0.383838        96\n",
      "         4.0   0.519481  0.833333  0.640000        96\n",
      "         5.0   0.566667  0.354167  0.435897        96\n",
      "         6.0   0.485714  0.354167  0.409639        48\n",
      "         7.0   0.414634  0.354167  0.382022        48\n",
      "\n",
      "    accuracy                       0.479167       624\n",
      "   macro avg   0.477385  0.442708  0.437717       624\n",
      "weighted avg   0.479831  0.479167  0.460462       624\n",
      "\n"
     ]
    }
   ],
   "source": [
    "clf = LGBMClassifier(num_leaves = 41, n_estimators = 392, max_depth= 55, learning_rate= 0.1, boosting_type = \"goss\")\n",
    "clf.fit(X_train_e, y_train_e)\n",
    "y_pred = clf.predict(X_test_e)\n",
    "\n",
    "print(\"Accuracy:\", accuracy_score(y_test_e, y_pred))\n",
    "print(classification_report(y_test_e, y_pred, digits=6))"
   ]
  },
  {
   "cell_type": "code",
   "execution_count": null,
   "id": "b25046d1",
   "metadata": {},
   "outputs": [],
   "source": []
  }
 ],
 "metadata": {
  "kernelspec": {
   "display_name": "Python 3 (ipykernel)",
   "language": "python",
   "name": "python3"
  },
  "language_info": {
   "codemirror_mode": {
    "name": "ipython",
    "version": 3
   },
   "file_extension": ".py",
   "mimetype": "text/x-python",
   "name": "python",
   "nbconvert_exporter": "python",
   "pygments_lexer": "ipython3",
   "version": "3.9.12"
  }
 },
 "nbformat": 4,
 "nbformat_minor": 5
}
